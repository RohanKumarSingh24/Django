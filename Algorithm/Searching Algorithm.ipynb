{
 "cells": [
  {
   "cell_type": "code",
   "execution_count": 1,
   "metadata": {},
   "outputs": [],
   "source": [
    "# Linear Search\n",
    "#O(n)"
   ]
  },
  {
   "cell_type": "code",
   "execution_count": 5,
   "metadata": {},
   "outputs": [
    {
     "data": {
      "text/plain": [
       "False"
      ]
     },
     "execution_count": 5,
     "metadata": {},
     "output_type": "execute_result"
    }
   ],
   "source": [
    "def LinearSearch(arr,n,skey):\n",
    "    for i in range(n):\n",
    "        if arr[i]==skey:\n",
    "            return True\n",
    "    return False\n",
    "arr=[1,2,6,7,8,3,9]\n",
    "n=len(arr)\n",
    "LinearSearch(arr,n,10)"
   ]
  },
  {
   "cell_type": "code",
   "execution_count": 6,
   "metadata": {},
   "outputs": [],
   "source": [
    "#Binary Search\n",
    "#O(logn)"
   ]
  },
  {
   "cell_type": "code",
   "execution_count": 39,
   "metadata": {},
   "outputs": [
    {
     "name": "stdout",
     "output_type": "stream",
     "text": [
      "Element present in index 4\n"
     ]
    }
   ],
   "source": [
    "def BinarySearch(arr,l,n,key):\n",
    "    \n",
    "    if n >= l:\n",
    "        \n",
    "        mid=l+(n-l) //2\n",
    "        \n",
    "        \n",
    "        if arr[mid]==key:\n",
    "            return mid\n",
    "        \n",
    "        elif arr[mid]>key:\n",
    "            \n",
    "            return BinarySearch(arr,l,mid-1,key)\n",
    "            \n",
    "        else:\n",
    "            \n",
    "            return BinarySearch(arr,mid+1,n,key)\n",
    "            \n",
    "    else:\n",
    "        return -1\n",
    "            \n",
    "        \n",
    "            \n",
    "            \n",
    "arr=[2,3,4,10,30]  \n",
    "\n",
    "\n",
    "result=BinarySearch(arr,0,len(arr)-1,30)\n",
    "\n",
    "if result!=-1:\n",
    "    print(\"Element present in index\",result)\n",
    "else:\n",
    "    print('Element not present in array')"
   ]
  },
  {
   "cell_type": "code",
   "execution_count": 40,
   "metadata": {},
   "outputs": [],
   "source": [
    "#jump Search\n",
    "#O(underroot(n))"
   ]
  },
  {
   "cell_type": "code",
   "execution_count": null,
   "metadata": {},
   "outputs": [],
   "source": [
    "#Interpolation Search\n",
    "#o(log log n)"
   ]
  }
 ],
 "metadata": {
  "kernelspec": {
   "display_name": "Python 3",
   "language": "python",
   "name": "python3"
  },
  "language_info": {
   "codemirror_mode": {
    "name": "ipython",
    "version": 3
   },
   "file_extension": ".py",
   "mimetype": "text/x-python",
   "name": "python",
   "nbconvert_exporter": "python",
   "pygments_lexer": "ipython3",
   "version": "3.8.2"
  }
 },
 "nbformat": 4,
 "nbformat_minor": 4
}
