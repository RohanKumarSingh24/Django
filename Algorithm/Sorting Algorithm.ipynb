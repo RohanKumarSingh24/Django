{
 "cells": [
  {
   "cell_type": "code",
   "execution_count": 1,
   "metadata": {},
   "outputs": [],
   "source": [
    "#Selection Sort\n",
    "#O(n^2)"
   ]
  },
  {
   "cell_type": "code",
   "execution_count": 10,
   "metadata": {},
   "outputs": [
    {
     "name": "stdout",
     "output_type": "stream",
     "text": [
      "11\n",
      "12\n",
      "22\n",
      "25\n",
      "64\n"
     ]
    }
   ],
   "source": [
    "def Selectionsort(arr,n):\n",
    "    \n",
    "    for i in range(n):\n",
    "        \n",
    "        min_value=i\n",
    "        \n",
    "        for j in range(i+1,n):\n",
    "            if arr[min_value]>arr[j]:\n",
    "                min_value=j\n",
    "        arr[i],arr[min_value]=arr[min_value],arr[i] \n",
    "    \n",
    "arr=[64,25,12,22,11]\n",
    "n=len(arr)\n",
    "Selectionsort(arr,n)\n",
    "for i in range(n):\n",
    "    print(arr[i])"
   ]
  },
  {
   "cell_type": "code",
   "execution_count": 11,
   "metadata": {},
   "outputs": [],
   "source": [
    "# Bubble Sort\n",
    "#O(n*n)"
   ]
  },
  {
   "cell_type": "code",
   "execution_count": 1,
   "metadata": {},
   "outputs": [
    {
     "name": "stdout",
     "output_type": "stream",
     "text": [
      "11\n",
      "12\n",
      "22\n",
      "25\n",
      "34\n",
      "64\n",
      "90\n"
     ]
    }
   ],
   "source": [
    "def Bubblesort(arr):\n",
    "    n=len(arr)\n",
    "    for i in range(n):\n",
    "        \n",
    "        for j in range(0,n-i-1):\n",
    "            if arr[j]>arr[j+1]:\n",
    "                arr[j],arr[j+1]=arr[j+1],arr[j]\n",
    "                \n",
    "arr=[64,34,25,12,22,11,90]\n",
    "Bubblesort(arr)\n",
    "for i in range(len(arr)):\n",
    "    print(arr[i])\n",
    "                "
   ]
  },
  {
   "cell_type": "code",
   "execution_count": null,
   "metadata": {},
   "outputs": [],
   "source": [
    "#Insertion Sort\n",
    "#o(n*2)"
   ]
  },
  {
   "cell_type": "code",
   "execution_count": 4,
   "metadata": {},
   "outputs": [
    {
     "name": "stdout",
     "output_type": "stream",
     "text": [
      "5\n",
      "6\n",
      "11\n",
      "12\n",
      "13\n"
     ]
    }
   ],
   "source": [
    "def InsertionSort(arr):\n",
    "    for i in range(1,len(arr)):\n",
    "        key=arr[i]\n",
    "        j=i-1\n",
    "        while(j>=0 and arr[j]>key):\n",
    "            arr[j+1]=arr[j]\n",
    "            j-=1\n",
    "        arr[j+1]=key    \n",
    "        \n",
    "arr=[12,11,13,5,6]\n",
    "InsertionSort(arr)\n",
    "for i in range(len(arr)):\n",
    "    print(arr[i])\n",
    "        "
   ]
  },
  {
   "cell_type": "code",
   "execution_count": 25,
   "metadata": {},
   "outputs": [],
   "source": [
    "# Merge Sort\n",
    "#O(nlogn)"
   ]
  },
  {
   "cell_type": "code",
   "execution_count": 29,
   "metadata": {},
   "outputs": [
    {
     "name": "stdout",
     "output_type": "stream",
     "text": [
      "Before Sort:\n",
      "12\n",
      "11\n",
      "13\n",
      "5\n",
      "6\n",
      "7\n",
      "After Sort:\n",
      "5\n",
      "6\n",
      "7\n",
      "11\n",
      "12\n",
      "13\n"
     ]
    }
   ],
   "source": [
    "def MergeSort(arr):\n",
    "    if len(arr)>1:\n",
    "        mid=len(arr)//2\n",
    "        L=arr[:mid]\n",
    "        R=arr[mid:]\n",
    "        MergeSort(L)\n",
    "        MergeSort(R)\n",
    "        \n",
    "        i=j=k=0\n",
    "        \n",
    "        while(i < len(L)) and (j< len(R)):\n",
    "            \n",
    "            if L[i]<R[j]:\n",
    "                arr[k]=L[i]\n",
    "                i+=1\n",
    "            else:\n",
    "                arr[k]=R[j]\n",
    "                j+=1\n",
    "            k+=1  \n",
    "        while(i<len(L)):\n",
    "            arr[k]=L[i]\n",
    "            i+=1\n",
    "            k+=1\n",
    "            \n",
    "        while(j<len(R)):\n",
    "            arr[k]=R[j]\n",
    "            j+=1\n",
    "            k+=1\n",
    "def printsort(arr):\n",
    "    for i in range(len(arr)):\n",
    "        print(arr[i])\n",
    "    \n",
    "arr = [12, 11, 13, 5, 6, 7]\n",
    "print('Before Sort:')\n",
    "printsort(arr)\n",
    "MergeSort(arr)\n",
    "print(\"After Sort:\")\n",
    "printsort(arr)"
   ]
  },
  {
   "cell_type": "code",
   "execution_count": null,
   "metadata": {},
   "outputs": [],
   "source": [
    "#Quick Sort\n",
    "#best case=O(nlogn)\n",
    "#worst case=O(n^2)"
   ]
  },
  {
   "cell_type": "code",
   "execution_count": 8,
   "metadata": {},
   "outputs": [
    {
     "name": "stdout",
     "output_type": "stream",
     "text": [
      "pi: 4\n",
      "pi: 3\n",
      "pi: 2\n",
      "pi: 1\n",
      "pi: 5\n",
      "10\n",
      "30\n",
      "40\n",
      "50\n",
      "70\n",
      "80\n",
      "90\n"
     ]
    }
   ],
   "source": [
    "def quicksort(arr,low,high):\n",
    "    \n",
    "    if (low < high):\n",
    "        \n",
    "        pi=partition(arr,low,high)\n",
    "        print('pi:',pi)\n",
    "        \n",
    "        quicksort(arr,low,pi-1)\n",
    "        quicksort(arr,pi+1,high)\n",
    "        \n",
    "def partition(arr,low,high):\n",
    "    \n",
    "    pivot=arr[high]\n",
    "    i=low-1\n",
    "    \n",
    "    for j in range(low,high):\n",
    "        \n",
    "        if (arr[j]<pivot):\n",
    "            i=i+1\n",
    "            arr[i],arr[j]=arr[j],arr[i]\n",
    "            \n",
    "    arr[i+1],arr[high]=arr[high],arr[i+1]\n",
    "    return (i+1)\n",
    "        \n",
    "#arr=[10, 7, 8, 9, 1, 5]\n",
    "arr=[10, 80, 30, 90, 40, 50, 70]\n",
    "n=len(arr)\n",
    "quicksort(arr,0,n-1)\n",
    "for i in range(n):\n",
    "    print(arr[i])"
   ]
  },
  {
   "cell_type": "code",
   "execution_count": null,
   "metadata": {},
   "outputs": [],
   "source": []
  }
 ],
 "metadata": {
  "kernelspec": {
   "display_name": "Python 3",
   "language": "python",
   "name": "python3"
  },
  "language_info": {
   "codemirror_mode": {
    "name": "ipython",
    "version": 3
   },
   "file_extension": ".py",
   "mimetype": "text/x-python",
   "name": "python",
   "nbconvert_exporter": "python",
   "pygments_lexer": "ipython3",
   "version": "3.8.2"
  }
 },
 "nbformat": 4,
 "nbformat_minor": 4
}
