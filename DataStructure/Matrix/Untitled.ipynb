{
 "cells": [
  {
   "cell_type": "code",
   "execution_count": 1,
   "metadata": {},
   "outputs": [
    {
     "data": {
      "text/plain": [
       "40"
      ]
     },
     "execution_count": 1,
     "metadata": {},
     "output_type": "execute_result"
    }
   ],
   "source": [
    "import numpy as np\n",
    "a=np.random.randint(1,100)\n",
    "a\n"
   ]
  },
  {
   "cell_type": "code",
   "execution_count": 2,
   "metadata": {},
   "outputs": [
    {
     "name": "stdout",
     "output_type": "stream",
     "text": [
      "[[4, 1, 2], [7, 5, 3], [8, 9, 6]]\n"
     ]
    }
   ],
   "source": [
    "m=[\n",
    "    [1,2,3],\n",
    "    [4,5,6],\n",
    "    [7,8,9]\n",
    "  ]\n",
    "top=0\n",
    "bottom=len(m[0])-1\n",
    "\n",
    "left=0\n",
    "right=len(m)-1\n",
    "\n",
    "while(top<bottom and left<right):\n",
    "        \n",
    "    prev=m[top+1][left]\n",
    "    for i in range(left,right+1):\n",
    "        current=m[top][i]\n",
    "        m[top][i]=prev\n",
    "        prev=current\n",
    "    top+=1\n",
    "    \n",
    "    for j in range(top,bottom+1):\n",
    "        current=m[j][right]\n",
    "        m[j][right]=prev\n",
    "        prev=current\n",
    "    right-=1    \n",
    "    \n",
    "    for i in range(right,left-1,-1):\n",
    "        current=m[bottom][i]\n",
    "        m[bottom][i]=prev\n",
    "        prev=current\n",
    "    bottom-=1\n",
    "    \n",
    "    for i in range(bottom,top-1,-1):\n",
    "        current=m[i][left]\n",
    "        m[i][left]=prev\n",
    "        prev=current\n",
    "    left+=1    \n",
    "print(m)    "
   ]
  },
  {
   "cell_type": "code",
   "execution_count": 3,
   "metadata": {},
   "outputs": [
    {
     "name": "stdout",
     "output_type": "stream",
     "text": [
      "[1, 4, 7]\n",
      "[2, 5, 8]\n",
      "[3, 6, 9]\n"
     ]
    }
   ],
   "source": [
    "m=[\n",
    "    [1,2,3],\n",
    "    [4,5,6],\n",
    "    [7,8,9]\n",
    "  ]\n",
    "a=[[m[i][j] for i in range(len(m))]for j in range(len(m[0]))]\n",
    "for t in a:\n",
    "    print(t)"
   ]
  },
  {
   "cell_type": "code",
   "execution_count": 4,
   "metadata": {},
   "outputs": [
    {
     "name": "stdout",
     "output_type": "stream",
     "text": [
      "[1. 4. 7.]\n",
      "[2. 5. 8.]\n",
      "[3. 6. 9.]\n"
     ]
    }
   ],
   "source": [
    "m=[\n",
    "    [1,2,3],\n",
    "    [4,5,6],\n",
    "    [7,8,9]\n",
    "  ]\n",
    "# a=[[0,0,0],\n",
    "#    [0,0,0],\n",
    "#    [0,0,0]\n",
    "#   ]\n",
    "\n",
    "a=np.zeros([3,3])\n",
    "for i in range(len(m)):\n",
    "    for j in range(len(m[0])):\n",
    "        a[j][i]=m[i][j]\n",
    "for k in a:\n",
    "    print(k)"
   ]
  },
  {
   "cell_type": "code",
   "execution_count": 5,
   "metadata": {},
   "outputs": [
    {
     "data": {
      "text/plain": [
       "array([[0., 0., 0.],\n",
       "       [0., 0., 0.],\n",
       "       [0., 0., 0.]])"
      ]
     },
     "execution_count": 5,
     "metadata": {},
     "output_type": "execute_result"
    }
   ],
   "source": [
    "import numpy as np\n",
    "a=np.zeros([3,3])\n",
    "a\n",
    "\n"
   ]
  },
  {
   "cell_type": "code",
   "execution_count": null,
   "metadata": {},
   "outputs": [],
   "source": []
  },
  {
   "cell_type": "code",
   "execution_count": 6,
   "metadata": {},
   "outputs": [
    {
     "name": "stdout",
     "output_type": "stream",
     "text": [
      "[[4, 1, 2], [7, 5, 3], [8, 9, 6]]\n"
     ]
    }
   ],
   "source": [
    "mat=[[1,2,3],\n",
    "     [4,5,6],\n",
    "     [7,8,9],\n",
    "    ] \n",
    "top=0\n",
    "bottom=len(mat)-1\n",
    "\n",
    "left=0\n",
    "right=len(mat[0])-1\n",
    "\n",
    "while(top<bottom and left<right):\n",
    "    \n",
    "    prev=mat[top+1][left]\n",
    "    \n",
    "    for i in range(left,right+1):\n",
    "        current=mat[top][i]\n",
    "        mat[top][i]=prev\n",
    "        prev=current\n",
    "    top+=1 \n",
    "    \n",
    "\n",
    "\n",
    "    for i in range(top,bottom+1):\n",
    "        current=mat[i][right]\n",
    "        mat[i][right]=prev\n",
    "        prev=current\n",
    "    right-=1\n",
    "    \n",
    "    for i in range(right,left-1,-1):\n",
    "        current=mat[bottom][i]\n",
    "        mat[bottom][i]=prev\n",
    "        prev=current\n",
    "    bottom-=1   \n",
    "    \n",
    "    for i in range(bottom,top-1,-1):\n",
    "        current=mat[i][left]\n",
    "        mat[i][left]=prev\n",
    "        prev=current\n",
    "    left+=1    \n",
    "print(mat)"
   ]
  },
  {
   "cell_type": "code",
   "execution_count": 7,
   "metadata": {},
   "outputs": [],
   "source": [
    "a=[5,9,8]\n",
    "b=[4,3,2]\n",
    "c=[7,1,4]\n",
    "ma=np.matrix([a,b,c])\n"
   ]
  },
  {
   "cell_type": "code",
   "execution_count": 8,
   "metadata": {},
   "outputs": [
    {
     "data": {
      "text/plain": [
       "matrix([[5, 4, 7],\n",
       "        [9, 3, 1],\n",
       "        [8, 2, 4]])"
      ]
     },
     "execution_count": 8,
     "metadata": {},
     "output_type": "execute_result"
    }
   ],
   "source": [
    "# Transpose of matrix using T\n",
    "\n",
    "ma.T"
   ]
  },
  {
   "cell_type": "code",
   "execution_count": 9,
   "metadata": {},
   "outputs": [
    {
     "data": {
      "text/plain": [
       "matrix([[5, 4, 7],\n",
       "        [9, 3, 1],\n",
       "        [8, 2, 4]])"
      ]
     },
     "execution_count": 9,
     "metadata": {},
     "output_type": "execute_result"
    }
   ],
   "source": [
    "# Transpose of matrix Using transpose()\n",
    "\n",
    "ma.transpose()"
   ]
  },
  {
   "cell_type": "code",
   "execution_count": 10,
   "metadata": {},
   "outputs": [
    {
     "data": {
      "text/plain": [
       "matrix([[-0.09615385,  0.26923077,  0.05769231],\n",
       "        [ 0.01923077,  0.34615385, -0.21153846],\n",
       "        [ 0.16346154, -0.55769231,  0.20192308]])"
      ]
     },
     "execution_count": 10,
     "metadata": {},
     "output_type": "execute_result"
    }
   ],
   "source": [
    "# Inverse of matrix\n",
    "ma.I"
   ]
  },
  {
   "cell_type": "code",
   "execution_count": 11,
   "metadata": {},
   "outputs": [],
   "source": [
    "# x + y − z = 4\n",
    "\n",
    "# x − 2y + 3z = −6\n",
    "\n",
    "# 2x + 3y + z = 7"
   ]
  },
  {
   "cell_type": "code",
   "execution_count": 12,
   "metadata": {},
   "outputs": [
    {
     "data": {
      "text/plain": [
       "matrix([[ 1,  1, -1],\n",
       "        [ 1, -2,  3],\n",
       "        [ 2,  3,  1]])"
      ]
     },
     "execution_count": 12,
     "metadata": {},
     "output_type": "execute_result"
    }
   ],
   "source": [
    "left_side=np.matrix([[1,1,-1],\n",
    "           [1,-2,3],\n",
    "           [2,3,1]])\n",
    "left_side\n"
   ]
  },
  {
   "cell_type": "code",
   "execution_count": 13,
   "metadata": {},
   "outputs": [],
   "source": [
    "right_side=np.matrix([[4],\n",
    "                      [-6],\n",
    "                      [7]])"
   ]
  },
  {
   "cell_type": "code",
   "execution_count": 14,
   "metadata": {},
   "outputs": [
    {
     "data": {
      "text/plain": [
       "matrix([[ 0.84615385,  0.30769231, -0.07692308],\n",
       "        [-0.38461538, -0.23076923,  0.30769231],\n",
       "        [-0.53846154,  0.07692308,  0.23076923]])"
      ]
     },
     "execution_count": 14,
     "metadata": {},
     "output_type": "execute_result"
    }
   ],
   "source": [
    "#solution:\n",
    "left_side_inverse=left_side.I\n",
    "left_side_inverse"
   ]
  },
  {
   "cell_type": "code",
   "execution_count": 15,
   "metadata": {},
   "outputs": [
    {
     "data": {
      "text/plain": [
       "matrix([[ 1.],\n",
       "        [ 2.],\n",
       "        [-1.]])"
      ]
     },
     "execution_count": 15,
     "metadata": {},
     "output_type": "execute_result"
    }
   ],
   "source": [
    "solution=left_side_inverse*right_side\n",
    "solution"
   ]
  },
  {
   "cell_type": "code",
   "execution_count": 16,
   "metadata": {},
   "outputs": [],
   "source": [
    "#for check your result:\n",
    "\n"
   ]
  },
  {
   "cell_type": "code",
   "execution_count": 17,
   "metadata": {},
   "outputs": [
    {
     "data": {
      "text/plain": [
       "array([[[ 0,  1,  2,  3],\n",
       "        [ 4,  5,  6,  7],\n",
       "        [ 8,  9, 10, 11]],\n",
       "\n",
       "       [[12, 13, 14, 15],\n",
       "        [16, 17, 18, 19],\n",
       "        [20, 21, 22, 23]]])"
      ]
     },
     "execution_count": 17,
     "metadata": {},
     "output_type": "execute_result"
    }
   ],
   "source": [
    "a=np.array(np.arange(24).reshape(2,3,4))\n",
    "a"
   ]
  },
  {
   "cell_type": "code",
   "execution_count": 18,
   "metadata": {},
   "outputs": [
    {
     "data": {
      "text/plain": [
       "array([ 0,  1,  2,  3,  4,  5,  6,  7,  8,  9, 10, 11, 12, 13, 14, 15, 16,\n",
       "       17, 18, 19, 20, 21, 22, 23, 23, 24, 25, 26])"
      ]
     },
     "execution_count": 18,
     "metadata": {},
     "output_type": "execute_result"
    }
   ],
   "source": [
    "b=np.append(a,[23,24,25,26])\n",
    "b"
   ]
  },
  {
   "cell_type": "code",
   "execution_count": 19,
   "metadata": {},
   "outputs": [
    {
     "data": {
      "text/plain": [
       "array([[[25, 24, 29, 95, 51],\n",
       "        [59, 32, 84, 75, 89]],\n",
       "\n",
       "       [[81, 67, 93, 39, 90],\n",
       "        [58, 57, 93, 79, 71]]])"
      ]
     },
     "execution_count": 19,
     "metadata": {},
     "output_type": "execute_result"
    }
   ],
   "source": [
    "t=np.array(np.random.randint(1,100,20).reshape(2,2,5))\n",
    "t"
   ]
  },
  {
   "cell_type": "code",
   "execution_count": 20,
   "metadata": {},
   "outputs": [
    {
     "data": {
      "text/plain": [
       "array([[[  3,  13,  23,  33,  43],\n",
       "        [ 53,  63,  73,  83,  93]],\n",
       "\n",
       "       [[103, 113, 123, 133, 143],\n",
       "        [153, 163, 173, 183, 193]]])"
      ]
     },
     "execution_count": 20,
     "metadata": {},
     "output_type": "execute_result"
    }
   ],
   "source": [
    "t1=np.array(np.arange(20).reshape(2,2,5))*10+3\n",
    "t1"
   ]
  },
  {
   "cell_type": "code",
   "execution_count": 21,
   "metadata": {},
   "outputs": [
    {
     "data": {
      "text/plain": [
       "array([[[ 25,  24,  29,  95,  51],\n",
       "        [ 59,  32,  84,  75,  89]],\n",
       "\n",
       "       [[ 81,  67,  93,  39,  90],\n",
       "        [ 58,  57,  93,  79,  71]],\n",
       "\n",
       "       [[  3,  13,  23,  33,  43],\n",
       "        [ 53,  63,  73,  83,  93]],\n",
       "\n",
       "       [[103, 113, 123, 133, 143],\n",
       "        [153, 163, 173, 183, 193]]])"
      ]
     },
     "execution_count": 21,
     "metadata": {},
     "output_type": "execute_result"
    }
   ],
   "source": [
    "#append using axis\n",
    "\n",
    "np.append(t,t1,axis=0)"
   ]
  },
  {
   "cell_type": "code",
   "execution_count": 22,
   "metadata": {},
   "outputs": [
    {
     "data": {
      "text/plain": [
       "array([[[ 25,  24,  29,  95,  51],\n",
       "        [ 59,  32,  84,  75,  89],\n",
       "        [  3,  13,  23,  33,  43],\n",
       "        [ 53,  63,  73,  83,  93]],\n",
       "\n",
       "       [[ 81,  67,  93,  39,  90],\n",
       "        [ 58,  57,  93,  79,  71],\n",
       "        [103, 113, 123, 133, 143],\n",
       "        [153, 163, 173, 183, 193]]])"
      ]
     },
     "execution_count": 22,
     "metadata": {},
     "output_type": "execute_result"
    }
   ],
   "source": [
    "np.append(t,t1,axis=1)"
   ]
  },
  {
   "cell_type": "code",
   "execution_count": 23,
   "metadata": {},
   "outputs": [
    {
     "data": {
      "text/plain": [
       "array([[[ 25,  24,  29,  95,  51,   3,  13,  23,  33,  43],\n",
       "        [ 59,  32,  84,  75,  89,  53,  63,  73,  83,  93]],\n",
       "\n",
       "       [[ 81,  67,  93,  39,  90, 103, 113, 123, 133, 143],\n",
       "        [ 58,  57,  93,  79,  71, 153, 163, 173, 183, 193]]])"
      ]
     },
     "execution_count": 23,
     "metadata": {},
     "output_type": "execute_result"
    }
   ],
   "source": [
    "np.append(t,t1,axis=2)"
   ]
  },
  {
   "cell_type": "code",
   "execution_count": null,
   "metadata": {},
   "outputs": [],
   "source": []
  },
  {
   "cell_type": "code",
   "execution_count": null,
   "metadata": {},
   "outputs": [],
   "source": []
  },
  {
   "cell_type": "code",
   "execution_count": 24,
   "metadata": {},
   "outputs": [
    {
     "data": {
      "text/plain": [
       "8"
      ]
     },
     "execution_count": 24,
     "metadata": {},
     "output_type": "execute_result"
    }
   ],
   "source": [
    "l=[5,3,6,2,4]\n",
    "l.extend([9,78,89])\n",
    "\n",
    "len(l)"
   ]
  },
  {
   "cell_type": "code",
   "execution_count": 25,
   "metadata": {},
   "outputs": [],
   "source": [
    "l.append([10,20,30])"
   ]
  },
  {
   "cell_type": "code",
   "execution_count": 26,
   "metadata": {},
   "outputs": [
    {
     "name": "stdout",
     "output_type": "stream",
     "text": [
      "9\n"
     ]
    },
    {
     "data": {
      "text/plain": [
       "[5, 3, 6, 2, 4, 9, 78, 89, [10, 20, 30]]"
      ]
     },
     "execution_count": 26,
     "metadata": {},
     "output_type": "execute_result"
    }
   ],
   "source": [
    "print(len(l))\n",
    "l"
   ]
  },
  {
   "cell_type": "code",
   "execution_count": 27,
   "metadata": {},
   "outputs": [
    {
     "data": {
      "text/plain": [
       "[5, 3, 6, 2, 4, 9, 78, 89, [3, 20, 30]]"
      ]
     },
     "execution_count": 27,
     "metadata": {},
     "output_type": "execute_result"
    }
   ],
   "source": [
    "import copy\n",
    "c=copy.copy(l)\n",
    "c[8][0]=3\n",
    "c"
   ]
  },
  {
   "cell_type": "code",
   "execution_count": 28,
   "metadata": {},
   "outputs": [
    {
     "data": {
      "text/plain": [
       "[5, 3, 6, 2, 4, 9, 78, 89, [3, 20, 30]]"
      ]
     },
     "execution_count": 28,
     "metadata": {},
     "output_type": "execute_result"
    }
   ],
   "source": [
    "l"
   ]
  },
  {
   "cell_type": "code",
   "execution_count": 29,
   "metadata": {},
   "outputs": [
    {
     "data": {
      "text/plain": [
       "[5, 3, 6, 2, 4, 9, 78, 89, [3, 7, 30]]"
      ]
     },
     "execution_count": 29,
     "metadata": {},
     "output_type": "execute_result"
    }
   ],
   "source": [
    "d=copy.deepcopy(l)\n",
    "d[8][1]=7\n",
    "d"
   ]
  },
  {
   "cell_type": "code",
   "execution_count": 30,
   "metadata": {},
   "outputs": [
    {
     "data": {
      "text/plain": [
       "[5, 3, 6, 2, 4, 9, 78, 89, [3, 20, 30]]"
      ]
     },
     "execution_count": 30,
     "metadata": {},
     "output_type": "execute_result"
    }
   ],
   "source": [
    "l"
   ]
  },
  {
   "cell_type": "code",
   "execution_count": null,
   "metadata": {},
   "outputs": [],
   "source": []
  },
  {
   "cell_type": "code",
   "execution_count": null,
   "metadata": {},
   "outputs": [],
   "source": []
  },
  {
   "cell_type": "code",
   "execution_count": null,
   "metadata": {},
   "outputs": [],
   "source": []
  }
 ],
 "metadata": {
  "kernelspec": {
   "display_name": "Python 3",
   "language": "python",
   "name": "python3"
  },
  "language_info": {
   "codemirror_mode": {
    "name": "ipython",
    "version": 3
   },
   "file_extension": ".py",
   "mimetype": "text/x-python",
   "name": "python",
   "nbconvert_exporter": "python",
   "pygments_lexer": "ipython3",
   "version": "3.8.2"
  }
 },
 "nbformat": 4,
 "nbformat_minor": 4
}
