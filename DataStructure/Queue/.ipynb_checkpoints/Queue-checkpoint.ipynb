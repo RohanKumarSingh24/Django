{
 "cells": [
  {
   "cell_type": "code",
   "execution_count": 3,
   "metadata": {},
   "outputs": [],
   "source": [
    "# Queue in Python\n",
    "# Like stack, queue is a linear data structure that stores items in First In First Out (FIFO) manner.\n",
    "# With a queue the least recently added item is removed first. A good example of queue is any queue\n",
    "# of consumers for a resource where the consumer that came first is served first.\n",
    "\n",
    "# Operations associated with queue are:\n",
    "    \n",
    "# Enqueue: Adds an item to the queue. If the queue is full, then it is said to be an Overflow condition – \n",
    "#          Time Complexity : O(1)\n",
    "# Dequeue: Removes an item from the queue. The items are popped in the same order in which they are pushed. \n",
    "#          If the queue is empty, then it is said to be an Underflow condition – Time Complexity : O(1)\n",
    "# Front: Get the front item from queue – Time Complexity : O(1)\n",
    "# Rear: Get the last item from queue – Time Complexity : O(1)\n"
   ]
  },
  {
   "cell_type": "code",
   "execution_count": 4,
   "metadata": {},
   "outputs": [],
   "source": [
    "# Implementation:\n",
    "    \n",
    "# There are various ways to implement a queue in Python. This article covers the implementation of \n",
    "# queue using data structures and modules from Python library.\n",
    "\n",
    "# Queue in Python can be implemented by the following ways:\n",
    "\n",
    "# list\n",
    "# collections.deque\n",
    "# queue.Queue"
   ]
  },
  {
   "cell_type": "code",
   "execution_count": 5,
   "metadata": {},
   "outputs": [],
   "source": [
    "# Implementation using list:\n",
    "    \n",
    "# List is a Python’s built-in data structure that can be used as a queue. \n",
    "# Instead of enqueue() and dequeue(), append() and pop() function is used. \n",
    "# However, lists are quite slow for this purpose because inserting or deleting an \n",
    "# element at the beginning requires shifting all of the other elements by one, requiring O(n) time."
   ]
  },
  {
   "cell_type": "code",
   "execution_count": 6,
   "metadata": {},
   "outputs": [],
   "source": [
    "# Queue Implementaton using List:\n"
   ]
  },
  {
   "cell_type": "code",
   "execution_count": 12,
   "metadata": {},
   "outputs": [
    {
     "name": "stdout",
     "output_type": "stream",
     "text": [
      "['a', 'b', 'c', 'd']\n",
      "['d']\n"
     ]
    }
   ],
   "source": [
    "queue=[]\n",
    "queue.append('a')\n",
    "queue.append('b')\n",
    "queue.append('c')\n",
    "queue.append('d')\n",
    "print(queue)\n",
    "\n",
    "queue.pop(0)\n",
    "queue.pop(0)\n",
    "queue.pop(0)\n",
    "print(queue)"
   ]
  },
  {
   "cell_type": "code",
   "execution_count": null,
   "metadata": {},
   "outputs": [],
   "source": [
    "Implementation using collections.deque:\n",
    "    \n",
    "Queue in Python can be implemented using deque class from the collections module. \n",
    "Deque is preferred over list in the cases where we need quicker append and pop operations from both \n",
    "the ends of container, as deque provides an O(1) time complexity for append and pop operations as \n",
    "compared to list which provides O(n) time complexity. \n",
    "Instead of enqueue and deque, append() and popleft() functions are used."
   ]
  },
  {
   "cell_type": "code",
   "execution_count": 13,
   "metadata": {},
   "outputs": [],
   "source": [
    "# Queue Implementation using collections(deque):"
   ]
  },
  {
   "cell_type": "code",
   "execution_count": 17,
   "metadata": {},
   "outputs": [
    {
     "name": "stdout",
     "output_type": "stream",
     "text": [
      "deque(['t', 'r', 's', 'p'])\n"
     ]
    },
    {
     "data": {
      "text/plain": [
       "'t'"
      ]
     },
     "execution_count": 17,
     "metadata": {},
     "output_type": "execute_result"
    }
   ],
   "source": [
    "from collections import deque\n",
    "\n",
    "queue=deque()\n",
    "queue.append('t')\n",
    "queue.append('r')\n",
    "queue.append('s')\n",
    "queue.append('p')\n",
    "print(queue)\n",
    "queue.popleft()"
   ]
  },
  {
   "cell_type": "code",
   "execution_count": 18,
   "metadata": {},
   "outputs": [],
   "source": [
    "# Implementation using queue.Queue\n",
    "# Queue is built-in module of Python which is used to implement a queue. \n",
    "# queue.Queue(maxsize) initializes a variable to a maximum size of maxsize. A maxsize of zero ‘0’ means a infinite queue. \n",
    "# This Queue follows FIFO rule.\n",
    "\n",
    "# There are various functions available in this module:\n",
    "\n",
    "# maxsize – Number of items allowed in the queue.\n",
    "# empty() – Return True if the queue is empty, False otherwise.\n",
    "# full() – Return True if there are maxsize items in the queue. If the queue was initialized with maxsize=0 \n",
    "#         (the default), then full() never returns True.\n",
    "# get() – Remove and return an item from the queue. If queue is empty, wait until an item is available.\n",
    "# get_nowait() – Return an item if one is immediately available, else raise QueueEmpty.\n",
    "# put(item) – Put an item into the queue. If the queue is full, wait until a free slot is available before adding the item.\n",
    "# put_nowait(item) – Put an item into the queue without blocking.\n",
    "# qsize() – Return the number of items in the queue. If no free slot is immediately available, raise QueueFull."
   ]
  },
  {
   "cell_type": "code",
   "execution_count": 19,
   "metadata": {},
   "outputs": [],
   "source": [
    "# Queue Implementation using queue"
   ]
  },
  {
   "cell_type": "code",
   "execution_count": 20,
   "metadata": {},
   "outputs": [],
   "source": [
    "from queue import Queue"
   ]
  },
  {
   "cell_type": "code",
   "execution_count": 25,
   "metadata": {},
   "outputs": [
    {
     "name": "stdout",
     "output_type": "stream",
     "text": [
      "True\n"
     ]
    },
    {
     "data": {
      "text/plain": [
       "False"
      ]
     },
     "execution_count": 25,
     "metadata": {},
     "output_type": "execute_result"
    }
   ],
   "source": [
    "queue=Queue(maxsize=4)\n",
    "queue.put('q')\n",
    "queue.put('t')\n",
    "queue.put('i')\n",
    "queue.put('f')\n",
    "print(queue.full())\n",
    "queue.qsize()\n",
    "queue.empty()\n"
   ]
  },
  {
   "cell_type": "code",
   "execution_count": null,
   "metadata": {},
   "outputs": [],
   "source": []
  },
  {
   "cell_type": "code",
   "execution_count": null,
   "metadata": {},
   "outputs": [],
   "source": []
  },
  {
   "cell_type": "code",
   "execution_count": null,
   "metadata": {},
   "outputs": [],
   "source": []
  },
  {
   "cell_type": "code",
   "execution_count": null,
   "metadata": {},
   "outputs": [],
   "source": []
  }
 ],
 "metadata": {
  "kernelspec": {
   "display_name": "Python 3",
   "language": "python",
   "name": "python3"
  },
  "language_info": {
   "codemirror_mode": {
    "name": "ipython",
    "version": 3
   },
   "file_extension": ".py",
   "mimetype": "text/x-python",
   "name": "python",
   "nbconvert_exporter": "python",
   "pygments_lexer": "ipython3",
   "version": "3.8.2"
  }
 },
 "nbformat": 4,
 "nbformat_minor": 4
}
