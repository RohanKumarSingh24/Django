{
 "cells": [
  {
   "cell_type": "code",
   "execution_count": 5,
   "metadata": {},
   "outputs": [],
   "source": [
    "# stack:\n",
    "\n",
    "# The Function associated #/with/ Stack:\n",
    "    \n",
    "# empty() – Returns whether the stack is empty – Time Complexity : O(1)\n",
    "# size() – Returns the size of the stack – Time Complexity : O(1)\n",
    "# top() – Returns a reference to the top most element of the stack – Time Complexity : O(1)\n",
    "# push(g) – Adds the element ‘g’ at the top of the stack – Time Complexity : O(1)\n",
    "# pop() – Deletes the top most element of the stack – Time Complexity : O(1)\n",
    "    \n",
    "    \n",
    "    \n",
    "# There are various ways from which a stack can be implemented in Python. \n",
    "# This article covers the implementation of stack using data structures and modules from Python library.\n",
    "\n",
    "# Stack in Python can be implemented using following ways:\n",
    "\n",
    "# list\n",
    "# collections.deque\n",
    "# queue.LifoQueue    "
   ]
  },
  {
   "cell_type": "code",
   "execution_count": 16,
   "metadata": {},
   "outputs": [],
   "source": [
    "# Python’s buil-in data structure list can be used as a stack. \n",
    "# Instead of push(), append() is used to add elements to the top \n",
    "# of stack while pop() removes the element in LIFO order.\n",
    "# Unfortunately, list has a few shortcomings. The biggest \n",
    "# issue is that it can run into speed issue as it grows. \n",
    "# The items in list are stored next to each other in memory, \n",
    "# if the stack grows bigger than the block of memory that currently hold it,\n",
    "# then Python needs to do some memory allocations. This can lead to some append() calls taking much\n",
    "# longer than other ones."
   ]
  },
  {
   "cell_type": "code",
   "execution_count": null,
   "metadata": {},
   "outputs": [],
   "source": [
    "# Stack Implementation using List:"
   ]
  },
  {
   "cell_type": "code",
   "execution_count": 52,
   "metadata": {},
   "outputs": [
    {
     "name": "stdout",
     "output_type": "stream",
     "text": [
      "['a', 'b', 'c']\n",
      "[]\n"
     ]
    }
   ],
   "source": [
    "stack=[]\n",
    "stack.append('a')\n",
    "stack.append('b')\n",
    "stack.append('c')\n",
    "print(stack)\n",
    "stack.pop()\n",
    "stack.pop()\n",
    "stack.pop()\n",
    "print(stack)"
   ]
  },
  {
   "cell_type": "code",
   "execution_count": 28,
   "metadata": {},
   "outputs": [],
   "source": [
    "# Implementation using collections.deque\n",
    "\n",
    "# Python stack can be implemented using deque class from collections module. \n",
    "# Deque is preferred over list in the cases where we need quicker append and \n",
    "# pop operations from both the ends of the container, as deque provides an O(1) time complexity\n",
    "# for append and pop operations as compared to list which provides O(n) time complexity.\n",
    "# Same methods on deque as seen in list are used, append() and pop()."
   ]
  },
  {
   "cell_type": "code",
   "execution_count": 18,
   "metadata": {},
   "outputs": [],
   "source": [
    "# Stack Implementation using collections(deque)\n"
   ]
  },
  {
   "cell_type": "code",
   "execution_count": 29,
   "metadata": {},
   "outputs": [
    {
     "name": "stdout",
     "output_type": "stream",
     "text": [
      "deque(['q', 'r', 's', 't', 'u'])\n"
     ]
    },
    {
     "data": {
      "text/plain": [
       "'u'"
      ]
     },
     "execution_count": 29,
     "metadata": {},
     "output_type": "execute_result"
    }
   ],
   "source": [
    "from collections import deque\n",
    "\n",
    "stack=deque()\n",
    "stack.append('q')\n",
    "stack.append('r')\n",
    "stack.append('s')\n",
    "stack.append('t')\n",
    "stack.append('u')\n",
    "print(stack)\n",
    "\n",
    "stack.pop()\n"
   ]
  },
  {
   "cell_type": "code",
   "execution_count": 30,
   "metadata": {},
   "outputs": [],
   "source": [
    "# Implemenation using queue module\n",
    "\n",
    "# Queue module also has a LIFO Queue, which is basically a Stack. \n",
    "# Data is inserted into Queue using put() function and get() takes data out from the Queue.\n",
    "# There are various functions available in this module:"
   ]
  },
  {
   "cell_type": "code",
   "execution_count": null,
   "metadata": {},
   "outputs": [],
   "source": [
    "# maxsize – Number of items allowed in the queue.\n",
    "# empty() – Return True if the queue is empty, False otherwise.\n",
    "# full() – Return True if there are maxsize items in the queue. If the queue was initialized with maxsize=0 (the default), \n",
    "# then full() never returns True.\n",
    "# get() – Remove and return an item from the queue. If queue is empty, wait until an item is available.\n",
    "# get_nowait() – Return an item if one is immediately available, else raise QueueEmpty.\n",
    "# put(item) – Put an item into the queue. If the queue is full, wait until a free slot is available before adding the item.\n",
    "# put_nowait(item) – Put an item into the queue without blocking.\n",
    "# qsize() – Return the number of items in the queue. If no free slot is immediately available, raise QueueFull."
   ]
  },
  {
   "cell_type": "code",
   "execution_count": null,
   "metadata": {},
   "outputs": [],
   "source": [
    "# Stack Implementation Using queue\n"
   ]
  },
  {
   "cell_type": "code",
   "execution_count": 46,
   "metadata": {},
   "outputs": [
    {
     "name": "stdout",
     "output_type": "stream",
     "text": [
      "False\n",
      "3\n"
     ]
    },
    {
     "data": {
      "text/plain": [
       "False"
      ]
     },
     "execution_count": 46,
     "metadata": {},
     "output_type": "execute_result"
    }
   ],
   "source": [
    "from queue import LifoQueue\n",
    "\n",
    "stack=LifoQueue(maxsize=5)\n",
    "stack.put('t')\n",
    "stack.put('f')\n",
    "stack.put('b')\n",
    "stack.put('m')\n",
    "print(stack.full())\n",
    "stack.get()\n",
    "print(stack.qsize())\n",
    "stack.empty()"
   ]
  },
  {
   "cell_type": "code",
   "execution_count": null,
   "metadata": {},
   "outputs": [],
   "source": []
  },
  {
   "cell_type": "code",
   "execution_count": null,
   "metadata": {},
   "outputs": [],
   "source": []
  },
  {
   "cell_type": "code",
   "execution_count": null,
   "metadata": {},
   "outputs": [],
   "source": []
  }
 ],
 "metadata": {
  "kernelspec": {
   "display_name": "Python 3",
   "language": "python",
   "name": "python3"
  },
  "language_info": {
   "codemirror_mode": {
    "name": "ipython",
    "version": 3
   },
   "file_extension": ".py",
   "mimetype": "text/x-python",
   "name": "python",
   "nbconvert_exporter": "python",
   "pygments_lexer": "ipython3",
   "version": "3.8.2"
  }
 },
 "nbformat": 4,
 "nbformat_minor": 4
}
