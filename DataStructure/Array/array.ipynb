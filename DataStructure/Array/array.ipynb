{
 "cells": [
  {
   "cell_type": "code",
   "execution_count": 1,
   "metadata": {},
   "outputs": [
    {
     "data": {
      "text/plain": [
       "array('i', [1, 2, 3, 4, 5, 6])"
      ]
     },
     "execution_count": 1,
     "metadata": {},
     "output_type": "execute_result"
    }
   ],
   "source": [
    "import array\n",
    "a=array.array('i',(1,2,3,4,5,6))\n",
    "a"
   ]
  },
  {
   "cell_type": "code",
   "execution_count": 2,
   "metadata": {},
   "outputs": [],
   "source": [
    "a.append(9)\n"
   ]
  },
  {
   "cell_type": "code",
   "execution_count": 3,
   "metadata": {},
   "outputs": [],
   "source": [
    "# append():This function is used to add value at end of the array\n",
    "# pop():This function removes the element at the position mentioned in its argument, and returns it.\n",
    "# insert(position,value):This function is used to add the value at the position specified in its argument.\n",
    "# remove():This function is used to remove the first occurrence of the value mentioned in its arguments.\n",
    "# reverse():This function reverses the array.\n",
    "# index():This function returns the index of the first occurrence of value mentioned in arguments\n",
    "\n",
    "# typecode :- This function returns the data type by which array is initialised.\n",
    "# itemsize :- This function returns size in bytes of a single array element.\n",
    "# buffer_info() :- Returns a tuple representing the address in which array is stored and number of elements in it.\n",
    "# count() :- This function counts the number of occurrences of argument mentioned in array\n",
    "# extend(arr) :- This function appends a whole array mentioned in its arguments to the specified array.\n",
    "# fromlist(list) :- This function is used to append a list mentioned in its argument to end of array.\n",
    "# tolist() :- This function is used to transform an array into a list."
   ]
  },
  {
   "cell_type": "code",
   "execution_count": 4,
   "metadata": {},
   "outputs": [],
   "source": [
    "a.insert(6,7)"
   ]
  },
  {
   "cell_type": "code",
   "execution_count": 5,
   "metadata": {},
   "outputs": [
    {
     "data": {
      "text/plain": [
       "9"
      ]
     },
     "execution_count": 5,
     "metadata": {},
     "output_type": "execute_result"
    }
   ],
   "source": [
    "a.pop()"
   ]
  },
  {
   "cell_type": "code",
   "execution_count": 6,
   "metadata": {},
   "outputs": [
    {
     "data": {
      "text/plain": [
       "7"
      ]
     },
     "execution_count": 6,
     "metadata": {},
     "output_type": "execute_result"
    }
   ],
   "source": [
    "a.pop(6)"
   ]
  },
  {
   "cell_type": "code",
   "execution_count": 7,
   "metadata": {},
   "outputs": [
    {
     "data": {
      "text/plain": [
       "array('i', [1, 2, 3, 4, 5, 6, 6])"
      ]
     },
     "execution_count": 7,
     "metadata": {},
     "output_type": "execute_result"
    }
   ],
   "source": [
    "a.append(6)\n",
    "a"
   ]
  },
  {
   "cell_type": "code",
   "execution_count": 8,
   "metadata": {},
   "outputs": [
    {
     "data": {
      "text/plain": [
       "array('i', [1, 2, 3, 4, 5, 6])"
      ]
     },
     "execution_count": 8,
     "metadata": {},
     "output_type": "execute_result"
    }
   ],
   "source": [
    "a.remove(6)\n",
    "a"
   ]
  },
  {
   "cell_type": "code",
   "execution_count": 9,
   "metadata": {},
   "outputs": [
    {
     "data": {
      "text/plain": [
       "array('i', [6, 5, 4, 3, 2, 1])"
      ]
     },
     "execution_count": 9,
     "metadata": {},
     "output_type": "execute_result"
    }
   ],
   "source": [
    "a.reverse()\n",
    "a"
   ]
  },
  {
   "cell_type": "code",
   "execution_count": 10,
   "metadata": {},
   "outputs": [
    {
     "data": {
      "text/plain": [
       "4"
      ]
     },
     "execution_count": 10,
     "metadata": {},
     "output_type": "execute_result"
    }
   ],
   "source": [
    "a.index(2)"
   ]
  },
  {
   "cell_type": "code",
   "execution_count": 11,
   "metadata": {},
   "outputs": [
    {
     "data": {
      "text/plain": [
       "'i'"
      ]
     },
     "execution_count": 11,
     "metadata": {},
     "output_type": "execute_result"
    }
   ],
   "source": [
    "a.typecode"
   ]
  },
  {
   "cell_type": "code",
   "execution_count": 12,
   "metadata": {},
   "outputs": [
    {
     "data": {
      "text/plain": [
       "4"
      ]
     },
     "execution_count": 12,
     "metadata": {},
     "output_type": "execute_result"
    }
   ],
   "source": [
    "a.itemsize"
   ]
  },
  {
   "cell_type": "code",
   "execution_count": 13,
   "metadata": {},
   "outputs": [
    {
     "data": {
      "text/plain": [
       "(140237682785856, 6)"
      ]
     },
     "execution_count": 13,
     "metadata": {},
     "output_type": "execute_result"
    }
   ],
   "source": [
    "a.buffer_info()"
   ]
  },
  {
   "cell_type": "code",
   "execution_count": 14,
   "metadata": {},
   "outputs": [
    {
     "data": {
      "text/plain": [
       "2"
      ]
     },
     "execution_count": 14,
     "metadata": {},
     "output_type": "execute_result"
    }
   ],
   "source": [
    "a1=array.array('i',(1,2,2,4,5))\n",
    "a1.count(2)"
   ]
  },
  {
   "cell_type": "code",
   "execution_count": 15,
   "metadata": {},
   "outputs": [
    {
     "name": "stdout",
     "output_type": "stream",
     "text": [
      "6\n",
      "5\n",
      "4\n",
      "3\n",
      "2\n",
      "1\n",
      "1\n",
      "2\n",
      "2\n",
      "4\n",
      "5\n"
     ]
    }
   ],
   "source": [
    "a.extend(a1)\n",
    "for i in range(0,11):\n",
    "    print(a[i])    "
   ]
  },
  {
   "cell_type": "code",
   "execution_count": 16,
   "metadata": {},
   "outputs": [],
   "source": [
    "li=[9,8,7]\n",
    "a.fromlist(li)\n"
   ]
  },
  {
   "cell_type": "code",
   "execution_count": 17,
   "metadata": {},
   "outputs": [],
   "source": [
    "li2=a.tolist()"
   ]
  },
  {
   "cell_type": "code",
   "execution_count": 18,
   "metadata": {},
   "outputs": [
    {
     "name": "stdout",
     "output_type": "stream",
     "text": [
      "3\n",
      "4\n",
      "5\n",
      "6\n",
      "7\n",
      "1\n",
      "2\n"
     ]
    }
   ],
   "source": [
    "def arrayleftrotate(arr,d,n):\n",
    "    for i in range(d):\n",
    "        arrayleftrotateone(arr,n)\n",
    "def arrayleftrotateone(arr,n):\n",
    "    temp=arr[0]\n",
    "    for i in range(n-1):\n",
    "        arr[i]=arr[i+1]\n",
    "    arr[n-1]=temp\n",
    "    \n",
    "def priintarray(arr,n):\n",
    "    for i in range(n):\n",
    "        print(arr[i])\n",
    "        \n",
    "arr=[1,2,3,4,5,6,7]\n",
    "d=2\n",
    "n=len(arr)\n",
    "arrayleftrotate(arr,d,n)\n",
    "priintarray(arr,n)"
   ]
  },
  {
   "cell_type": "code",
   "execution_count": 19,
   "metadata": {},
   "outputs": [
    {
     "name": "stdout",
     "output_type": "stream",
     "text": [
      "3\n",
      "4\n",
      "5\n",
      "6\n",
      "7\n",
      "1\n",
      "2\n"
     ]
    }
   ],
   "source": [
    "def reversearray(arr,start, end):\n",
    "    \n",
    "    while(start<end):\n",
    "        temp=arr[start]\n",
    "        arr[start]=arr[end]\n",
    "        arr[end]=temp\n",
    "        start=start+1\n",
    "        end=end-1\n",
    "        \n",
    "def leftrotatearray(arr,d):\n",
    "    \n",
    "    if d==0:\n",
    "        return\n",
    "    n=len(arr)\n",
    "    reversearray(arr,0,d-1)\n",
    "    reversearray(arr,d,n-1)\n",
    "    reversearray(arr,0,n-1)\n",
    "    \n",
    "    \n",
    "def printarray(arr):\n",
    "    \n",
    "    for i in range(len(arr)):\n",
    "        print(arr[i])\n",
    "        \n",
    "arr=[1,2,3,4,5,6,7]\n",
    "n=len(arr)\n",
    "d=2\n",
    "leftrotatearray(arr,d)\n",
    "printarray(arr)\n",
    "    \n",
    "    "
   ]
  },
  {
   "cell_type": "code",
   "execution_count": 20,
   "metadata": {},
   "outputs": [
    {
     "name": "stdout",
     "output_type": "stream",
     "text": [
      "key not found\n"
     ]
    }
   ],
   "source": [
    "def search(arr,key):\n",
    "    l=len(arr)\n",
    "    for i in range(0,l):\n",
    "        if arr[i]==key:\n",
    "            print(i)\n",
    "        \n",
    "    print('key not found')\n",
    "arr=[1,2,4,6,7,8,9,4]  \n",
    "key=10\n",
    "search(arr,key)        "
   ]
  },
  {
   "cell_type": "code",
   "execution_count": 21,
   "metadata": {},
   "outputs": [
    {
     "data": {
      "text/plain": [
       "False"
      ]
     },
     "execution_count": 21,
     "metadata": {},
     "output_type": "execute_result"
    }
   ],
   "source": [
    "import re\n",
    "def checkIFSC(str):\n",
    "    e=\"^[A-Z]{4}0[A-Z0-9]{6}$\"\n",
    "    if re.match(e,str):\n",
    "        return True\n",
    "    else:\n",
    "        return False\n",
    "checkIFSC(\"SBIN0ABCt0\")\n"
   ]
  },
  {
   "cell_type": "code",
   "execution_count": 22,
   "metadata": {},
   "outputs": [
    {
     "name": "stdout",
     "output_type": "stream",
     "text": [
      "1 2 8 3 "
     ]
    }
   ],
   "source": [
    "def maxvaluesum(arr,d):\n",
    "    l=len(arr)\n",
    "   \n",
    "    \n",
    "    for j in range(d):\n",
    "        temp=arr[0]\n",
    "        \n",
    "        \n",
    "        for i in range(l-1):\n",
    "            arr[i]=arr[i+1]\n",
    "            \n",
    "        arr[l-1]=temp \n",
    "        \n",
    "    for i in range(l):\n",
    "        print(arr[i],end=\" \")\n",
    "            \n",
    "        \n",
    "    \n",
    "#     maxsum=[]\n",
    "#     for k in range(0,l):\n",
    "#         cursum=0\n",
    "#         cursum=cursum+(k*arr[k])\n",
    "#         maxsum.append(cursum)\n",
    "                \n",
    "#         print(maxsum)\n",
    "                \n",
    "        \n",
    "            \n",
    "    \n",
    "        \n",
    "#arr=[1,20,2,10]\n",
    "#arr = [10, 1, 2, 3, 4, 5, 6, 7, 8, 9]\n",
    "arr= [8, 3, 1, 2]\n",
    "maxvaluesum(arr,d=2)        \n",
    "        "
   ]
  },
  {
   "cell_type": "code",
   "execution_count": 23,
   "metadata": {},
   "outputs": [
    {
     "name": "stdout",
     "output_type": "stream",
     "text": [
      "[5, 4, 3, 2, 1]\n"
     ]
    }
   ],
   "source": [
    "arr=[1,2,3,4,5]\n",
    "print(arr[::-1])"
   ]
  },
  {
   "cell_type": "code",
   "execution_count": 24,
   "metadata": {},
   "outputs": [
    {
     "name": "stdout",
     "output_type": "stream",
     "text": [
      "[5, 4, 3, 2, 1]\n"
     ]
    }
   ],
   "source": [
    "def reverse(arr, start,end):\n",
    "    while(start<end):\n",
    "        arr[start] ,arr[end]=arr[end],arr[start]\n",
    "        start+=1\n",
    "        end-=1\n",
    "arr=[1,2,3,4,5]        \n",
    "reverse(arr,0,len(arr)-1)   \n",
    "print(arr)"
   ]
  },
  {
   "cell_type": "code",
   "execution_count": 25,
   "metadata": {},
   "outputs": [
    {
     "name": "stdout",
     "output_type": "stream",
     "text": [
      "2\n",
      "4 -3 5 -1 6 -7 2 8 9 "
     ]
    }
   ],
   "source": [
    "def rearrange(arr,n):\n",
    "    i=-1\n",
    "    for j in range(n):\n",
    "        if arr[j]<0:\n",
    "            i+=1\n",
    "            arr[i],arr[j]=arr[j],arr[i]\n",
    "            \n",
    "            \n",
    "    print(i)\n",
    "    pos=i+1\n",
    "    neg=0\n",
    "    while(pos < n and neg < pos and arr[neg]< 0):\n",
    "        arr[neg],arr[pos]=arr[pos],arr[neg]\n",
    "        pos+=1\n",
    "        neg+=2\n",
    "       \n",
    "        \n",
    "def printarray(arr,n):\n",
    "    for i in range(n):\n",
    "        print(arr[i],end=\" \")\n",
    "            \n",
    "arr = [-1, 2, -3, 4, 5, 6, -7, 8, 9] \n",
    "l=len(arr)\n",
    "rearrange(arr,l)\n",
    "printarray(arr,l)"
   ]
  },
  {
   "cell_type": "code",
   "execution_count": 26,
   "metadata": {},
   "outputs": [
    {
     "name": "stdout",
     "output_type": "stream",
     "text": [
      "[1, 2, 5, 6, 8, 0, 0]\n"
     ]
    }
   ],
   "source": [
    "def movezero(arr,n):\n",
    "    count=0\n",
    "    for j in range(0,n):\n",
    "        if arr[j]!=0:\n",
    "            arr[count]=arr[j]\n",
    "            count+=1\n",
    "    while(count<n):\n",
    "        arr[count]=0\n",
    "        count+=1\n",
    "arr=[1,0,2,5,6,0,8]            \n",
    "movezero(arr,n) \n",
    "print(arr)"
   ]
  },
  {
   "cell_type": "code",
   "execution_count": 27,
   "metadata": {},
   "outputs": [
    {
     "name": "stdout",
     "output_type": "stream",
     "text": [
      "[1, 2, 5, 6, 8, 0, 0]\n"
     ]
    }
   ],
   "source": [
    "def movezerosingletraversal(arr,n):\n",
    "    count=0\n",
    "    for i in range(n):\n",
    "        if arr[i]!=0:\n",
    "            arr[count],arr[i]=arr[i],arr[count]\n",
    "            count+=1\n",
    "arr=[1,0,2,5,6,0,8]   \n",
    "l=len(arr)\n",
    "movezerosingletraversal(arr,l)  \n",
    "print(arr)"
   ]
  },
  {
   "cell_type": "code",
   "execution_count": 28,
   "metadata": {},
   "outputs": [
    {
     "name": "stdout",
     "output_type": "stream",
     "text": [
      "3\n",
      "1\n"
     ]
    },
    {
     "data": {
      "text/plain": [
       "1"
      ]
     },
     "execution_count": 28,
     "metadata": {},
     "output_type": "execute_result"
    }
   ],
   "source": [
    "def minimumswap(arr,n,k):\n",
    "    count=0\n",
    "    for i in range(0,n):\n",
    "        if arr[i]<=k:\n",
    "            count+=1\n",
    "    print(count)\n",
    "    \n",
    "    another=0\n",
    "    for i in range(0,count):\n",
    "        if arr[i]>k:\n",
    "            another+=1\n",
    "    print(another) \n",
    "    \n",
    "    ans=another\n",
    "    j=count\n",
    "    for i in range(0,n):\n",
    "        \n",
    "        if j==n:\n",
    "            break\n",
    "        \n",
    "        if arr[i]>k:\n",
    "            another-=1\n",
    "        \n",
    "        if arr[j]>k:\n",
    "            another+=1\n",
    "            \n",
    "        ans=min(ans,another)\n",
    "        \n",
    "        j+=1  \n",
    "       \n",
    "    return ans   \n",
    "            \n",
    "        \n",
    "    \n",
    "    \n",
    "arr = [2, 1, 5, 6, 3]\n",
    "k=3\n",
    "l=len(arr)\n",
    "minimumswap(arr,l,k)\n"
   ]
  },
  {
   "cell_type": "code",
   "execution_count": 29,
   "metadata": {},
   "outputs": [
    {
     "name": "stdout",
     "output_type": "stream",
     "text": [
      "13 5\n"
     ]
    }
   ],
   "source": [
    "def maxelement(arr,n):\n",
    "    max=arr[0]\n",
    "    min=arr[0]\n",
    "    for i in range(0,n):\n",
    "        if arr[i]>max:\n",
    "            max=arr[i]\n",
    "        else:\n",
    "            min=arr[i]\n",
    "    print(max,min)  \n",
    "    \n",
    "arr=[5,6,7,8,10,13]\n",
    "l=len(arr)\n",
    "maxelement(arr,l)\n",
    "    "
   ]
  },
  {
   "cell_type": "code",
   "execution_count": 30,
   "metadata": {},
   "outputs": [
    {
     "name": "stdout",
     "output_type": "stream",
     "text": [
      "23 10 8\n"
     ]
    }
   ],
   "source": [
    "def maxthreeele(arr,n):\n",
    "    first=second=third=arr[0]\n",
    "    for i in range(0,n):\n",
    "        if arr[i]>first:\n",
    "            third=second\n",
    "            second=first\n",
    "            first=arr[i]\n",
    "            \n",
    "        elif arr[i]>second:\n",
    "            third=second\n",
    "            second=arr[i]\n",
    "            \n",
    "        elif arr[i]>third:\n",
    "            third=arr[i]\n",
    "            \n",
    "    print(first,second,third)\n",
    "    \n",
    "arr=[1,2,7,10,8,23]\n",
    "l=len(arr)\n",
    "maxthreeele(arr,l)\n",
    "    "
   ]
  },
  {
   "cell_type": "code",
   "execution_count": 31,
   "metadata": {},
   "outputs": [
    {
     "data": {
      "text/plain": [
       "4.0"
      ]
     },
     "execution_count": 31,
     "metadata": {},
     "output_type": "execute_result"
    }
   ],
   "source": [
    "def missingnumber(arr):\n",
    "    n=len(arr)\n",
    "#   t_sum=(n+1)*(n+2)/2\n",
    "    t_sum=n*(n+1)/2\n",
    "    a_sum=sum(arr)\n",
    "    return t_sum-a_sum\n",
    "arr=[2,5,3,1,0]\n",
    "missingnumber(arr)"
   ]
  },
  {
   "cell_type": "code",
   "execution_count": null,
   "metadata": {},
   "outputs": [],
   "source": []
  },
  {
   "cell_type": "code",
   "execution_count": 32,
   "metadata": {},
   "outputs": [
    {
     "data": {
      "text/plain": [
       "array([1, 2, 3, 4, 5, 6])"
      ]
     },
     "execution_count": 32,
     "metadata": {},
     "output_type": "execute_result"
    }
   ],
   "source": [
    "import numpy as np\n",
    "np.array([1,2,3,4,5,6])\n"
   ]
  },
  {
   "cell_type": "code",
   "execution_count": 40,
   "metadata": {},
   "outputs": [
    {
     "data": {
      "text/plain": [
       "array([14, 67, 72, 88, 56, 43, 77, 64, 84, 99, 79,  6, 87, 68, 10, 88, 95,\n",
       "       15, 40, 31])"
      ]
     },
     "execution_count": 40,
     "metadata": {},
     "output_type": "execute_result"
    }
   ],
   "source": [
    "np.random.randint(1,100,20)"
   ]
  },
  {
   "cell_type": "code",
   "execution_count": null,
   "metadata": {},
   "outputs": [],
   "source": []
  }
 ],
 "metadata": {
  "kernelspec": {
   "display_name": "Python 3",
   "language": "python",
   "name": "python3"
  },
  "language_info": {
   "codemirror_mode": {
    "name": "ipython",
    "version": 3
   },
   "file_extension": ".py",
   "mimetype": "text/x-python",
   "name": "python",
   "nbconvert_exporter": "python",
   "pygments_lexer": "ipython3",
   "version": "3.8.2"
  }
 },
 "nbformat": 4,
 "nbformat_minor": 4
}
