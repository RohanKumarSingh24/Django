{
 "cells": [
  {
   "cell_type": "code",
   "execution_count": 1,
   "metadata": {},
   "outputs": [],
   "source": [
    "#Error in Python can be of two types i.e. Syntax errors and Exceptions. Errors are the problems in a program due to whic\n",
    "# h the program will stop the execution. On the other hand, exceptions are raised when some internal events occur which changes\n",
    "# the normal flow of the program."
   ]
  },
  {
   "cell_type": "code",
   "execution_count": 2,
   "metadata": {},
   "outputs": [],
   "source": [
    "dict1={'r':1,'o':2,'h':3,'a':4,'n':5}\n",
    "dict2={'r':0,'a':2,'k':1,'e':3,'s':4,'h':2}"
   ]
  },
  {
   "cell_type": "code",
   "execution_count": 3,
   "metadata": {},
   "outputs": [],
   "source": [
    "from collections import ChainMap"
   ]
  },
  {
   "cell_type": "code",
   "execution_count": 4,
   "metadata": {},
   "outputs": [
    {
     "data": {
      "text/plain": [
       "[{'r': 1, 'o': 2, 'h': 3, 'a': 4, 'n': 5},\n",
       " {'r': 0, 'a': 2, 'k': 1, 'e': 3, 's': 4, 'h': 2}]"
      ]
     },
     "execution_count": 4,
     "metadata": {},
     "output_type": "execute_result"
    }
   ],
   "source": [
    "chain=ChainMap(dict1,dict2)\n",
    "chain.maps"
   ]
  },
  {
   "cell_type": "code",
   "execution_count": 5,
   "metadata": {},
   "outputs": [
    {
     "data": {
      "text/plain": [
       "['r', 'a', 'k', 'e', 's', 'h', 'o', 'n']"
      ]
     },
     "execution_count": 5,
     "metadata": {},
     "output_type": "execute_result"
    }
   ],
   "source": [
    "list(chain.keys())"
   ]
  },
  {
   "cell_type": "code",
   "execution_count": 6,
   "metadata": {},
   "outputs": [
    {
     "data": {
      "text/plain": [
       "[1, 4, 1, 3, 4, 3, 2, 5]"
      ]
     },
     "execution_count": 6,
     "metadata": {},
     "output_type": "execute_result"
    }
   ],
   "source": [
    "list(chain.values())"
   ]
  },
  {
   "cell_type": "code",
   "execution_count": 7,
   "metadata": {},
   "outputs": [],
   "source": [
    "c1=chain.new_child({'q':4,'u':2,'e':3,'n':6})"
   ]
  },
  {
   "cell_type": "code",
   "execution_count": 8,
   "metadata": {},
   "outputs": [
    {
     "data": {
      "text/plain": [
       "ChainMap({'q': 4, 'u': 2, 'e': 3, 'n': 6}, {'r': 1, 'o': 2, 'h': 3, 'a': 4, 'n': 5}, {'r': 0, 'a': 2, 'k': 1, 'e': 3, 's': 4, 'h': 2})"
      ]
     },
     "execution_count": 8,
     "metadata": {},
     "output_type": "execute_result"
    }
   ],
   "source": [
    "c1"
   ]
  },
  {
   "cell_type": "code",
   "execution_count": 9,
   "metadata": {},
   "outputs": [],
   "source": [
    "# namedtuple"
   ]
  },
  {
   "cell_type": "code",
   "execution_count": 10,
   "metadata": {},
   "outputs": [],
   "source": [
    "from collections import namedtuple"
   ]
  },
  {
   "cell_type": "code",
   "execution_count": 11,
   "metadata": {},
   "outputs": [
    {
     "data": {
      "text/plain": [
       "person(name='rohan', age=32, dob=1989)"
      ]
     },
     "execution_count": 11,
     "metadata": {},
     "output_type": "execute_result"
    }
   ],
   "source": [
    "Person=namedtuple('person',['name','age','dob'])\n",
    "\n",
    "Person('rohan',32,1989)"
   ]
  },
  {
   "cell_type": "code",
   "execution_count": 12,
   "metadata": {},
   "outputs": [],
   "source": [
    "Student=namedtuple('student',(' name,rollno,section,std,dep '))"
   ]
  },
  {
   "cell_type": "code",
   "execution_count": 13,
   "metadata": {},
   "outputs": [
    {
     "data": {
      "text/plain": [
       "student(name='rohan', rollno=23, section='d', std='A', dep='CSE')"
      ]
     },
     "execution_count": 13,
     "metadata": {},
     "output_type": "execute_result"
    }
   ],
   "source": [
    "Student('rohan',23,'d','A','CSE')"
   ]
  },
  {
   "cell_type": "code",
   "execution_count": 14,
   "metadata": {},
   "outputs": [],
   "source": [
    "# Heap\n",
    "# Heap queue (or heapq) in Python"
   ]
  },
  {
   "cell_type": "code",
   "execution_count": 15,
   "metadata": {},
   "outputs": [],
   "source": [
    "#  Heap data structure is mainly used to represent proroty queue.n Python, it is available using “heapq” module. \n",
    "#  The property of this data structure in python is that each time the smallest of heap element is popped(min heap). \n",
    "#  Whenever elements are pushed or popped, heap structure in maintained. The heap[0] element also returns the smallest \n",
    "#  element each time.\n",
    " "
   ]
  },
  {
   "cell_type": "code",
   "execution_count": 16,
   "metadata": {},
   "outputs": [],
   "source": [
    "# Operations on heap :\n",
    "\n",
    "# 1. heapify(iterable) :- This function is used to convert the iterable into a heap data structure. i.e. in heap order.\n",
    "\n",
    "# 2. heappush(heap, ele) :- This function is used to insert the element mentioned in its arguments into heap. The order is \n",
    "#                           adjusted, so as heap structure is maintained.\n",
    "\n",
    "# 3. heappop(heap) :- This function is used to remove and return the smallest element from heap. The order is adjusted, so as \n",
    "#                     heap structure is maintained.\n",
    "\n"
   ]
  },
  {
   "cell_type": "code",
   "execution_count": 17,
   "metadata": {},
   "outputs": [
    {
     "name": "stdout",
     "output_type": "stream",
     "text": [
      "[1, 3, 9, 7, 5]\n"
     ]
    }
   ],
   "source": [
    "l=[5,7,9,1,3]\n",
    "import heapq\n",
    "heapq.heapify(l)\n",
    "print(l)"
   ]
  },
  {
   "cell_type": "code",
   "execution_count": 18,
   "metadata": {},
   "outputs": [
    {
     "name": "stdout",
     "output_type": "stream",
     "text": [
      "[1, 3, 9, 7, 5, 10]\n"
     ]
    }
   ],
   "source": [
    "heapq.heappush(l,10)\n",
    "print(l)"
   ]
  },
  {
   "cell_type": "code",
   "execution_count": 19,
   "metadata": {},
   "outputs": [
    {
     "data": {
      "text/plain": [
       "1"
      ]
     },
     "execution_count": 19,
     "metadata": {},
     "output_type": "execute_result"
    }
   ],
   "source": [
    "heapq.heappop(l)"
   ]
  },
  {
   "cell_type": "code",
   "execution_count": 20,
   "metadata": {},
   "outputs": [
    {
     "name": "stdout",
     "output_type": "stream",
     "text": [
      "[3, 5, 9, 7, 10]\n"
     ]
    }
   ],
   "source": [
    "print(l)"
   ]
  },
  {
   "cell_type": "code",
   "execution_count": 21,
   "metadata": {},
   "outputs": [
    {
     "data": {
      "text/plain": [
       "3"
      ]
     },
     "execution_count": 21,
     "metadata": {},
     "output_type": "execute_result"
    }
   ],
   "source": [
    "heapq.heappop(l)"
   ]
  },
  {
   "cell_type": "code",
   "execution_count": 22,
   "metadata": {},
   "outputs": [],
   "source": [
    "import ipdb\n",
    "#ipdb.set_trace()"
   ]
  },
  {
   "cell_type": "code",
   "execution_count": 23,
   "metadata": {},
   "outputs": [
    {
     "name": "stdout",
     "output_type": "stream",
     "text": [
      "Balanced\n"
     ]
    }
   ],
   "source": [
    "def balanceparenthesis(var):\n",
    "    \n",
    "    stack=[]\n",
    "    \n",
    "    for char in var:\n",
    "        \n",
    "        if char in ['(','{','[']:\n",
    "            \n",
    "            stack.append(char)\n",
    "        else:\n",
    "            \n",
    "            if not stack:\n",
    "                return False\n",
    "            \n",
    "            currn_var=stack.pop()\n",
    "            \n",
    "            if currn_var=='(':\n",
    "                if char!=')':\n",
    "                    return False\n",
    "            if currn_var=='{':\n",
    "                if char!='}':\n",
    "                    return False\n",
    "            if currn_var=='[':\n",
    "                if char!=']':\n",
    "                    return False\n",
    "    if stack:\n",
    "        return False\n",
    "    return True\n",
    "var=\"{()}[]\"    \n",
    "if balanceparenthesis(var):\n",
    "    print('Balanced')\n",
    "else:\n",
    "    print('Not Balanced')"
   ]
  },
  {
   "cell_type": "code",
   "execution_count": 24,
   "metadata": {},
   "outputs": [],
   "source": [
    "# Stack\n",
    "# Using List\n",
    "# Using \n",
    "from collections import deque\n",
    "from queue import LifoQueue"
   ]
  },
  {
   "cell_type": "code",
   "execution_count": 25,
   "metadata": {},
   "outputs": [],
   "source": [
    "# queue\n",
    "# Using list\n",
    "# using\n",
    "from collections import deque\n",
    "from queue import Queue"
   ]
  },
  {
   "cell_type": "code",
   "execution_count": 30,
   "metadata": {},
   "outputs": [],
   "source": [
    "def deletebykey(self,skey):\n",
    "    \n",
    "    temp=self.head\n",
    "    \n",
    "    if temp is not None:\n",
    "        if temp.data==skey:\n",
    "            self.head=temp.next\n",
    "            temp=None\n",
    "            return\n",
    "    \n",
    "    while(temp is not None):\n",
    "        if temp.data==skey:\n",
    "            break\n",
    "        prev=temp\n",
    "        temp=temp.next\n",
    "        \n",
    "    if temp is None:\n",
    "        return\n",
    "    prev.next=temp.next\n",
    "    temp=None\n",
    "    \n",
    "def deletebypos(self,pos):\n",
    "    \n",
    "    if self.head is None:\n",
    "        return\n",
    "    \n",
    "    temp=self.head\n",
    "    \n",
    "    if pos==0:\n",
    "        self.head=temp.next\n",
    "        temp=None\n",
    "        return\n",
    "    \n",
    "    for i in range(pos-1):\n",
    "        \n",
    "        temp=temp.next\n",
    "        \n",
    "        if temp is None:\n",
    "            break\n",
    "            \n",
    "    if temp is None:\n",
    "        return\n",
    "    \n",
    "    if temp.data is None:\n",
    "        return\n",
    "    next=temp.next.next\n",
    "    \n",
    "    temp.next=None\n",
    "    temp.next=next\n",
    "def Insertatlast(self,new_data):\n",
    "    \n",
    "    if self.head is None:\n",
    "        self.head=new_node\n",
    "        return\n",
    "    temp=self.head\n",
    "    new_node=Node(new_data)\n",
    "    while(temp.next):\n",
    "        temp=temp.next\n",
    "    temp.next=new_node    \n",
    "    "
   ]
  },
  {
   "cell_type": "code",
   "execution_count": null,
   "metadata": {},
   "outputs": [],
   "source": []
  },
  {
   "cell_type": "code",
   "execution_count": null,
   "metadata": {},
   "outputs": [],
   "source": []
  },
  {
   "cell_type": "code",
   "execution_count": null,
   "metadata": {},
   "outputs": [],
   "source": []
  }
 ],
 "metadata": {
  "kernelspec": {
   "display_name": "Python 3",
   "language": "python",
   "name": "python3"
  },
  "language_info": {
   "codemirror_mode": {
    "name": "ipython",
    "version": 3
   },
   "file_extension": ".py",
   "mimetype": "text/x-python",
   "name": "python",
   "nbconvert_exporter": "python",
   "pygments_lexer": "ipython3",
   "version": "3.8.2"
  }
 },
 "nbformat": 4,
 "nbformat_minor": 4
}
