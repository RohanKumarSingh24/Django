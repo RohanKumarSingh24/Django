{
 "cells": [
  {
   "cell_type": "code",
   "execution_count": 1,
   "metadata": {},
   "outputs": [
    {
     "name": "stdout",
     "output_type": "stream",
     "text": [
      "rohan   10\n"
     ]
    }
   ],
   "source": [
    "# class\n",
    "\n",
    "\n",
    "class Myclass():\n",
    "    number=0\n",
    "    name=''\n",
    "    \n",
    "def Main():\n",
    "    \n",
    "    x=Myclass()\n",
    "    x.number=10\n",
    "    x.name='rohan'\n",
    "    \n",
    "    \n",
    "    print(x.name,\" \",x.number)\n",
    "    \n",
    "Main()    "
   ]
  },
  {
   "cell_type": "code",
   "execution_count": 2,
   "metadata": {},
   "outputs": [
    {
     "name": "stdout",
     "output_type": "stream",
     "text": [
      "10 12\n"
     ]
    }
   ],
   "source": [
    "# class with Method\n",
    "\n",
    "class Myclass():\n",
    "    \n",
    "    def set(self,x,y):\n",
    "        self.x=x\n",
    "        self.y=y\n",
    "        \n",
    "def Main():\n",
    "    a=Myclass()\n",
    "    a.set(10,12)\n",
    "    print(a.x,a.y)\n",
    "    \n",
    "\n",
    "Main()"
   ]
  },
  {
   "cell_type": "code",
   "execution_count": 3,
   "metadata": {},
   "outputs": [
    {
     "name": "stdout",
     "output_type": "stream",
     "text": [
      "My name is: rohan\n"
     ]
    }
   ],
   "source": [
    "# __init_() Method\n",
    "\n",
    "\n",
    "class Person():\n",
    "    \n",
    "    def __init__(self,name):\n",
    "        self.name=name\n",
    "        \n",
    "        \n",
    "    def method(self):\n",
    "        print('My name is:',self.name)\n",
    "        \n",
    "        \n",
    "t=Person('rohan')\n",
    "t.method()"
   ]
  },
  {
   "cell_type": "code",
   "execution_count": 4,
   "metadata": {},
   "outputs": [],
   "source": [
    "# Data Hiding and Object Printing"
   ]
  },
  {
   "cell_type": "code",
   "execution_count": 5,
   "metadata": {},
   "outputs": [
    {
     "name": "stdout",
     "output_type": "stream",
     "text": [
      "2\n",
      "7\n"
     ]
    },
    {
     "ename": "AttributeError",
     "evalue": "'Myclass' object has no attribute '__hiddenvariable'",
     "output_type": "error",
     "traceback": [
      "\u001b[0;31m---------------------------------------------------------------------------\u001b[0m",
      "\u001b[0;31mAttributeError\u001b[0m                            Traceback (most recent call last)",
      "\u001b[0;32m<ipython-input-5-8c2507090871>\u001b[0m in \u001b[0;36m<module>\u001b[0;34m\u001b[0m\n\u001b[1;32m      9\u001b[0m \u001b[0mr\u001b[0m\u001b[0;34m.\u001b[0m\u001b[0madd\u001b[0m\u001b[0;34m(\u001b[0m\u001b[0;36m2\u001b[0m\u001b[0;34m)\u001b[0m\u001b[0;34m\u001b[0m\u001b[0;34m\u001b[0m\u001b[0m\n\u001b[1;32m     10\u001b[0m \u001b[0mr\u001b[0m\u001b[0;34m.\u001b[0m\u001b[0madd\u001b[0m\u001b[0;34m(\u001b[0m\u001b[0;36m5\u001b[0m\u001b[0;34m)\u001b[0m\u001b[0;34m\u001b[0m\u001b[0;34m\u001b[0m\u001b[0m\n\u001b[0;32m---> 11\u001b[0;31m \u001b[0mprint\u001b[0m\u001b[0;34m(\u001b[0m\u001b[0mr\u001b[0m\u001b[0;34m.\u001b[0m\u001b[0m__hiddenvariable\u001b[0m\u001b[0;34m)\u001b[0m\u001b[0;34m\u001b[0m\u001b[0;34m\u001b[0m\u001b[0m\n\u001b[0m",
      "\u001b[0;31mAttributeError\u001b[0m: 'Myclass' object has no attribute '__hiddenvariable'"
     ]
    }
   ],
   "source": [
    "class Myclass():\n",
    "    __hiddenvariable=0\n",
    "    \n",
    "    def add(self,increment):\n",
    "        self.__hiddenvariable+=increment\n",
    "        print(self.__hiddenvariable)\n",
    "        \n",
    "r=Myclass()\n",
    "r.add(2)\n",
    "r.add(5)\n",
    "print(r.__hiddenvariable)"
   ]
  },
  {
   "cell_type": "code",
   "execution_count": 6,
   "metadata": {},
   "outputs": [],
   "source": [
    "# We can access the value of hidden attribute by a tricky syntax:"
   ]
  },
  {
   "cell_type": "code",
   "execution_count": 7,
   "metadata": {},
   "outputs": [
    {
     "name": "stdout",
     "output_type": "stream",
     "text": [
      "12\n",
      "17\n",
      "17\n"
     ]
    }
   ],
   "source": [
    "class Myclass():\n",
    "    __hiddenvariable=10\n",
    "    \n",
    "    def add(self,increment):\n",
    "        self.__hiddenvariable+=increment\n",
    "        print(self.__hiddenvariable)\n",
    "        \n",
    "r=Myclass()\n",
    "r.add(2)\n",
    "r.add(5)\n",
    "print(r._Myclass__hiddenvariable)"
   ]
  },
  {
   "cell_type": "code",
   "execution_count": 8,
   "metadata": {},
   "outputs": [],
   "source": [
    "# Inheritance"
   ]
  },
  {
   "cell_type": "code",
   "execution_count": 9,
   "metadata": {},
   "outputs": [
    {
     "name": "stdout",
     "output_type": "stream",
     "text": [
      "rohan False\n",
      "rohit True\n"
     ]
    }
   ],
   "source": [
    "class Base():\n",
    "    \n",
    "    def __init__(self,name):\n",
    "        \n",
    "        self.name=name\n",
    "        \n",
    "        \n",
    "    def getname(self):\n",
    "        return self.name\n",
    "    \n",
    "    def isemployee(self):\n",
    "        return False\n",
    "    \n",
    "    \n",
    "class Derived(Base):\n",
    "    \n",
    "    def isemployee(self):\n",
    "        return True\n",
    "    \n",
    "    \n",
    "emp=Base('rohan')\n",
    "print(emp.getname(),emp.isemployee())\n",
    "emp=Derived('rohit')\n",
    "print(emp.getname(),emp.isemployee())"
   ]
  },
  {
   "cell_type": "code",
   "execution_count": 10,
   "metadata": {},
   "outputs": [],
   "source": [
    "#How to check if a class is subclass of another?"
   ]
  },
  {
   "cell_type": "code",
   "execution_count": 11,
   "metadata": {},
   "outputs": [
    {
     "name": "stdout",
     "output_type": "stream",
     "text": [
      "True\n",
      "False\n",
      "True\n",
      "True\n",
      "True\n",
      "False\n"
     ]
    }
   ],
   "source": [
    "class Base():\n",
    "    pass\n",
    "\n",
    "class Derived(Base):\n",
    "    pass\n",
    "\n",
    "print(issubclass(Derived,Base))\n",
    "print(issubclass(Base,Derived))\n",
    "\n",
    "\n",
    "b=Base()\n",
    "d=Derived()\n",
    "\n",
    "print(isinstance(b,Base))\n",
    "print(isinstance(d,Derived))\n",
    "print(isinstance(d,Base))\n",
    "print(isinstance(b,Derived))"
   ]
  },
  {
   "cell_type": "code",
   "execution_count": 12,
   "metadata": {},
   "outputs": [],
   "source": [
    "# Does Python support Multiple Inheritance?\n",
    "# Yes python support Multiple Inheritance..."
   ]
  },
  {
   "cell_type": "code",
   "execution_count": 13,
   "metadata": {
    "scrolled": true
   },
   "outputs": [
    {
     "name": "stdout",
     "output_type": "stream",
     "text": [
      "Base1\n",
      "Base2\n",
      "Derived\n",
      "rohan rakesh\n"
     ]
    }
   ],
   "source": [
    "class Base1():\n",
    "    \n",
    "    def __init__(self):\n",
    "        self.name1='rohan'\n",
    "        print('Base1')\n",
    "        \n",
    "        \n",
    "class Base2():\n",
    "    \n",
    "    def __init__(self):\n",
    "        \n",
    "        self.name2='rakesh'\n",
    "        print('Base2')\n",
    "        \n",
    "        \n",
    "class Mderived(Base1,Base2):\n",
    "    \n",
    "    def __init__(self):\n",
    "        \n",
    "        Base1.__init__(self)\n",
    "        Base2.__init__(self)\n",
    "        print('Derived')\n",
    "        \n",
    "    def getprint(self):\n",
    "        print(self.name1,self.name2)\n",
    "        \n",
    "t=Mderived()\n",
    "t.getprint()\n",
    "            "
   ]
  },
  {
   "cell_type": "code",
   "execution_count": 14,
   "metadata": {},
   "outputs": [],
   "source": [
    "#How to access parent members in a subclass?"
   ]
  },
  {
   "cell_type": "code",
   "execution_count": 15,
   "metadata": {},
   "outputs": [
    {
     "name": "stdout",
     "output_type": "stream",
     "text": [
      "10 20\n"
     ]
    }
   ],
   "source": [
    "class Base():\n",
    "    def __init__(self,x):\n",
    "        self.x=x\n",
    "        \n",
    "class Derived(Base):\n",
    "    \n",
    "    def __init__(self,x,y):\n",
    "        \n",
    "        Base.x=x\n",
    "        self.y=y\n",
    "        \n",
    "    def printxy(self):\n",
    "        print(self.x,self.y)\n",
    "        \n",
    "        \n",
    "t=Derived(10,20)  \n",
    "t.printxy()\n",
    "    "
   ]
  },
  {
   "cell_type": "code",
   "execution_count": 16,
   "metadata": {},
   "outputs": [],
   "source": [
    "# Polymorphism\n",
    "# The word polymorphism means having many forms. In programming, polymorphism means same function name \n",
    "# (but different signatures) being uses for different types."
   ]
  },
  {
   "cell_type": "code",
   "execution_count": 17,
   "metadata": {},
   "outputs": [
    {
     "name": "stdout",
     "output_type": "stream",
     "text": [
      "New Delhi is capital of Indai\n",
      "Hindi is most widely spoken language in India \n",
      "India is a developing countary\n",
      "Washington,D.c. is capital of Usa\n",
      "English is most widely spoken language in Usa\n",
      "Usa is a developed countary\n"
     ]
    }
   ],
   "source": [
    "class India():\n",
    "    \n",
    "    def capital(self):\n",
    "        print('New Delhi is capital of Indai')\n",
    "\n",
    "    def language(self):\n",
    "        print('Hindi is most widely spoken language in India ')\n",
    "        \n",
    "    def type(self):\n",
    "        print('India is a developing countary')\n",
    "        \n",
    "        \n",
    "class Usa():\n",
    "    def capital(self):\n",
    "        print('Washington,D.c. is capital of Usa')\n",
    "        \n",
    "    def language(self):\n",
    "        print('English is most widely spoken language in Usa')\n",
    "        \n",
    "    def type(self):\n",
    "        print('Usa is a developed countary')\n",
    "        \n",
    "        \n",
    "i=India()\n",
    "u=Usa()\n",
    "for c in (i,u):\n",
    "    c.capital()\n",
    "    c.language()\n",
    "    c.type()\n",
    "    "
   ]
  },
  {
   "cell_type": "code",
   "execution_count": null,
   "metadata": {},
   "outputs": [],
   "source": [
    "# Changing class member in python"
   ]
  },
  {
   "cell_type": "code",
   "execution_count": 28,
   "metadata": {},
   "outputs": [
    {
     "name": "stdout",
     "output_type": "stream",
     "text": [
      "Before change\n",
      "cse\n",
      "After change:\n",
      "mec\n",
      "cse\n"
     ]
    }
   ],
   "source": [
    "class Cmemberchange():\n",
    "    stream='cse'\n",
    "    \n",
    "    def __init__(self,name,rollno):\n",
    "        \n",
    "        self.name=name\n",
    "        self.rollno=rollno\n",
    "        \n",
    "    def printc(self):\n",
    "        print(self.name,self.rollno)\n",
    "        \n",
    "a=Cmemberchange('rohan',123) \n",
    "b=Cmemberchange('rakesh',124)\n",
    "\n",
    "print('Before change')\n",
    "print(a.stream)\n",
    "# change class memeber variable\n",
    "\n",
    "a.stream='mec'\n",
    "\n",
    "print('After change:')\n",
    "print(a.stream)\n",
    "print(b.stream)"
   ]
  },
  {
   "cell_type": "code",
   "execution_count": 29,
   "metadata": {},
   "outputs": [],
   "source": [
    "# We should change class variables using class name only."
   ]
  },
  {
   "cell_type": "code",
   "execution_count": 30,
   "metadata": {},
   "outputs": [
    {
     "name": "stdout",
     "output_type": "stream",
     "text": [
      "Before change\n",
      "cse\n",
      "After change:\n",
      "mec\n",
      "mec\n"
     ]
    }
   ],
   "source": [
    "class Cmemberchange():\n",
    "    stream='cse'\n",
    "    \n",
    "    def __init__(self,name,rollno):\n",
    "        \n",
    "        self.name=name\n",
    "        self.rollno=rollno\n",
    "        \n",
    "    def printc(self):\n",
    "        print(self.name,self.rollno)\n",
    "        \n",
    "a=Cmemberchange('rohan',123) \n",
    "b=Cmemberchange('rakesh',124)\n",
    "\n",
    "print('Before change')\n",
    "print(a.stream)\n",
    "# change class memeber variable\n",
    "# Correct way to change the value of class variable \n",
    "Cmemberchange.stream='mec'\n",
    "\n",
    "print('After change:')\n",
    "print(a.stream)\n",
    "print(b.stream)"
   ]
  },
  {
   "cell_type": "code",
   "execution_count": null,
   "metadata": {},
   "outputs": [],
   "source": [
    "# Constructor in python\n",
    "\n",
    "# Constructors are generally used for instantiating an object.The task of constructors is to initialize(assign values) \n",
    "# to the data members of the class when an object of class is created.In Python the __init__() method is called the \n",
    "# constructor and is always called when an object is created.\n",
    "\n",
    "# Types of constructors :\n",
    "\n",
    "# default constructor :The default constructor is simple constructor which doesn’t accept any arguments.It’s definition\n",
    "#                         has only one argument which is a reference to the instance being constructed.\n",
    "# parameterized constructor :constructor with parameters is known as parameterized constructor.The parameterized constructor \n",
    "#                             take its first argument as a reference to the instance being constructed known as self and the \n",
    "#                             rest of the arguments are provided by the programmer."
   ]
  },
  {
   "cell_type": "code",
   "execution_count": null,
   "metadata": {},
   "outputs": [],
   "source": [
    "# self in Python class\n",
    "\n",
    "# self represents the instance of the class. By using the “self” keyword we can access the attributes and methods of the\n",
    "# class in python. It binds the attributes with the given arguments.\n",
    "\n",
    "# The reason you need to use self. is because Python does not use the @ syntax to refer to instance attributes"
   ]
  },
  {
   "cell_type": "code",
   "execution_count": 31,
   "metadata": {},
   "outputs": [],
   "source": [
    "# default constructor"
   ]
  },
  {
   "cell_type": "code",
   "execution_count": 32,
   "metadata": {},
   "outputs": [
    {
     "name": "stdout",
     "output_type": "stream",
     "text": [
      "Dynamic Programming\n"
     ]
    }
   ],
   "source": [
    "class Datastructure():\n",
    "    \n",
    "    def __init__(self):\n",
    "        self.name='Dynamic Programming'\n",
    "        \n",
    "    def printd(self):\n",
    "        print(self.name)\n",
    "        \n",
    "        \n",
    "r=Datastructure()\n",
    "r.printd()"
   ]
  },
  {
   "cell_type": "code",
   "execution_count": 33,
   "metadata": {},
   "outputs": [],
   "source": [
    "# Parameterized constructor"
   ]
  },
  {
   "cell_type": "code",
   "execution_count": 38,
   "metadata": {},
   "outputs": [
    {
     "name": "stdout",
     "output_type": "stream",
     "text": [
      "salary of employee: 1000\n",
      "Increment give by company: 2000\n",
      "Net salary: 3000\n"
     ]
    }
   ],
   "source": [
    "class Calculation():\n",
    "    salary=0\n",
    "    increment=0\n",
    "    total=0\n",
    "    \n",
    "    def __init__(self,salary,increment):\n",
    "        \n",
    "        self.salary=salary\n",
    "        self.increment=increment\n",
    "        \n",
    "    def display(self):\n",
    "        print(\"salary of employee:\",str(self.salary))\n",
    "        print('Increment give by company:',str(self.increment))\n",
    "        print('Net salary:',str(self.total))\n",
    "        \n",
    "    def calculate(self):\n",
    "        self.total= (self.salary + self.increment)\n",
    "\n",
    "t=Calculation(1000,2000) \n",
    "t.calculate()\n",
    "t.display()\n",
    "    "
   ]
  },
  {
   "cell_type": "code",
   "execution_count": null,
   "metadata": {},
   "outputs": [],
   "source": [
    "# Encapsulation\n"
   ]
  },
  {
   "cell_type": "code",
   "execution_count": 49,
   "metadata": {},
   "outputs": [
    {
     "name": "stdout",
     "output_type": "stream",
     "text": [
      "Access the value protected class  inside class\n",
      "10\n"
     ]
    }
   ],
   "source": [
    "# Protected\n",
    "class Base():\n",
    "    \n",
    "    def __init__(self):\n",
    "        \n",
    "        self._a=10\n",
    "        \n",
    "class Derived(Base):\n",
    "    \n",
    "    def __init__(self):\n",
    "        \n",
    "        Base.__init__(self)\n",
    "        print('Access the value protected class  inside class')\n",
    "        print(self._a)\n",
    "        \n",
    "d=Derived()\n",
    "b=Base()\n"
   ]
  },
  {
   "cell_type": "code",
   "execution_count": 57,
   "metadata": {},
   "outputs": [
    {
     "data": {
      "text/plain": [
       "'geeksforgeeks'"
      ]
     },
     "execution_count": 57,
     "metadata": {},
     "output_type": "execute_result"
    }
   ],
   "source": [
    "# Private\n",
    "\n",
    "class Base():\n",
    "    \n",
    "    def __init__(self):\n",
    "        \n",
    "        self.a='rohankumarsingh'\n",
    "        self.__c='geeksforgeeks'\n",
    "        \n",
    "class Derived(Base):\n",
    "    \n",
    "    def __init__(self):\n",
    "        \n",
    "        Base.__init__(self)\n",
    "        \n",
    "        print('calling private member inside derived class')\n",
    "        \n",
    "        print(self.a)\n",
    "        print(self.__c)\n",
    "        \n",
    "#n=Derived() \n",
    "m=Base()\n"
   ]
  },
  {
   "cell_type": "code",
   "execution_count": null,
   "metadata": {},
   "outputs": [],
   "source": []
  }
 ],
 "metadata": {
  "kernelspec": {
   "display_name": "Python 3",
   "language": "python",
   "name": "python3"
  },
  "language_info": {
   "codemirror_mode": {
    "name": "ipython",
    "version": 3
   },
   "file_extension": ".py",
   "mimetype": "text/x-python",
   "name": "python",
   "nbconvert_exporter": "python",
   "pygments_lexer": "ipython3",
   "version": "3.8.2"
  }
 },
 "nbformat": 4,
 "nbformat_minor": 4
}
