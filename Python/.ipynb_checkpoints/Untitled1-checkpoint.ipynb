{
 "cells": [
  {
   "cell_type": "code",
   "execution_count": 1,
   "metadata": {},
   "outputs": [],
   "source": [
    "from collections import deque\n",
    "from queue import LifoQueue"
   ]
  },
  {
   "cell_type": "code",
   "execution_count": 2,
   "metadata": {},
   "outputs": [],
   "source": [
    "#Stack\n",
    "# list\n",
    "# collections.deque\n",
    "# queue.LifoQueue"
   ]
  },
  {
   "cell_type": "code",
   "execution_count": 3,
   "metadata": {},
   "outputs": [],
   "source": [
    "#Queue"
   ]
  },
  {
   "cell_type": "code",
   "execution_count": 4,
   "metadata": {},
   "outputs": [],
   "source": [
    "# list\n",
    "# collections.deque\n",
    "# queue.Queue"
   ]
  },
  {
   "cell_type": "code",
   "execution_count": null,
   "metadata": {},
   "outputs": [],
   "source": []
  },
  {
   "cell_type": "code",
   "execution_count": 5,
   "metadata": {},
   "outputs": [
    {
     "name": "stdout",
     "output_type": "stream",
     "text": [
      "rohankumar 242 789456123 cse\n"
     ]
    }
   ],
   "source": [
    "t=('rohankumar','cse',242,789456123)\n",
    "name,branch,rollno,admno=t\n",
    "print(name,rollno,admno,branch)"
   ]
  },
  {
   "cell_type": "code",
   "execution_count": 6,
   "metadata": {},
   "outputs": [
    {
     "name": "stdout",
     "output_type": "stream",
     "text": [
      "10\n",
      "9\n",
      "1 2 3 4 5 6 7 8\n"
     ]
    }
   ],
   "source": [
    "t1=(1,2,3,4,5,6,7,8,9,10)\n",
    "*t,s,f=t1\n",
    "print(f)\n",
    "print(s)\n",
    "print(*t)"
   ]
  },
  {
   "cell_type": "code",
   "execution_count": 7,
   "metadata": {},
   "outputs": [
    {
     "name": "stdout",
     "output_type": "stream",
     "text": [
      "12\n",
      "10\n",
      "0\n",
      "1\n",
      "2\n",
      "5\n",
      "8\n"
     ]
    }
   ],
   "source": [
    "class Node():\n",
    "    \n",
    "    def __init__(self,data):\n",
    "        self.data=data\n",
    "        self.next=None\n",
    "class Linklist():\n",
    "    \n",
    "    def __init__(self):\n",
    "        \n",
    "        self.head=None\n",
    "        \n",
    "        \n",
    "    def InsertAtFirst(self,new_data):\n",
    "        \n",
    "        new_node=Node(new_data)\n",
    "        new_node.next=self.head\n",
    "        self.head=new_node\n",
    "        \n",
    "        \n",
    "    def InsertAtBetween(self,prev_node,new_data):\n",
    "        \n",
    "        if self.head is None:\n",
    "            print(\"prev node not in given link list\")\n",
    "            \n",
    "        new_node=Node(new_data)\n",
    "        new_node.next=prev_node.next\n",
    "        prev_node.next=new_node\n",
    "        \n",
    "    def InsertAtLast(self,new_data):\n",
    "        \n",
    "        if self.head is None:\n",
    "            self.head=new_node\n",
    "            return\n",
    "        \n",
    "        last=self.head\n",
    "        new_node=Node(new_data)\n",
    "        \n",
    "        while(last.next):\n",
    "            last=last.next\n",
    "            \n",
    "        last.next=new_node\n",
    "        \n",
    "    def Printlinklist(self):\n",
    "        temp=self.head\n",
    "        while(temp):\n",
    "            print(temp.data)\n",
    "            temp=temp.next\n",
    "            \n",
    "l=Linklist() \n",
    "l.InsertAtFirst(1)\n",
    "l.InsertAtFirst(10)\n",
    "l.InsertAtFirst(12)\n",
    "l.InsertAtLast(2)\n",
    "l.InsertAtLast(5)\n",
    "l.InsertAtLast(8)\n",
    "l.InsertAtBetween(l.head.next,0)\n",
    "l.Printlinklist()"
   ]
  },
  {
   "cell_type": "code",
   "execution_count": 8,
   "metadata": {},
   "outputs": [],
   "source": [
    "l=[]\n",
    "l.append(1)"
   ]
  },
  {
   "cell_type": "code",
   "execution_count": 1,
   "metadata": {},
   "outputs": [
    {
     "name": "stdout",
     "output_type": "stream",
     "text": [
      "This is Anagram\n"
     ]
    }
   ],
   "source": [
    "def checkanagram(s1,s2):\n",
    "    if sorted(s1)==sorted(s2):\n",
    "        print('This is Anagram')\n",
    "    else:\n",
    "        print('This is not Anagram')\n",
    "        \n",
    "checkanagram('silent','listen')        "
   ]
  },
  {
   "cell_type": "code",
   "execution_count": 4,
   "metadata": {},
   "outputs": [
    {
     "name": "stdout",
     "output_type": "stream",
     "text": [
      "['e', 'i', 'l', 'n', 's', 't']\n",
      "['e', 'i', 'l', 'n', 's', 't']\n"
     ]
    }
   ],
   "source": [
    "print(sorted('silent'))\n",
    "print(sorted('listen'))"
   ]
  },
  {
   "cell_type": "code",
   "execution_count": null,
   "metadata": {},
   "outputs": [],
   "source": []
  },
  {
   "cell_type": "code",
   "execution_count": 10,
   "metadata": {},
   "outputs": [],
   "source": [
    "def reverselinklist(self):\n",
    "    prev=None\n",
    "    next=None\n",
    "    current=self.head\n",
    "    while(current is not None):\n",
    "        next=current.next\n",
    "        current.next=prev\n",
    "        prev=current\n",
    "        current=next\n",
    "    self.head=prev    "
   ]
  },
  {
   "cell_type": "code",
   "execution_count": 11,
   "metadata": {},
   "outputs": [
    {
     "name": "stdout",
     "output_type": "stream",
     "text": [
      "ABC\n",
      "ACB\n",
      "BAC\n",
      "BCA\n",
      "CBA\n",
      "CAB\n"
     ]
    }
   ],
   "source": [
    "def permutate(a,s,l):\n",
    "    \n",
    "    if l==s:\n",
    "        \n",
    "        print(tostring(a))\n",
    "    else:\n",
    "        for i in range(s,l+1):\n",
    "            a[s],a[i]=a[i],a[s]\n",
    "            permutate(a,s+1,l)\n",
    "            a[s],a[i]=a[i],a[s]\n",
    "def tostring(a):\n",
    "    return \"\".join(a)\n",
    "string = \"ABC\"\n",
    "n = len(string) \n",
    "a = list(string) \n",
    "permutate(a, 0, n-1) "
   ]
  },
  {
   "cell_type": "code",
   "execution_count": 12,
   "metadata": {},
   "outputs": [
    {
     "data": {
      "text/plain": [
       "['ABC', 'ACB', 'BAC', 'BCA', 'CAB', 'CBA']"
      ]
     },
     "execution_count": 12,
     "metadata": {},
     "output_type": "execute_result"
    }
   ],
   "source": [
    "from itertools import permutations\n",
    "[\"\".join(p) for p in permutations(\"ABC\")]"
   ]
  },
  {
   "cell_type": "code",
   "execution_count": 5,
   "metadata": {},
   "outputs": [
    {
     "name": "stdout",
     "output_type": "stream",
     "text": [
      "1 A\n"
     ]
    }
   ],
   "source": [
    "x,y=[f(i) for f,i in zip((int,str),input().split())]"
   ]
  },
  {
   "cell_type": "code",
   "execution_count": null,
   "metadata": {},
   "outputs": [],
   "source": [
    "d=[1,2,3,4]\n"
   ]
  },
  {
   "cell_type": "code",
   "execution_count": 6,
   "metadata": {},
   "outputs": [
    {
     "name": "stdout",
     "output_type": "stream",
     "text": [
      "This is printed first\n",
      "This is printed second\n",
      "This is printed at last\n"
     ]
    },
    {
     "data": {
      "text/plain": [
       "3"
      ]
     },
     "execution_count": 6,
     "metadata": {},
     "output_type": "execute_result"
    }
   ],
   "source": [
    "def my_gen():\n",
    "    n = 1\n",
    "    print('This is printed first')\n",
    "    # Generator function contains yield statements\n",
    "    yield n\n",
    "\n",
    "    n += 1\n",
    "    print('This is printed second')\n",
    "    yield n\n",
    "\n",
    "    n += 1\n",
    "    print('This is printed at last')\n",
    "    yield n\n",
    "    \n",
    "x=my_gen()\n",
    "x.__next__()\n",
    "x.__next__()\n",
    "x.__next__()\n",
    "#x.__next__()"
   ]
  },
  {
   "cell_type": "code",
   "execution_count": 10,
   "metadata": {},
   "outputs": [
    {
     "name": "stdout",
     "output_type": "stream",
     "text": [
      "Hello, this is before function execution\n",
      "This is inside the function !!\n",
      "This is after function execution\n"
     ]
    }
   ],
   "source": [
    "# defining a decorator \n",
    "def hello_decorator(func_to_be_used): \n",
    "\n",
    "\n",
    "\tdef inner1(): \n",
    "\t\tprint(\"Hello, this is before function execution\") \n",
    "\n",
    "\n",
    "\t\tfunc_to_be_used() \n",
    "\n",
    "\t\tprint(\"This is after function execution\") \n",
    "\t\t\n",
    "\treturn inner1 \n",
    "\n",
    "\n",
    "# defining a function, to be called inside wrapper \n",
    "def function_to_be_used(): \n",
    "\tprint(\"This is inside the function !!\") \n",
    "\n",
    "\n",
    "\n",
    "function_to_be_used = hello_decorator(function_to_be_used) \n",
    "\n",
    "\n",
    "# calling the function \n",
    "function_to_be_used() \n"
   ]
  },
  {
   "cell_type": "code",
   "execution_count": 9,
   "metadata": {},
   "outputs": [
    {
     "data": {
      "text/plain": [
       "True"
      ]
     },
     "execution_count": 9,
     "metadata": {},
     "output_type": "execute_result"
    }
   ],
   "source": [
    "def palindrome(s):\n",
    "    return s==s[::-1]\n",
    "\n",
    "palindrome('malayalam')"
   ]
  },
  {
   "cell_type": "code",
   "execution_count": 1,
   "metadata": {},
   "outputs": [
    {
     "name": "stdout",
     "output_type": "stream",
     "text": [
      "1234\n",
      "123\n",
      "12\n",
      "1\n",
      "0\n",
      "54321\n"
     ]
    }
   ],
   "source": [
    "def pal(s):\n",
    "    \n",
    "    reverse_num=0\n",
    "    while(s>0):\n",
    "        rem=s%10\n",
    "        #print(rem)\n",
    "        reverse_num=(reverse_num*10)+rem\n",
    "        #print(reverse_num)\n",
    "        s=s//10\n",
    "        print(s)\n",
    "    print(reverse_num)    \n",
    "    \n",
    "pal(12345)    \n",
    "    "
   ]
  },
  {
   "cell_type": "code",
   "execution_count": 14,
   "metadata": {},
   "outputs": [
    {
     "name": "stdout",
     "output_type": "stream",
     "text": [
      "2\n",
      "11\n",
      "12\n",
      "10\n",
      "14\n",
      "16\n"
     ]
    }
   ],
   "source": [
    "class Node:\n",
    "    \n",
    "    def __init__(self,data):\n",
    "        self.data=data\n",
    "        self.next=None\n",
    "        \n",
    "class Linklist:\n",
    "    \n",
    "    def __init__(self):\n",
    "        self.head=None\n",
    "        \n",
    "    \n",
    "    def InsertAtFirst(self,new_data):\n",
    "        \n",
    "        new_node=Node(new_data)\n",
    "        new_node.next=self.head\n",
    "        self.head=new_node\n",
    "        \n",
    "        \n",
    "    def InsertAtBetween(self,prev_node,new_data):\n",
    "        \n",
    "        if self.head is None:\n",
    "            print('previous node not in given link list')\n",
    "            return\n",
    "        new_node=Node(new_data)\n",
    "        new_node.next=prev_node.next\n",
    "        prev_node.next=new_node\n",
    "        \n",
    "    def InsertAtlast(self,new_data):\n",
    "        \n",
    "        if self.head is None:\n",
    "            self.head=new_node\n",
    "            return\n",
    "        \n",
    "        last=self.head\n",
    "        \n",
    "        new_node=Node(new_data)\n",
    "        \n",
    "        while(last.next):\n",
    "            last=last.next\n",
    "        last.next=new_node   \n",
    "        \n",
    "        \n",
    "    def DeleteByKey(self,key):\n",
    "        \n",
    "        temp=self.head\n",
    "        \n",
    "        if temp is not None:\n",
    "            if temp.data==key:\n",
    "                self.head=temp.next\n",
    "                temp=None\n",
    "                return\n",
    "        while(temp is not None):\n",
    "            if temp.data==key:\n",
    "                break\n",
    "            prev=temp\n",
    "            temp=temp.next\n",
    "            \n",
    "        if temp is None:\n",
    "            return\n",
    "        prev.next=temp.next\n",
    "        temp=None\n",
    "        \n",
    "    def DeleteByPosition(self,pos):\n",
    "        \n",
    "        if self.head is None:\n",
    "            return\n",
    "        temp=self.head\n",
    "        if pos==0:\n",
    "            self.head=temp.next\n",
    "            temp=None\n",
    "            return\n",
    "        for i in range(pos-1):\n",
    "            temp=temp.next\n",
    "            if temp is None:\n",
    "                break\n",
    "        if temp is None:\n",
    "            return\n",
    "        if temp.data is None:\n",
    "            return\n",
    "        next=temp.next.next\n",
    "        temp.next=None\n",
    "        temp.next=next\n",
    "                \n",
    "                \n",
    "        \n",
    "    def PrintLinklist(self):\n",
    "        temp=self.head\n",
    "        while(temp):\n",
    "            print(temp.data)\n",
    "            temp=temp.next\n",
    "            \n",
    "n=Linklist()\n",
    "n.InsertAtFirst(10)\n",
    "n.InsertAtFirst(12)\n",
    "n.InsertAtFirst(2)\n",
    "n.InsertAtlast(14)\n",
    "n.InsertAtlast(16)\n",
    "n.InsertAtBetween(n.head,11)\n",
    "n.PrintLinklist()\n",
    "            "
   ]
  },
  {
   "cell_type": "code",
   "execution_count": 1,
   "metadata": {},
   "outputs": [
    {
     "data": {
      "text/plain": [
       "65"
      ]
     },
     "execution_count": 1,
     "metadata": {},
     "output_type": "execute_result"
    }
   ],
   "source": [
    "ord(\"A\")"
   ]
  },
  {
   "cell_type": "code",
   "execution_count": 4,
   "metadata": {},
   "outputs": [
    {
     "data": {
      "text/plain": [
       "'d'"
      ]
     },
     "execution_count": 4,
     "metadata": {},
     "output_type": "execute_result"
    }
   ],
   "source": [
    "chr(100)"
   ]
  },
  {
   "cell_type": "code",
   "execution_count": 5,
   "metadata": {},
   "outputs": [],
   "source": [
    "# Merge sort"
   ]
  },
  {
   "cell_type": "code",
   "execution_count": null,
   "metadata": {},
   "outputs": [],
   "source": [
    "def MergeSort(arr):\n",
    "    if len(arr)>1:\n",
    "        mid=len(arr)//2\n",
    "        L=arr[:mid]\n",
    "        R=arr[mid:]\n",
    "        MergeSort(L)\n",
    "        MergeSort(R)\n",
    "        \n",
    "        i=j=k=0\n",
    "        \n",
    "        while((i<len(L) and j<len(R)):\n",
    "              if L[i] < R[j]:\n",
    "                  arr[k]=L[i]\n",
    "                  i+=1\n",
    "              else:\n",
    "                  arr[k]=R[j]\n",
    "                  j+=1\n",
    "              k+=1\n",
    "              \n",
    "        while(i<len(L)):\n",
    "              arr[k]=L[i]\n",
    "              i+=1\n",
    "              k+=1\n",
    "        while(j<len(R)):\n",
    "              arr[k]=R[j]\n",
    "              j+=1\n",
    "              k+=1\n",
    "def PrintMergesort(arr):\n",
    "              \n",
    "              \n",
    "              \n",
    "              \n",
    "              "
   ]
  }
 ],
 "metadata": {
  "kernelspec": {
   "display_name": "Python 3",
   "language": "python",
   "name": "python3"
  },
  "language_info": {
   "codemirror_mode": {
    "name": "ipython",
    "version": 3
   },
   "file_extension": ".py",
   "mimetype": "text/x-python",
   "name": "python",
   "nbconvert_exporter": "python",
   "pygments_lexer": "ipython3",
   "version": "3.8.2"
  }
 },
 "nbformat": 4,
 "nbformat_minor": 4
}
