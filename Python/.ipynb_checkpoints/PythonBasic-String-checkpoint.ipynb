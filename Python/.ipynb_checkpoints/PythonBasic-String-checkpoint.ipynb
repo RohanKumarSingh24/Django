{
 "cells": [
  {
   "cell_type": "code",
   "execution_count": 1,
   "metadata": {},
   "outputs": [],
   "source": [
    "# Difference Between Range and XRange\n",
    "\n",
    "# range():\n",
    "\n",
    "# The range is an inbuilt function that generates the list. It creates a static list before running the iteration.\n",
    "\n",
    "# Let’s take an example of range(1, 10).\n",
    "\n",
    "# Note: We are only passing two parameters. By default step-parameter value is 1. So, while each iteration, \n",
    "#       the value is incremented by one.\n",
    "\n",
    "# It creates the list of size 9 having elements 1 to 9 (9 inclusive) and returns list object.\n",
    "\n",
    "# xrabge():\n",
    "# Unlike range, xrange returns xrange sequence object.\n",
    "# It doesn’t create a list and each sequence element is evaluated lazily during each iteration. \n",
    "# In other words, next iteration is similar to the returning last_value+1.\n",
    "\n",
    "# Taking an example of xrange(1, 10) …\n",
    "\n",
    "# It evaluates each element in the sequence and returns values from 1 to 9 (9 inclusive).\n",
    "\n",
    "# The xrange() is an another generator and the value is created using a special technique called as yielding. \n",
    "# For more detail, you can read generator function and yield value in Python.\n",
    "\n",
    "# As range() created a list of all the elements and save it before iterating. Whereas, xrange does not \n",
    "# saves any element and evaluate each element during each iteration.\n",
    "\n",
    "# So, range() takes more memory to save these elements in the list.\n",
    "\n",
    "# Which is faster?\n",
    "# Running xrange() is slower as compared to the range() as xrange evaluates the value of element during each iteration. \n",
    "# It is also called as lazy evaluation.\n",
    "\n",
    "# You can use timeit module to figure out the time required for each iteration during \n",
    "# evaluating values for range() and xrange().\n",
    "\n",
    "# Which one to use when?\n",
    "\n",
    "# If you are performing an action on very large range elements, it is good to use xrange(). \n",
    "# It doesn’t save any elements. It just evaluates next value whenever needed.\n",
    "\n",
    "# The xrange() is very well optimized than range().\n",
    "\n",
    "# If you need faster execution of your program, use range()."
   ]
  },
  {
   "cell_type": "code",
   "execution_count": null,
   "metadata": {},
   "outputs": [],
   "source": []
  }
 ],
 "metadata": {
  "kernelspec": {
   "display_name": "Python 3",
   "language": "python",
   "name": "python3"
  },
  "language_info": {
   "codemirror_mode": {
    "name": "ipython",
    "version": 3
   },
   "file_extension": ".py",
   "mimetype": "text/x-python",
   "name": "python",
   "nbconvert_exporter": "python",
   "pygments_lexer": "ipython3",
   "version": "3.8.2"
  }
 },
 "nbformat": 4,
 "nbformat_minor": 4
}
