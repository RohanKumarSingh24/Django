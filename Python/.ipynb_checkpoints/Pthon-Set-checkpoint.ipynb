{
 "cells": [
  {
   "cell_type": "code",
   "execution_count": 1,
   "metadata": {},
   "outputs": [],
   "source": [
    "# SET()\n",
    "# In Python, Set is an unordered collection of data type that is iterable, mutable and has no duplicate elements. \n",
    "# The order of elements in a set is undefined though it may consist of various elements.\n",
    "\n",
    "# The major advantage of using a set, as opposed to a list, is that it has a highly optimized method for checking\n",
    "# whether a specific element is contained in the set."
   ]
  },
  {
   "cell_type": "code",
   "execution_count": 12,
   "metadata": {},
   "outputs": [
    {
     "data": {
      "text/plain": [
       "{1, 2, 3, 4, 5, 'ritesh', 'rohan', 'vipul'}"
      ]
     },
     "execution_count": 12,
     "metadata": {},
     "output_type": "execute_result"
    }
   ],
   "source": [
    "# r=set([1,2,3,4,5,6,7,8,9,1,1,2,2,3])\n",
    "r=set(('rohan',1,2,3,4,4,5,'ritesh','vipul','rohan'))\n",
    "r"
   ]
  },
  {
   "cell_type": "code",
   "execution_count": 15,
   "metadata": {},
   "outputs": [
    {
     "data": {
      "text/plain": [
       "{'rakesh', 'ritesh', 'rohan'}"
      ]
     },
     "execution_count": 15,
     "metadata": {},
     "output_type": "execute_result"
    }
   ],
   "source": [
    "t1=set('geeksforgeeks')\n",
    "t2=set({'rohan':90,'rakesh':90,'rohan':60,'ritesh':99})\n",
    "t2"
   ]
  },
  {
   "cell_type": "code",
   "execution_count": null,
   "metadata": {},
   "outputs": [],
   "source": [
    "#Adding Elements to a Set\n",
    "# Using add() method\n",
    "# Elements can be added to the Set by using built-in add() function. Only one element at a time can be added to the set by\n",
    "# using add() method, loops are used to add multiple elements at a time with the use of add() method.\n",
    "\n",
    "# Note – Lists cannot be added to a set as elements because Lists are not hashable whereas Tuples can be added because\n",
    "#        tuples are immutable and hence Hashable."
   ]
  },
  {
   "cell_type": "code",
   "execution_count": 22,
   "metadata": {},
   "outputs": [
    {
     "data": {
      "text/plain": [
       "{(10, 20), 10, 13, 2, 20, 21, 22, 23, 24, 25, 26, 27, 28, 29, 'rohan'}"
      ]
     },
     "execution_count": 22,
     "metadata": {},
     "output_type": "execute_result"
    }
   ],
   "source": [
    "s=set()\n",
    "s.add(10)\n",
    "s.add(2)\n",
    "s.add(13)\n",
    "s.add('rohan')\n",
    "s.add((10,20))\n",
    "for i in range(20,30):\n",
    "    s.add(i)\n",
    "s"
   ]
  },
  {
   "cell_type": "code",
   "execution_count": null,
   "metadata": {},
   "outputs": [],
   "source": [
    "#Update()\n",
    "# For addition of two or more elements Update() method is used. The update() method accepts lists, strings, \n",
    "# tuples as well as other sets as its arguments. In all of these cases, duplicate elements are avoided."
   ]
  },
  {
   "cell_type": "code",
   "execution_count": 23,
   "metadata": {},
   "outputs": [
    {
     "data": {
      "text/plain": [
       "{(10, 20), 10, 13, 2, 20, 21, 22, 23, 24, 25, 26, 27, 28, 29, 'rohan'}"
      ]
     },
     "execution_count": 23,
     "metadata": {},
     "output_type": "execute_result"
    }
   ],
   "source": [
    "s"
   ]
  },
  {
   "cell_type": "code",
   "execution_count": 34,
   "metadata": {},
   "outputs": [
    {
     "name": "stdout",
     "output_type": "stream",
     "text": [
      "{2, 100, 'rohan', 10, 13, 60, (10, 20), 50, 20, 21, 22, 23, 24, 25, 26, 27, 28, 29}\n"
     ]
    }
   ],
   "source": [
    "s.update((50,'rohan'))\n",
    "print(s)"
   ]
  },
  {
   "cell_type": "code",
   "execution_count": null,
   "metadata": {},
   "outputs": [],
   "source": []
  },
  {
   "cell_type": "code",
   "execution_count": 35,
   "metadata": {},
   "outputs": [],
   "source": [
    "# Accessing a Set:\n",
    "# Set items cannot be accessed by referring to an index, since sets are unordered the items has no index. \n",
    "# But you can loop through the set items using a for loop, or ask if a specified value is present in a set, \n",
    "# by using the in keyword.\n",
    "\n"
   ]
  },
  {
   "cell_type": "code",
   "execution_count": 36,
   "metadata": {},
   "outputs": [
    {
     "name": "stdout",
     "output_type": "stream",
     "text": [
      "2\n",
      "100\n",
      "rohan\n",
      "10\n",
      "13\n",
      "60\n",
      "(10, 20)\n",
      "50\n",
      "20\n",
      "21\n",
      "22\n",
      "23\n",
      "24\n",
      "25\n",
      "26\n",
      "27\n",
      "28\n",
      "29\n"
     ]
    }
   ],
   "source": [
    "for i in s:\n",
    "    print(i)"
   ]
  },
  {
   "cell_type": "code",
   "execution_count": 37,
   "metadata": {},
   "outputs": [],
   "source": [
    "# Removing elements from the Set:\n",
    "# Using remove() method :\n",
    "    \n",
    "# Elements can be removed from the Set by using built-in remove() function but a KeyError arises if element \n",
    "# doesn’t exist in the set. \n",
    "\n",
    "# discard() method:\n",
    "    \n",
    "# To remove elements from a set without KeyError, use discard(), if the element doesn’t \n",
    "# exist in the set, it remains unchanged."
   ]
  },
  {
   "cell_type": "code",
   "execution_count": 38,
   "metadata": {},
   "outputs": [
    {
     "data": {
      "text/plain": [
       "{(10, 20), 10, 100, 13, 2, 20, 21, 22, 23, 24, 25, 26, 27, 28, 29, 50, 60}"
      ]
     },
     "execution_count": 38,
     "metadata": {},
     "output_type": "execute_result"
    }
   ],
   "source": [
    "s.remove('rohan')\n",
    "s"
   ]
  },
  {
   "cell_type": "code",
   "execution_count": 42,
   "metadata": {},
   "outputs": [
    {
     "ename": "KeyError",
     "evalue": "'rohan'",
     "output_type": "error",
     "traceback": [
      "\u001b[0;31m---------------------------------------------------------------------------\u001b[0m",
      "\u001b[0;31mKeyError\u001b[0m                                  Traceback (most recent call last)",
      "\u001b[0;32m<ipython-input-42-afaa61dfd424>\u001b[0m in \u001b[0;36m<module>\u001b[0;34m\u001b[0m\n\u001b[0;32m----> 1\u001b[0;31m \u001b[0ms\u001b[0m\u001b[0;34m.\u001b[0m\u001b[0mremove\u001b[0m\u001b[0;34m(\u001b[0m\u001b[0;34m'rohan'\u001b[0m\u001b[0;34m)\u001b[0m\u001b[0;34m\u001b[0m\u001b[0;34m\u001b[0m\u001b[0m\n\u001b[0m",
      "\u001b[0;31mKeyError\u001b[0m: 'rohan'"
     ]
    }
   ],
   "source": [
    "s.remove('rohan')"
   ]
  },
  {
   "cell_type": "code",
   "execution_count": 43,
   "metadata": {},
   "outputs": [],
   "source": [
    "s.discard('remove')"
   ]
  },
  {
   "cell_type": "code",
   "execution_count": 44,
   "metadata": {},
   "outputs": [
    {
     "data": {
      "text/plain": [
       "{(10, 20), 10, 100, 13, 2, 20, 21, 22, 23, 24, 25, 26, 27, 28, 29, 50, 60}"
      ]
     },
     "execution_count": 44,
     "metadata": {},
     "output_type": "execute_result"
    }
   ],
   "source": [
    "s"
   ]
  },
  {
   "cell_type": "code",
   "execution_count": null,
   "metadata": {},
   "outputs": [],
   "source": [
    "#pop():\n",
    "\n",
    "# Pop() function can also be used to remove and return an element from the set, but it removes only the last element of the set.\n",
    "\n",
    "# Note – If the set is unordered then there’s no such way to determine which element is popped by using the pop() function."
   ]
  },
  {
   "cell_type": "code",
   "execution_count": 45,
   "metadata": {},
   "outputs": [
    {
     "data": {
      "text/plain": [
       "2"
      ]
     },
     "execution_count": 45,
     "metadata": {},
     "output_type": "execute_result"
    }
   ],
   "source": [
    "s.pop()"
   ]
  },
  {
   "cell_type": "code",
   "execution_count": null,
   "metadata": {},
   "outputs": [],
   "source": [
    "# clear():\n",
    "# To remove all the elements from the set, clear() function is used."
   ]
  },
  {
   "cell_type": "code",
   "execution_count": 46,
   "metadata": {},
   "outputs": [],
   "source": [
    "s.clear()"
   ]
  },
  {
   "cell_type": "code",
   "execution_count": 47,
   "metadata": {},
   "outputs": [
    {
     "data": {
      "text/plain": [
       "set()"
      ]
     },
     "execution_count": 47,
     "metadata": {},
     "output_type": "execute_result"
    }
   ],
   "source": [
    "s"
   ]
  },
  {
   "cell_type": "code",
   "execution_count": 48,
   "metadata": {},
   "outputs": [],
   "source": [
    "# Frozenset:\n",
    "# Frozen sets in Python are immutable objects that only support methods and operators that produce a result \n",
    "# without affecting the frozen set or sets to which they are applied. While elements of a set can be modified at \n",
    "# any time, elements of the frozen set remain the same after creation.\n",
    "# If no parameters are passed, it returns an empty frozenset."
   ]
  },
  {
   "cell_type": "code",
   "execution_count": 52,
   "metadata": {},
   "outputs": [
    {
     "data": {
      "text/plain": [
       "frozenset({1, 2, 3, 4, 5, 6, 'anand', 'raja', 'rohit', 'vijay'})"
      ]
     },
     "execution_count": 52,
     "metadata": {},
     "output_type": "execute_result"
    }
   ],
   "source": [
    "s1=(1,2,3,4,5,6,'rohit','vijay','raja','anand')\n",
    "f=frozenset(s1)\n",
    "f"
   ]
  },
  {
   "cell_type": "code",
   "execution_count": 53,
   "metadata": {},
   "outputs": [
    {
     "data": {
      "text/plain": [
       "frozenset()"
      ]
     },
     "execution_count": 53,
     "metadata": {},
     "output_type": "execute_result"
    }
   ],
   "source": [
    "frozenset()"
   ]
  },
  {
   "cell_type": "code",
   "execution_count": null,
   "metadata": {},
   "outputs": [],
   "source": []
  },
  {
   "cell_type": "code",
   "execution_count": null,
   "metadata": {},
   "outputs": [],
   "source": [
    "# FUNCTION\tDESCRIPTION\n",
    "# add()\tAdds an element to a set\n",
    "# remove()\tRemoves an element from a set. If the element is not present in the set, raise a KeyError\n",
    "# clear()\tRemoves all elements form a set\n",
    "# copy()\tReturns a shallow copy of a set\n",
    "# pop()\tRemoves and returns an arbitrary set element. Raise KeyError if the set is empty\n",
    "# update()\tUpdates a set with the union of itself and others\n",
    "# union()\tReturns the union of sets in a new set\n",
    "# difference()\tReturns the difference of two or more sets as a new set\n",
    "# difference_update()\tRemoves all elements of another set from this set\n",
    "# discard()\tRemoves an element from set if it is a member. (Do nothing if the element is not in set)\n",
    "# intersection()\tReturns the intersection of two sets as a new set\n",
    "# intersection_update()\tUpdates the set with the intersection of itself and another\n",
    "# isdisjoint()\tReturns True if two sets have a null intersection\n",
    "# issubset()\tReturns True if another set contains this set\n",
    "# issuperset()\tReturns True if this set contains another set\n",
    "# symmetric_difference()\tReturns the symmetric difference of two sets as a new set\n",
    "# symmetric_difference_update()\tUpdates a set with the symmetric difference of itself and another"
   ]
  },
  {
   "cell_type": "code",
   "execution_count": 57,
   "metadata": {},
   "outputs": [],
   "source": [
    "# Union:\n",
    "# Union of two given sets is the smallest set which contains all the elements of both the sets. \n",
    "# Union of two given sets A and B is a set which consists of all the elements of A and all the elements of \n",
    "# B such that no element is repeated.\n",
    "# a={1,2,3,4}\n",
    "# b={7,8,9,6}\n",
    "# aub={1,2,3,4,6,7,8,9}\n"
   ]
  },
  {
   "cell_type": "code",
   "execution_count": 61,
   "metadata": {},
   "outputs": [
    {
     "data": {
      "text/plain": [
       "{1, 2, 3, 4, 5, 6, 7, 8, 9, 10, 11, 12, 13, 14}"
      ]
     },
     "execution_count": 61,
     "metadata": {},
     "output_type": "execute_result"
    }
   ],
   "source": [
    "set1={1,2,3,4,5,6}\n",
    "set2={5,6,7,8,9,10}\n",
    "set3={5,6,11,12,13,14}\n",
    "set1.union(set2)\n",
    "set1.union(set2,set3)"
   ]
  },
  {
   "cell_type": "code",
   "execution_count": 63,
   "metadata": {},
   "outputs": [
    {
     "data": {
      "text/plain": [
       "{1, 2, 3, 4}"
      ]
     },
     "execution_count": 63,
     "metadata": {},
     "output_type": "execute_result"
    }
   ],
   "source": [
    "#Difference():\n",
    "# The difference between the two sets in Python is equal to the difference between the number of elements in two sets. \n",
    "# The function difference() returns a set that is the difference between two sets. Let’s try to find out what will be \n",
    "# the difference between two sets A and B. Then (set A – set B) will be the elements present in set A but not in B\n",
    "# and (set B – set A) will be the elements present in set B but not in set A.\n",
    "\n",
    "# set A = {10, 20, 30, 40, 80}\n",
    "# set B = {100, 30, 80, 40, 60}\n",
    "\n",
    "# set A - set B = {10, 20}\n",
    "# set B - set A = {100, 60}\n",
    "\n",
    "# Explanation: A - B is equal to the elements present in A but not in B\n",
    "#              B - A is equal to the elements present in B but not in A\n"
   ]
  },
  {
   "cell_type": "code",
   "execution_count": 64,
   "metadata": {},
   "outputs": [
    {
     "data": {
      "text/plain": [
       "{1, 2, 3, 4}"
      ]
     },
     "execution_count": 64,
     "metadata": {},
     "output_type": "execute_result"
    }
   ],
   "source": [
    "#set1-set2\n",
    "set1.difference(set2)"
   ]
  },
  {
   "cell_type": "code",
   "execution_count": 65,
   "metadata": {},
   "outputs": [
    {
     "data": {
      "text/plain": [
       "{7, 8, 9, 10}"
      ]
     },
     "execution_count": 65,
     "metadata": {},
     "output_type": "execute_result"
    }
   ],
   "source": [
    "#set2-set1\n",
    "set2.difference(set1)"
   ]
  },
  {
   "cell_type": "code",
   "execution_count": 66,
   "metadata": {},
   "outputs": [
    {
     "data": {
      "text/plain": [
       "{1, 2, 3, 4}"
      ]
     },
     "execution_count": 66,
     "metadata": {},
     "output_type": "execute_result"
    }
   ],
   "source": [
    "# Also using( -)sign:\n",
    "set1-set2\n"
   ]
  },
  {
   "cell_type": "code",
   "execution_count": 74,
   "metadata": {},
   "outputs": [
    {
     "data": {
      "text/plain": [
       "{5, 6, 7, 8, 9, 10}"
      ]
     },
     "execution_count": 74,
     "metadata": {},
     "output_type": "execute_result"
    }
   ],
   "source": [
    "set2-set1"
   ]
  },
  {
   "cell_type": "code",
   "execution_count": 75,
   "metadata": {},
   "outputs": [
    {
     "data": {
      "text/plain": [
       "{1, 2, 3, 4}"
      ]
     },
     "execution_count": 75,
     "metadata": {},
     "output_type": "execute_result"
    }
   ],
   "source": [
    "set1"
   ]
  },
  {
   "cell_type": "code",
   "execution_count": null,
   "metadata": {},
   "outputs": [],
   "source": []
  },
  {
   "cell_type": "code",
   "execution_count": 73,
   "metadata": {},
   "outputs": [],
   "source": [
    "#set difference_update():\n",
    "\n",
    "# The difference_update() method helps in an in-place way of differentiating the set. \n",
    "# The previously discussed set difference() helps to find out the difference between two sets and returns a new \n",
    "# set with the difference value, but the difference_update() updates the existing caller set.\n",
    "\n",
    "# If A and B are two sets. The set difference() method will get the (A – B) and will return a new set. \n",
    "# The set difference_update() method modifies the existing set. If (A – B) is performed, then A gets modified \n",
    "# into (A – B), and if (B – A) is performed, then B gets modfied into (B – A).\n",
    "\n",
    "# Syntax:\n",
    "\n",
    "# A.difference_update(B) for (A - B)\n",
    "# B.difference_update(A) for (B - A)"
   ]
  },
  {
   "cell_type": "code",
   "execution_count": 77,
   "metadata": {},
   "outputs": [
    {
     "data": {
      "text/plain": [
       "{10, 20}"
      ]
     },
     "execution_count": 77,
     "metadata": {},
     "output_type": "execute_result"
    }
   ],
   "source": [
    "a={10,20,30,40,80}\n",
    "b={100,30,80,40,60}\n",
    "a.difference_update(b)\n",
    "a"
   ]
  },
  {
   "cell_type": "code",
   "execution_count": 80,
   "metadata": {},
   "outputs": [
    {
     "data": {
      "text/plain": [
       "{30, 40, 60, 80, 100}"
      ]
     },
     "execution_count": 80,
     "metadata": {},
     "output_type": "execute_result"
    }
   ],
   "source": [
    "b.difference_update(a)\n",
    "b"
   ]
  },
  {
   "cell_type": "code",
   "execution_count": null,
   "metadata": {},
   "outputs": [],
   "source": [
    "# intersection():\n",
    "# Intersection of two given sets is the largest set which contains all the elements that are common to both the sets. \n",
    "# Intersection of two given sets A and B is a set which consists of all the elements which are \n",
    "# common to both A and B.\n",
    "\n",
    "# Input: Let set A = {2, 4, 5, 6}\n",
    "#        and set B = {4, 6, 7, 8}\n",
    "# Output: {4,6} \n",
    "# Explanation: Taking the common elements in both the sets,\n",
    "#              we get {4,6} as the intersection of both the sets."
   ]
  },
  {
   "cell_type": "code",
   "execution_count": 83,
   "metadata": {},
   "outputs": [
    {
     "data": {
      "text/plain": [
       "{3, 4}"
      ]
     },
     "execution_count": 83,
     "metadata": {},
     "output_type": "execute_result"
    }
   ],
   "source": [
    "A={1,2,3,4,5,6,7}\n",
    "B={3,4,10,11,12,13,14}\n",
    "C={10,3,4,6}\n",
    "A.intersection(B,C)"
   ]
  },
  {
   "cell_type": "code",
   "execution_count": 85,
   "metadata": {},
   "outputs": [],
   "source": [
    "# intersection_update():\n",
    "#Updates the set with the intersection of itself and another"
   ]
  },
  {
   "cell_type": "code",
   "execution_count": 87,
   "metadata": {},
   "outputs": [
    {
     "data": {
      "text/plain": [
       "{3, 4}"
      ]
     },
     "execution_count": 87,
     "metadata": {},
     "output_type": "execute_result"
    }
   ],
   "source": [
    "A.intersection_update(B)\n",
    "A"
   ]
  },
  {
   "cell_type": "code",
   "execution_count": null,
   "metadata": {},
   "outputs": [],
   "source": [
    "# isdisjoint():\n",
    "# Two sets are said to be disjoint when their intersection is null. In simple words they do not have any \n",
    "# common element in between them.\n",
    "\n",
    "# Examples:\n",
    "\n",
    "# Let set A = {2, 4, 5, 6}\n",
    "# and set B = {7, 8, 9, 10} \n",
    "\n",
    "# set A and set B are said to be be disjoint sets as their\n",
    "# intersection is null. They do-not have any common elements in between them. \n",
    "\n",
    "# The isdisjoint() method takes only a single argument.\n",
    "# It can also take an iterable (list, tuple, dictionary and string) to disjoint(). \n",
    "# The isdisjoint() method will automatically convert iterables to set and checks whether the sets are disjoint or not."
   ]
  },
  {
   "cell_type": "code",
   "execution_count": 88,
   "metadata": {},
   "outputs": [
    {
     "data": {
      "text/plain": [
       "True"
      ]
     },
     "execution_count": 88,
     "metadata": {},
     "output_type": "execute_result"
    }
   ],
   "source": [
    "d1={1,3,5,7}\n",
    "d2={10,11,12,13}\n",
    "d1.isdisjoint(d2)"
   ]
  },
  {
   "cell_type": "code",
   "execution_count": null,
   "metadata": {},
   "outputs": [],
   "source": [
    "#issubset():\n",
    "\n",
    "# The issubset() method returns True if all elements of a set A are present in another set B which is\n",
    "# passed as an argument and returns false if all elements not present.\n",
    "\n",
    "# Syntax:\n",
    "\n",
    "# A.issubset(B)\n",
    "# checks whether A is a subset of B or not.\n",
    "# Returns:\n",
    "# returns true if A is a subset of B otherwise false."
   ]
  },
  {
   "cell_type": "code",
   "execution_count": 90,
   "metadata": {},
   "outputs": [
    {
     "data": {
      "text/plain": [
       "True"
      ]
     },
     "execution_count": 90,
     "metadata": {},
     "output_type": "execute_result"
    }
   ],
   "source": [
    "A = {4, 1, 3, 5} \n",
    "B = {6, 0, 4, 1, 5, 0, 3, 5} \n",
    "A.issubset(B)"
   ]
  },
  {
   "cell_type": "code",
   "execution_count": 91,
   "metadata": {},
   "outputs": [
    {
     "data": {
      "text/plain": [
       "False"
      ]
     },
     "execution_count": 91,
     "metadata": {},
     "output_type": "execute_result"
    }
   ],
   "source": [
    "B.issubset(A)"
   ]
  },
  {
   "cell_type": "code",
   "execution_count": null,
   "metadata": {},
   "outputs": [],
   "source": [
    "#issuperset():\n",
    "\n",
    "# The issuperset() method returns True if all elements of a set A occupies set B which is passed as an \n",
    "# argument and returns false if all elements of B not present in A.\n",
    "# This means if A is a superset of B then it returns true; else False\n",
    "\n",
    "# Syntax:\n",
    "\n",
    "# A.issuperset(B)\n",
    "# checks whether A is a superset of B or not.\n",
    "# Returns:\n",
    "\n",
    "# True if A is a superset of B; otherwise false.\n"
   ]
  },
  {
   "cell_type": "code",
   "execution_count": 92,
   "metadata": {},
   "outputs": [
    {
     "data": {
      "text/plain": [
       "False"
      ]
     },
     "execution_count": 92,
     "metadata": {},
     "output_type": "execute_result"
    }
   ],
   "source": [
    "A = {4, 1, 3, 5} \n",
    "B = {6, 0, 4, 1, 5, 0, 3, 5} \n",
    "A.issuperset(B)"
   ]
  },
  {
   "cell_type": "code",
   "execution_count": 93,
   "metadata": {},
   "outputs": [
    {
     "data": {
      "text/plain": [
       "True"
      ]
     },
     "execution_count": 93,
     "metadata": {},
     "output_type": "execute_result"
    }
   ],
   "source": [
    "B.issuperset(A)"
   ]
  },
  {
   "cell_type": "code",
   "execution_count": null,
   "metadata": {},
   "outputs": [],
   "source": [
    "#symmetric_difference():\n",
    "# This in-built function of Python Set helps us to get the symmetric difference between two sets, which is equal to \n",
    "# the elements present in either of the two sets, but not common to both the sets. Let’s look at the Venn diagram of \n",
    "# the symmetric_difference between two sets.\n",
    "\n",
    "# Input: set_A = {1, 2, 3, 4, 5}\n",
    "#        set_B = {6, 7, 3, 9, 4}\n",
    "# Output :  {1, 2, 5, 6, 7, 9}\n",
    "# Explanation: The common elements {3, 4} \n",
    "# are discarded from the output.\n",
    "\n",
    "# Input:\n",
    "# set_A = {\"ram\", \"rahim\", \"ajay\", \"rishav\", \"aakash\"}\n",
    "# set_B = {\"aakash\", \"ajay\", \"shyam\", \"ram\", \"ravi\"}\n",
    "# Output: {\"rahim\", \"rishav\", \"shyam\", \"ravi\"}\n",
    "\n",
    "# Explanation: The common elements {\"ram\", \"ajay\", \n",
    "# \"aakash\"} are discarded from the final set"
   ]
  },
  {
   "cell_type": "code",
   "execution_count": 94,
   "metadata": {},
   "outputs": [
    {
     "data": {
      "text/plain": [
       "{1, 2, 5, 6, 7, 9}"
      ]
     },
     "execution_count": 94,
     "metadata": {},
     "output_type": "execute_result"
    }
   ],
   "source": [
    "set_A = {1, 2, 3, 4, 5}\n",
    "set_B = {6, 7, 3, 9, 4}\n",
    "set_A.symmetric_difference(set_B)"
   ]
  },
  {
   "cell_type": "code",
   "execution_count": 95,
   "metadata": {},
   "outputs": [
    {
     "data": {
      "text/plain": [
       "{1, 2, 5, 6, 7, 9}"
      ]
     },
     "execution_count": 95,
     "metadata": {},
     "output_type": "execute_result"
    }
   ],
   "source": [
    "set_B.symmetric_difference(set_A)"
   ]
  },
  {
   "cell_type": "code",
   "execution_count": null,
   "metadata": {},
   "outputs": [],
   "source": []
  },
  {
   "cell_type": "code",
   "execution_count": null,
   "metadata": {},
   "outputs": [],
   "source": []
  },
  {
   "cell_type": "code",
   "execution_count": null,
   "metadata": {},
   "outputs": [],
   "source": []
  },
  {
   "cell_type": "code",
   "execution_count": null,
   "metadata": {},
   "outputs": [],
   "source": []
  }
 ],
 "metadata": {
  "kernelspec": {
   "display_name": "Python 3",
   "language": "python",
   "name": "python3"
  },
  "language_info": {
   "codemirror_mode": {
    "name": "ipython",
    "version": 3
   },
   "file_extension": ".py",
   "mimetype": "text/x-python",
   "name": "python",
   "nbconvert_exporter": "python",
   "pygments_lexer": "ipython3",
   "version": "3.8.2"
  }
 },
 "nbformat": 4,
 "nbformat_minor": 4
}
