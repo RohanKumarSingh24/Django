{
 "cells": [
  {
   "cell_type": "code",
   "execution_count": 1,
   "metadata": {},
   "outputs": [],
   "source": [
    "#TUPLE\n",
    "# Tuple is a collection of Python objects much like a list. The sequence of values stored in a tuple can \n",
    "# be of any type, and they are indexed by integers.\n",
    "# Values of a tuple are syntactically separated by ‘commas’. Although it is not necessary, \n",
    "# it is more common to define a tuple by closing the sequence of values in parentheses. This helps in understanding \n",
    "# the Python tuples more easily."
   ]
  },
  {
   "cell_type": "code",
   "execution_count": 2,
   "metadata": {},
   "outputs": [],
   "source": [
    "# Creating Tuple\n"
   ]
  },
  {
   "cell_type": "code",
   "execution_count": 3,
   "metadata": {},
   "outputs": [
    {
     "data": {
      "text/plain": [
       "tuple"
      ]
     },
     "execution_count": 3,
     "metadata": {},
     "output_type": "execute_result"
    }
   ],
   "source": [
    "tuple=(1,2,3,4,5,6)\n",
    "type(tuple)"
   ]
  },
  {
   "cell_type": "code",
   "execution_count": 10,
   "metadata": {},
   "outputs": [],
   "source": [
    "list1=[1,2,3,4,5,6,7]"
   ]
  },
  {
   "cell_type": "code",
   "execution_count": 14,
   "metadata": {},
   "outputs": [
    {
     "name": "stdout",
     "output_type": "stream",
     "text": [
      "('geeks', 'for', 'geeks', 10, 20, 20)\n",
      "{'rohan': 50, 'rakesh': 50}\n"
     ]
    }
   ],
   "source": [
    "#Mixed Tuple\n",
    "tuple1=('geeks','for','geeks',10,20,20)\n",
    "tuple2=({'rohan':50,'rakesh':50})\n",
    "print(tuple1)\n",
    "print(tuple2)"
   ]
  },
  {
   "cell_type": "code",
   "execution_count": 18,
   "metadata": {},
   "outputs": [
    {
     "data": {
      "text/plain": [
       "({'rohan': 50, 'rakesh': 50}, ('geeks', 'for', 'geeks', 10, 20, 20))"
      ]
     },
     "execution_count": 18,
     "metadata": {},
     "output_type": "execute_result"
    }
   ],
   "source": [
    "# Add Multiple tuple\n",
    "t1=(tuple2,tuple1)\n",
    "t1"
   ]
  },
  {
   "cell_type": "code",
   "execution_count": 25,
   "metadata": {},
   "outputs": [
    {
     "name": "stdout",
     "output_type": "stream",
     "text": [
      "('geeks',)\n",
      "(('geeks',),)\n",
      "((('geeks',),),)\n",
      "(((('geeks',),),),)\n",
      "((((('geeks',),),),),)\n"
     ]
    }
   ],
   "source": [
    "t=('geeks')\n",
    "n=5\n",
    "for i in range(n):\n",
    "    t=(t,)\n",
    "    print(t)"
   ]
  },
  {
   "cell_type": "code",
   "execution_count": 26,
   "metadata": {},
   "outputs": [],
   "source": [
    "#Accessing of Tuples\n",
    "# Tuples are immutable, and usually, they contain a sequence of heterogeneous elements that are accessed via \n",
    "# unpacking or indexing (or even by attribute in the case of named tuples). Lists are mutable, and their elements\n",
    "# are usually homogeneous and are accessed by iterating over the list.\n",
    "\n",
    "# NOTE : In unpacking of tuple number of variables on left hand side should be equal to number of values in given tuple a."
   ]
  },
  {
   "cell_type": "code",
   "execution_count": 34,
   "metadata": {},
   "outputs": [
    {
     "data": {
      "text/plain": [
       "'rohan'"
      ]
     },
     "execution_count": 34,
     "metadata": {},
     "output_type": "execute_result"
    }
   ],
   "source": [
    "tuple=(1,2,3,4,5,6,'rohan')\n",
    "tuple[6]\n"
   ]
  },
  {
   "cell_type": "code",
   "execution_count": 38,
   "metadata": {},
   "outputs": [
    {
     "data": {
      "text/plain": [
       "'geeks'"
      ]
     },
     "execution_count": 38,
     "metadata": {},
     "output_type": "execute_result"
    }
   ],
   "source": [
    "# tuple1=('geeks','for','geeks')\n",
    "tuple1=('geeks')\n",
    "tuple1[0:]"
   ]
  },
  {
   "cell_type": "code",
   "execution_count": 56,
   "metadata": {},
   "outputs": [
    {
     "name": "stdout",
     "output_type": "stream",
     "text": [
      "sunday monday tuesday wednesday thursday friday saturday\n"
     ]
    }
   ],
   "source": [
    "t=('sunday','monday','tuesday','wednesday','thursday','friday','saturday')\n",
    "a,m,tu,w,t,f,s=t\n",
    "print(a,m,tu,w,t,f,s)\n",
    "# x,y,*z=t\n",
    "# print(x)\n",
    "# print(y)\n",
    "# print(*z)"
   ]
  },
  {
   "cell_type": "code",
   "execution_count": null,
   "metadata": {},
   "outputs": [],
   "source": [
    "# Unpacking a Tuple in Python:\n",
    "# Python Tuples In python tuples are used to sore immutable object. Python Tuples are very similar to lists except \n",
    "# to some situations. Python tuples are immutable means that they can not be modified in whole program.\n",
    "\n",
    "# Packing and Unpacking a Tuple : In Python there is a very powerful tuple assignment feature that assigns right hand \n",
    "#                                 side of values into left hand side. In other way it is called unpacking of a tuple of \n",
    "#                                 values into a variable. In packing, we put values into a new tuple while in unpacking we\n",
    "#                                 extract those values into a single variable."
   ]
  },
  {
   "cell_type": "code",
   "execution_count": 47,
   "metadata": {},
   "outputs": [],
   "source": [
    "# example of packing and Unpacking"
   ]
  },
  {
   "cell_type": "code",
   "execution_count": 50,
   "metadata": {},
   "outputs": [
    {
     "name": "stdout",
     "output_type": "stream",
     "text": [
      "IIT(ISM)\n",
      "10000\n",
      "Dhanbad Jharkhand\n"
     ]
    }
   ],
   "source": [
    "#pack tuple\n",
    "a=('IIT(ISM)','10000','Dhanbad Jharkhand')\n",
    "#unpacking tuple\n",
    "(college_name,number_of_student,state)=a\n",
    "print(college_name)\n",
    "print(number_of_student)\n",
    "print(state)"
   ]
  },
  {
   "cell_type": "code",
   "execution_count": null,
   "metadata": {},
   "outputs": [],
   "source": [
    "# using *args\n",
    "\n",
    "# Python uses a special syntax to pass optional arguments (*args) for tuple unpacking. This means that there can be \n",
    "# many number of arguments in place of (*args) in python. All values will be assigned to every variable on left hand \n",
    "# side and all remaining values will be assigned to *args .\n"
   ]
  },
  {
   "cell_type": "code",
   "execution_count": 58,
   "metadata": {},
   "outputs": [
    {
     "name": "stdout",
     "output_type": "stream",
     "text": [
      "rohan [5, 6, 6, 'kumar'] singh\n"
     ]
    }
   ],
   "source": [
    "tuple=('rohan',5,6,6,'kumar','singh')\n",
    "a,*b,c=tuple\n",
    "print(a,b,c)"
   ]
  },
  {
   "cell_type": "code",
   "execution_count": 59,
   "metadata": {},
   "outputs": [
    {
     "name": "stdout",
     "output_type": "stream",
     "text": [
      "rohan 5 [6, 6, 'kumar', 'singh']\n"
     ]
    }
   ],
   "source": [
    "tuple=('rohan',5,6,6,'kumar','singh')\n",
    "a,b,*c=tuple\n",
    "print(a,b,c)"
   ]
  },
  {
   "cell_type": "code",
   "execution_count": 60,
   "metadata": {},
   "outputs": [
    {
     "name": "stdout",
     "output_type": "stream",
     "text": [
      "['rohan', 5, 6, 6] kumar singh\n"
     ]
    }
   ],
   "source": [
    "tuple=('rohan',5,6,6,'kumar','singh')\n",
    "*a,b,c=tuple\n",
    "print(a,b,c)"
   ]
  },
  {
   "cell_type": "code",
   "execution_count": 63,
   "metadata": {},
   "outputs": [
    {
     "data": {
      "text/plain": [
       "200"
      ]
     },
     "execution_count": 63,
     "metadata": {},
     "output_type": "execute_result"
    }
   ],
   "source": [
    "def result(var1,var2):\n",
    "    return var1*var2\n",
    "\n",
    "t=(10,20)\n",
    "result(*t)"
   ]
  },
  {
   "cell_type": "code",
   "execution_count": null,
   "metadata": {},
   "outputs": [],
   "source": [
    "# Concatenation of Tuples:\n",
    "# Concatenation of tuple is the process of joining of two or more Tuples. Concatenation is done by the use of ‘+’ operator. \n",
    "# Concatenation of tuples is done always from the end of the original tuple. Other arithmetic operations do not apply on Tuples.\n",
    "# Note- Only same datatypes can be combined with concatenation, an error arises if a list and a tuple are combined."
   ]
  },
  {
   "cell_type": "code",
   "execution_count": 69,
   "metadata": {},
   "outputs": [
    {
     "name": "stdout",
     "output_type": "stream",
     "text": [
      "(('roahn', 'kumar', 'singh', 5, 7, 19), ('geeks', 34, 45, 67, 'for', 'geeks', 23, 45))\n"
     ]
    }
   ],
   "source": [
    "tuple1=('roahn','kumar','singh',5,7,19)\n",
    "tuple2=('geeks',34,45,67,'for','geeks',23,45)\n",
    "tuple3=(tuple1,tuple2)\n",
    "print(tuple3)"
   ]
  },
  {
   "cell_type": "code",
   "execution_count": 73,
   "metadata": {},
   "outputs": [
    {
     "name": "stdout",
     "output_type": "stream",
     "text": [
      "('roahn', 'kumar', 'singh', 5, 7, 19, 'geeks', 34, 45, 67, 'for', 'geeks', 23, 45)\n"
     ]
    }
   ],
   "source": [
    "tuple4=tuple1+tuple2\n",
    "print(tuple4)"
   ]
  },
  {
   "cell_type": "code",
   "execution_count": 74,
   "metadata": {},
   "outputs": [],
   "source": [
    "# Slicing of Tuple:\n",
    "# Slicing of a Tuple is done to fetch a specific range or slice of sub-elements from a Tuple. Slicing can also\n",
    "# be done to lists and arrays. Indexing in a list results to fetching a single element whereas Slicing allows to \n",
    "# fetch a set of elements.\n",
    "# Note- Negative Increment values can also be used to reverse the sequence of Tuples"
   ]
  },
  {
   "cell_type": "code",
   "execution_count": 75,
   "metadata": {},
   "outputs": [
    {
     "data": {
      "text/plain": [
       "('roahn',\n",
       " 'kumar',\n",
       " 'singh',\n",
       " 5,\n",
       " 7,\n",
       " 19,\n",
       " 'geeks',\n",
       " 34,\n",
       " 45,\n",
       " 67,\n",
       " 'for',\n",
       " 'geeks',\n",
       " 23,\n",
       " 45)"
      ]
     },
     "execution_count": 75,
     "metadata": {},
     "output_type": "execute_result"
    }
   ],
   "source": [
    "tuple4[0:]"
   ]
  },
  {
   "cell_type": "code",
   "execution_count": 85,
   "metadata": {},
   "outputs": [
    {
     "data": {
      "text/plain": [
       "(45,\n",
       " 23,\n",
       " 'geeks',\n",
       " 'for',\n",
       " 67,\n",
       " 45,\n",
       " 34,\n",
       " 'geeks',\n",
       " 19,\n",
       " 7,\n",
       " 5,\n",
       " 'singh',\n",
       " 'kumar',\n",
       " 'roahn')"
      ]
     },
     "execution_count": 85,
     "metadata": {},
     "output_type": "execute_result"
    }
   ],
   "source": [
    "#reverse tuple:\n",
    "tuple4[::-1]"
   ]
  },
  {
   "cell_type": "code",
   "execution_count": null,
   "metadata": {},
   "outputs": [],
   "source": [
    "# Deleting a Tuple:\n",
    "# Tuples are immutable and hence they do not allow deletion of a part of it.\n",
    "# Entire tuple gets deleted by the use of del() method.\n",
    "# Note- Printing of Tuple after deletion results to an Error."
   ]
  },
  {
   "cell_type": "code",
   "execution_count": 90,
   "metadata": {},
   "outputs": [],
   "source": [
    "t=(1,2,3,4,5,6,7)\n",
    "del t\n",
    "#t"
   ]
  },
  {
   "cell_type": "code",
   "execution_count": null,
   "metadata": {},
   "outputs": [],
   "source": [
    "# BUILT-IN FUNCTION\tDESCRIPTION\n",
    "# all()\tReturns true if all element are true or if tuple is empty\n",
    "# any()\treturn true if any element of the tuple is true. if tuple is empty, return false\n",
    "# len()\tReturns length of the tuple or size of the tuple\n",
    "# enumerate()\tReturns enumerate object of tuple\n",
    "# max()\treturn maximum element of given tuple\n",
    "# min()\treturn minimum element of given tuple\n",
    "# sum()\tSums up the numbers in the tuple\n",
    "# sorted()\tinput elements in the tuple and return a new sorted list\n",
    "# tuple()\tConvert an iterable to a tuple."
   ]
  },
  {
   "cell_type": "code",
   "execution_count": null,
   "metadata": {},
   "outputs": [],
   "source": []
  },
  {
   "cell_type": "code",
   "execution_count": null,
   "metadata": {},
   "outputs": [],
   "source": []
  },
  {
   "cell_type": "code",
   "execution_count": null,
   "metadata": {},
   "outputs": [],
   "source": []
  },
  {
   "cell_type": "code",
   "execution_count": null,
   "metadata": {},
   "outputs": [],
   "source": []
  },
  {
   "cell_type": "code",
   "execution_count": null,
   "metadata": {},
   "outputs": [],
   "source": []
  },
  {
   "cell_type": "code",
   "execution_count": null,
   "metadata": {},
   "outputs": [],
   "source": []
  },
  {
   "cell_type": "code",
   "execution_count": null,
   "metadata": {},
   "outputs": [],
   "source": []
  },
  {
   "cell_type": "code",
   "execution_count": null,
   "metadata": {},
   "outputs": [],
   "source": []
  },
  {
   "cell_type": "code",
   "execution_count": null,
   "metadata": {},
   "outputs": [],
   "source": []
  }
 ],
 "metadata": {
  "kernelspec": {
   "display_name": "Python 3",
   "language": "python",
   "name": "python3"
  },
  "language_info": {
   "codemirror_mode": {
    "name": "ipython",
    "version": 3
   },
   "file_extension": ".py",
   "mimetype": "text/x-python",
   "name": "python",
   "nbconvert_exporter": "python",
   "pygments_lexer": "ipython3",
   "version": "3.8.2"
  }
 },
 "nbformat": 4,
 "nbformat_minor": 4
}
