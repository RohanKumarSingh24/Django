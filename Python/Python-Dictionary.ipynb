{
 "cells": [
  {
   "cell_type": "code",
   "execution_count": 1,
   "metadata": {},
   "outputs": [],
   "source": [
    "#Dictionary{}:\n",
    "# Dictionary in Python is an unordered collection of data values, used to store data values like a map, \n",
    "# which unlike other Data Types that hold only single value as an element, Dictionary holds key:value pair. \n",
    "# Key value is provided in the dictionary to make it more optimized.\n",
    "\n",
    "# Note – Keys in a dictionary doesn’t allows Polymorphism."
   ]
  },
  {
   "cell_type": "code",
   "execution_count": null,
   "metadata": {},
   "outputs": [],
   "source": [
    "#Creating a Dictionary:\n",
    "    \n",
    "# In Python, a Dictionary can be created by placing sequence of elements within curly {} braces, separated by ‘comma’. \n",
    "# Dictionary holds a pair of values, one being the Key and the other corresponding pair element being its Key:value. \n",
    "# Values in a dictionary can be of any datatype and can be duplicated, whereas keys can’t be repeated and must be immutable.\n",
    "\n",
    "# Note – Dictionary keys are case sensitive, same name but different cases of Key will be treated distinctly."
   ]
  },
  {
   "cell_type": "code",
   "execution_count": 7,
   "metadata": {},
   "outputs": [
    {
     "data": {
      "text/plain": [
       "{'rohan': 90, 3: [1, 2, 3, 4, 5, 6, 7], 'ramesh': [20, 30, 40, 50, 60]}"
      ]
     },
     "execution_count": 7,
     "metadata": {},
     "output_type": "execute_result"
    }
   ],
   "source": [
    "#Dict={1:'rohan',2:'rakesh',3:'rupesh',4:'ramesh'}\n",
    "Dict={'rohan':90,3:[1,2,3,4,5,6,7],'ramesh':[20,30,40,50,60]}\n",
    "Dict\n"
   ]
  },
  {
   "cell_type": "code",
   "execution_count": null,
   "metadata": {},
   "outputs": [],
   "source": [
    "#Dictionary can also be created by the built-in function dict(). An empty dictionary can be created by just placing \n",
    "# to curly braces{}."
   ]
  },
  {
   "cell_type": "code",
   "execution_count": 9,
   "metadata": {},
   "outputs": [],
   "source": [
    "#dict({})"
   ]
  },
  {
   "cell_type": "code",
   "execution_count": 85,
   "metadata": {},
   "outputs": [
    {
     "data": {
      "text/plain": [
       "{'rohan': 90, 3: [1, 2, 3, 4, 5, 6, 7], 'ramesh': [20, 30, 40, 50, 60]}"
      ]
     },
     "execution_count": 85,
     "metadata": {},
     "output_type": "execute_result"
    }
   ],
   "source": [
    "dict=({'rohan':90,3:[1,2,3,4,5,6,7],'ramesh':[20,30,40,50,60]})\n",
    "dict"
   ]
  },
  {
   "cell_type": "code",
   "execution_count": 109,
   "metadata": {},
   "outputs": [
    {
     "data": {
      "text/plain": [
       "{1: 'geeks', 2: 'for', 3: {'A': 'welcome', 'B': 'To', 'C': 'geeksforgeeks'}}"
      ]
     },
     "execution_count": 109,
     "metadata": {},
     "output_type": "execute_result"
    }
   ],
   "source": [
    "# Nested dictionary:\n",
    "dict1=({1:'geeks',2:'for',3:{'A':'welcome','B':'To','C':'geeksforgeeks'}})\n",
    "dict1"
   ]
  },
  {
   "cell_type": "code",
   "execution_count": 110,
   "metadata": {},
   "outputs": [],
   "source": [
    "# Adding elements to a Dictionary:\n",
    "    \n",
    "# In Python Dictionary, Addition of elements can be done in multiple ways. One value at a time can be added to a \n",
    "# Dictionary by defining value along with the key e.g. Dict[Key] = ‘Value’. Updating an existing value in a Dictionary \n",
    "# can be done by using the built-in update() method. Nested key values can also be added to an existing Dictionary.\n",
    "\n",
    "# Note- While adding a value, if the key value already exists, the value gets updated otherwise a new Key with the\n",
    "#       value is added to the Dictionary."
   ]
  },
  {
   "cell_type": "code",
   "execution_count": 111,
   "metadata": {},
   "outputs": [],
   "source": [
    "dict1[4]='ucet'"
   ]
  },
  {
   "cell_type": "code",
   "execution_count": 112,
   "metadata": {},
   "outputs": [
    {
     "data": {
      "text/plain": [
       "{1: 'geeks',\n",
       " 2: 'for',\n",
       " 3: {'A': 'welcome', 'B': 'To', 'C': 'geeksforgeeks'},\n",
       " 4: 'ucet'}"
      ]
     },
     "execution_count": 112,
     "metadata": {},
     "output_type": "execute_result"
    }
   ],
   "source": [
    "dict1"
   ]
  },
  {
   "cell_type": "code",
   "execution_count": null,
   "metadata": {},
   "outputs": [],
   "source": []
  },
  {
   "cell_type": "code",
   "execution_count": 113,
   "metadata": {},
   "outputs": [],
   "source": [
    "# Using Update():"
   ]
  },
  {
   "cell_type": "code",
   "execution_count": 114,
   "metadata": {},
   "outputs": [
    {
     "data": {
      "text/plain": [
       "{1: 'rohan',\n",
       " 2: 'for',\n",
       " 3: {'A': 'welcome', 'B': 'To', 'C': 'geeksforgeeks'},\n",
       " 4: 'ucet'}"
      ]
     },
     "execution_count": 114,
     "metadata": {},
     "output_type": "execute_result"
    }
   ],
   "source": [
    "dict1.update({1:'rohan'})\n",
    "dict1"
   ]
  },
  {
   "cell_type": "code",
   "execution_count": 115,
   "metadata": {},
   "outputs": [
    {
     "data": {
      "text/plain": [
       "{1: 'rohan',\n",
       " 2: 'for',\n",
       " 3: {'A': 'welcome', 'B': 'To', 'C': 'geeksforgeeks'},\n",
       " 4: 'ucet',\n",
       " 'university': 'Ism',\n",
       " 'branch': 'CSE'}"
      ]
     },
     "execution_count": 115,
     "metadata": {},
     "output_type": "execute_result"
    }
   ],
   "source": [
    "dict1.update({'university':'Ism','branch':'CSE'})\n",
    "dict1"
   ]
  },
  {
   "cell_type": "code",
   "execution_count": 116,
   "metadata": {},
   "outputs": [],
   "source": [
    "# Accessing elements from a Dictionary:\n",
    "# In order to access the items of a dictionary refer to its key name.Key can be used inside square brackets."
   ]
  },
  {
   "cell_type": "code",
   "execution_count": 117,
   "metadata": {},
   "outputs": [
    {
     "data": {
      "text/plain": [
       "{1: 'rohan',\n",
       " 2: 'for',\n",
       " 3: {'A': 'welcome', 'B': 'To', 'C': 'geeksforgeeks'},\n",
       " 4: 'ucet',\n",
       " 'university': 'Ism',\n",
       " 'branch': 'CSE'}"
      ]
     },
     "execution_count": 117,
     "metadata": {},
     "output_type": "execute_result"
    }
   ],
   "source": [
    "dict1"
   ]
  },
  {
   "cell_type": "code",
   "execution_count": 118,
   "metadata": {},
   "outputs": [
    {
     "data": {
      "text/plain": [
       "{'A': 'welcome', 'B': 'To', 'C': 'geeksforgeeks'}"
      ]
     },
     "execution_count": 118,
     "metadata": {},
     "output_type": "execute_result"
    }
   ],
   "source": [
    "dict1[1]\n",
    "dict1['university']\n",
    "dict1[3]"
   ]
  },
  {
   "cell_type": "code",
   "execution_count": 119,
   "metadata": {},
   "outputs": [],
   "source": [
    "# Using get() accessing the element of dictionary"
   ]
  },
  {
   "cell_type": "code",
   "execution_count": 120,
   "metadata": {},
   "outputs": [
    {
     "data": {
      "text/plain": [
       "{'A': 'welcome', 'B': 'To', 'C': 'geeksforgeeks'}"
      ]
     },
     "execution_count": 120,
     "metadata": {},
     "output_type": "execute_result"
    }
   ],
   "source": [
    "dict1.get(3)"
   ]
  },
  {
   "cell_type": "code",
   "execution_count": 121,
   "metadata": {},
   "outputs": [],
   "source": [
    "# Accessing element of a nested dictionary:\n",
    "# In order to access the value of any key in nested dictionary, use indexing [] syntax."
   ]
  },
  {
   "cell_type": "code",
   "execution_count": 122,
   "metadata": {},
   "outputs": [
    {
     "data": {
      "text/plain": [
       "{1: 'rohan',\n",
       " 2: 'for',\n",
       " 3: {'A': 'welcome', 'B': 'To', 'C': 'geeksforgeeks'},\n",
       " 4: 'ucet',\n",
       " 'university': 'Ism',\n",
       " 'branch': 'CSE'}"
      ]
     },
     "execution_count": 122,
     "metadata": {},
     "output_type": "execute_result"
    }
   ],
   "source": [
    "dict1"
   ]
  },
  {
   "cell_type": "code",
   "execution_count": 123,
   "metadata": {},
   "outputs": [
    {
     "data": {
      "text/plain": [
       "'geeksforgeeks'"
      ]
     },
     "execution_count": 123,
     "metadata": {},
     "output_type": "execute_result"
    }
   ],
   "source": [
    "dict1[3]['A']\n",
    "dict1[3]['C']\n",
    "dict1.get(3)['A']\n",
    "dict1.get(3)['C']"
   ]
  },
  {
   "cell_type": "code",
   "execution_count": 124,
   "metadata": {},
   "outputs": [],
   "source": [
    "# Removing Elements from Dictionary:\n",
    "# Using del keyword\n",
    "\n",
    "# In Python Dictionary, deletion of keys can be done by using the del keyword. Using del keyword, specific values from \n",
    "# a dictionary as well as whole dictionary can be deleted. Items in a Nested dictionary can also be deleted by using del \n",
    "# keyword and providing specific nested key and particular key to be deleted from that nested Dictionary.\n",
    "\n",
    "# Note- del Dict will delete the entire dictionary and hence printing it after deletion will raise an Error.\n"
   ]
  },
  {
   "cell_type": "code",
   "execution_count": 125,
   "metadata": {},
   "outputs": [
    {
     "data": {
      "text/plain": [
       "{1: 'rohan',\n",
       " 2: 'for',\n",
       " 3: {'A': 'welcome', 'B': 'To', 'C': 'geeksforgeeks'},\n",
       " 4: 'ucet',\n",
       " 'university': 'Ism',\n",
       " 'branch': 'CSE'}"
      ]
     },
     "execution_count": 125,
     "metadata": {},
     "output_type": "execute_result"
    }
   ],
   "source": [
    "dict1"
   ]
  },
  {
   "cell_type": "code",
   "execution_count": 126,
   "metadata": {},
   "outputs": [],
   "source": [
    "#del dict1[1]"
   ]
  },
  {
   "cell_type": "code",
   "execution_count": 127,
   "metadata": {},
   "outputs": [
    {
     "data": {
      "text/plain": [
       "{1: 'rohan',\n",
       " 2: 'for',\n",
       " 3: {'A': 'welcome', 'B': 'To', 'C': 'geeksforgeeks'},\n",
       " 4: 'ucet',\n",
       " 'university': 'Ism',\n",
       " 'branch': 'CSE'}"
      ]
     },
     "execution_count": 127,
     "metadata": {},
     "output_type": "execute_result"
    }
   ],
   "source": [
    "dict1"
   ]
  },
  {
   "cell_type": "code",
   "execution_count": 128,
   "metadata": {},
   "outputs": [],
   "source": [
    "#del dict1"
   ]
  },
  {
   "cell_type": "code",
   "execution_count": 129,
   "metadata": {},
   "outputs": [
    {
     "data": {
      "text/plain": [
       "{1: 'rohan',\n",
       " 2: 'for',\n",
       " 3: {'A': 'welcome', 'B': 'To', 'C': 'geeksforgeeks'},\n",
       " 4: 'ucet',\n",
       " 'university': 'Ism',\n",
       " 'branch': 'CSE'}"
      ]
     },
     "execution_count": 129,
     "metadata": {},
     "output_type": "execute_result"
    }
   ],
   "source": [
    "dict1"
   ]
  },
  {
   "cell_type": "code",
   "execution_count": null,
   "metadata": {},
   "outputs": [],
   "source": [
    "# Using pop() method:\n",
    "#Pop() method is used to return and delete the value of the key specified."
   ]
  },
  {
   "cell_type": "code",
   "execution_count": 131,
   "metadata": {},
   "outputs": [
    {
     "data": {
      "text/plain": [
       "'rohan'"
      ]
     },
     "execution_count": 131,
     "metadata": {},
     "output_type": "execute_result"
    }
   ],
   "source": [
    "dict1.pop(1)"
   ]
  },
  {
   "cell_type": "code",
   "execution_count": 132,
   "metadata": {},
   "outputs": [
    {
     "data": {
      "text/plain": [
       "'Ism'"
      ]
     },
     "execution_count": 132,
     "metadata": {},
     "output_type": "execute_result"
    }
   ],
   "source": [
    "dict1.pop('university')"
   ]
  },
  {
   "cell_type": "code",
   "execution_count": 133,
   "metadata": {},
   "outputs": [],
   "source": [
    "# Using popitem() method:\n",
    "#The popitem() returns and removes an arbitrary element (key, value) pair from the dictionary."
   ]
  },
  {
   "cell_type": "code",
   "execution_count": 134,
   "metadata": {},
   "outputs": [
    {
     "data": {
      "text/plain": [
       "{2: 'for',\n",
       " 3: {'A': 'welcome', 'B': 'To', 'C': 'geeksforgeeks'},\n",
       " 4: 'ucet',\n",
       " 'branch': 'CSE'}"
      ]
     },
     "execution_count": 134,
     "metadata": {},
     "output_type": "execute_result"
    }
   ],
   "source": [
    "dict1"
   ]
  },
  {
   "cell_type": "code",
   "execution_count": 135,
   "metadata": {},
   "outputs": [
    {
     "data": {
      "text/plain": [
       "('branch', 'CSE')"
      ]
     },
     "execution_count": 135,
     "metadata": {},
     "output_type": "execute_result"
    }
   ],
   "source": [
    "dict1.popitem()"
   ]
  },
  {
   "cell_type": "code",
   "execution_count": 137,
   "metadata": {},
   "outputs": [
    {
     "data": {
      "text/plain": [
       "(4, 'ucet')"
      ]
     },
     "execution_count": 137,
     "metadata": {},
     "output_type": "execute_result"
    }
   ],
   "source": [
    "dict1.popitem()"
   ]
  },
  {
   "cell_type": "code",
   "execution_count": 138,
   "metadata": {},
   "outputs": [
    {
     "data": {
      "text/plain": [
       "{2: 'for', 3: {'A': 'welcome', 'B': 'To', 'C': 'geeksforgeeks'}}"
      ]
     },
     "execution_count": 138,
     "metadata": {},
     "output_type": "execute_result"
    }
   ],
   "source": [
    "dict1"
   ]
  },
  {
   "cell_type": "code",
   "execution_count": null,
   "metadata": {},
   "outputs": [],
   "source": [
    "# Using clear() method:\n",
    "# All the items from a dictionary can be deleted at once by using clear() method."
   ]
  },
  {
   "cell_type": "code",
   "execution_count": 139,
   "metadata": {},
   "outputs": [],
   "source": [
    "#dict1.clear()"
   ]
  },
  {
   "cell_type": "code",
   "execution_count": 140,
   "metadata": {},
   "outputs": [
    {
     "data": {
      "text/plain": [
       "{}"
      ]
     },
     "execution_count": 140,
     "metadata": {},
     "output_type": "execute_result"
    }
   ],
   "source": [
    "dict1"
   ]
  },
  {
   "cell_type": "code",
   "execution_count": null,
   "metadata": {},
   "outputs": [],
   "source": [
    "# Dictionary Methods:\n",
    "# METHODS\tDESCRIPTION\n",
    "# copy()\tThey copy() method returns a shallow copy of the dictionary.\n",
    "# clear()\tThe clear() method removes all items from the dictionary.\n",
    "# pop()\tRemoves and returns an element from a dictionary having the given key.\n",
    "# popitem()\tRemoves the arbitrary key-value pair from the dictionary and returns it as tuple.\n",
    "# get()\tIt is a conventional method to access a value for a key.\n",
    "# dictionary_name.values()\treturns a list of all the values available in a given dictionary.\n",
    "# str()\tProduces a printable string representation of a dictionary.\n",
    "# update()\tAdds dictionary dict2’s key-values pairs to dict\n",
    "# setdefault()\tSet dict[key]=default if key is not already in dict\n",
    "# keys()\tReturns list of dictionary dict’s keys\n",
    "# items()\tReturns a list of dict’s (key, value) tuple pairs\n",
    "# has_key()\tReturns true if key in dictionary dict, false otherwise\n",
    "# fromkeys()\tCreate a new dictionary with keys from seq and values set to value.\n",
    "# type()\tReturns the type of the passed variable.\n",
    "# cmp()\tCompares elements of both dict."
   ]
  },
  {
   "cell_type": "code",
   "execution_count": 146,
   "metadata": {},
   "outputs": [
    {
     "data": {
      "text/plain": [
       "{1: 'geeks', 2: 'for', 3: {'A': 'welcome', 'B': 'To', 'C': 'geeksforgeeks'}}"
      ]
     },
     "execution_count": 146,
     "metadata": {},
     "output_type": "execute_result"
    }
   ],
   "source": [
    "dict2=({1:'geeks',2:'for',3:{'A':'welcome','B':'To','C':'geeksforgeeks'}})\n",
    "dict2"
   ]
  },
  {
   "cell_type": "code",
   "execution_count": 144,
   "metadata": {},
   "outputs": [],
   "source": [
    "#dictionary_name.values():"
   ]
  },
  {
   "cell_type": "code",
   "execution_count": 150,
   "metadata": {},
   "outputs": [
    {
     "data": {
      "text/plain": [
       "dict_values(['geeks', 'for', {'A': 'welcome', 'B': 'To', 'C': 'geeksforgeeks'}])"
      ]
     },
     "execution_count": 150,
     "metadata": {},
     "output_type": "execute_result"
    }
   ],
   "source": [
    "dict2.values()\n"
   ]
  },
  {
   "cell_type": "code",
   "execution_count": null,
   "metadata": {},
   "outputs": [],
   "source": [
    "#str()\n"
   ]
  },
  {
   "cell_type": "code",
   "execution_count": 152,
   "metadata": {},
   "outputs": [
    {
     "data": {
      "text/plain": [
       "\"{1: 'geeks', 2: 'for', 3: {'A': 'welcome', 'B': 'To', 'C': 'geeksforgeeks'}}\""
      ]
     },
     "execution_count": 152,
     "metadata": {},
     "output_type": "execute_result"
    }
   ],
   "source": [
    "str(dict2)"
   ]
  },
  {
   "cell_type": "code",
   "execution_count": 154,
   "metadata": {},
   "outputs": [],
   "source": [
    "# setdefault()"
   ]
  },
  {
   "cell_type": "code",
   "execution_count": 247,
   "metadata": {},
   "outputs": [
    {
     "data": {
      "text/plain": [
       "'geeks'"
      ]
     },
     "execution_count": 247,
     "metadata": {},
     "output_type": "execute_result"
    }
   ],
   "source": [
    "dict2.setdefault(1)"
   ]
  },
  {
   "cell_type": "code",
   "execution_count": 248,
   "metadata": {},
   "outputs": [
    {
     "data": {
      "text/plain": [
       "{1: 'geeks',\n",
       " 2: 'for',\n",
       " 3: {'A': 'welcome', 'B': 'To', 'C': 'geeksforgeeks'},\n",
       " 4: None,\n",
       " 5: 'rakesh'}"
      ]
     },
     "execution_count": 248,
     "metadata": {},
     "output_type": "execute_result"
    }
   ],
   "source": [
    "dict2"
   ]
  },
  {
   "cell_type": "code",
   "execution_count": null,
   "metadata": {},
   "outputs": [],
   "source": []
  },
  {
   "cell_type": "code",
   "execution_count": null,
   "metadata": {},
   "outputs": [],
   "source": []
  },
  {
   "cell_type": "code",
   "execution_count": 159,
   "metadata": {},
   "outputs": [
    {
     "data": {
      "text/plain": [
       "{1: 'geeks',\n",
       " 2: 'for',\n",
       " 3: {'A': 'welcome', 'B': 'To', 'C': 'geeksforgeeks'},\n",
       " 4: None}"
      ]
     },
     "execution_count": 159,
     "metadata": {},
     "output_type": "execute_result"
    }
   ],
   "source": [
    "dict2.setdefault(4)\n",
    "dict2"
   ]
  },
  {
   "cell_type": "code",
   "execution_count": 163,
   "metadata": {},
   "outputs": [
    {
     "data": {
      "text/plain": [
       "{1: 'geeks',\n",
       " 2: 'for',\n",
       " 3: {'A': 'welcome', 'B': 'To', 'C': 'geeksforgeeks'},\n",
       " 4: None,\n",
       " 5: 'rakesh'}"
      ]
     },
     "execution_count": 163,
     "metadata": {},
     "output_type": "execute_result"
    }
   ],
   "source": [
    "dict2.setdefault(5,'rakesh')\n",
    "dict2"
   ]
  },
  {
   "cell_type": "code",
   "execution_count": null,
   "metadata": {},
   "outputs": [],
   "source": [
    "#key()"
   ]
  },
  {
   "cell_type": "code",
   "execution_count": 170,
   "metadata": {},
   "outputs": [
    {
     "data": {
      "text/plain": [
       "dict_keys([1, 2, 3, 4, 5])"
      ]
     },
     "execution_count": 170,
     "metadata": {},
     "output_type": "execute_result"
    }
   ],
   "source": [
    "dict2.keys()"
   ]
  },
  {
   "cell_type": "code",
   "execution_count": null,
   "metadata": {},
   "outputs": [],
   "source": [
    "#dictname.items()"
   ]
  },
  {
   "cell_type": "code",
   "execution_count": 169,
   "metadata": {},
   "outputs": [
    {
     "data": {
      "text/plain": [
       "dict_items([(1, 'geeks'), (2, 'for'), (3, {'A': 'welcome', 'B': 'To', 'C': 'geeksforgeeks'}), (4, None), (5, 'rakesh')])"
      ]
     },
     "execution_count": 169,
     "metadata": {},
     "output_type": "execute_result"
    }
   ],
   "source": [
    "dict2.items()"
   ]
  },
  {
   "cell_type": "code",
   "execution_count": 172,
   "metadata": {},
   "outputs": [],
   "source": [
    "#has_key():\n",
    "#NOTE: dict.has_key() has removed from Python 3.x"
   ]
  },
  {
   "cell_type": "code",
   "execution_count": 173,
   "metadata": {},
   "outputs": [
    {
     "data": {
      "text/plain": [
       "{1: 'geeks',\n",
       " 2: 'for',\n",
       " 3: {'A': 'welcome', 'B': 'To', 'C': 'geeksforgeeks'},\n",
       " 4: None,\n",
       " 5: 'rakesh'}"
      ]
     },
     "execution_count": 173,
     "metadata": {},
     "output_type": "execute_result"
    }
   ],
   "source": [
    "dict2"
   ]
  },
  {
   "cell_type": "code",
   "execution_count": 175,
   "metadata": {},
   "outputs": [],
   "source": [
    "#dict2.has_key(1)"
   ]
  },
  {
   "cell_type": "code",
   "execution_count": null,
   "metadata": {},
   "outputs": [],
   "source": []
  },
  {
   "cell_type": "code",
   "execution_count": null,
   "metadata": {},
   "outputs": [],
   "source": [
    "#fromkeys(seq,list)"
   ]
  },
  {
   "cell_type": "code",
   "execution_count": 12,
   "metadata": {},
   "outputs": [
    {
     "data": {
      "text/plain": [
       "OrderedDict([('a', None),\n",
       "             ('b', None),\n",
       "             ('c', None),\n",
       "             ('d', None),\n",
       "             ('e', None),\n",
       "             (5, None),\n",
       "             (7, None),\n",
       "             (2, None),\n",
       "             (9, None)])"
      ]
     },
     "execution_count": 12,
     "metadata": {},
     "output_type": "execute_result"
    }
   ],
   "source": [
    "seq=['a','b','c','d','e','e',5,7,2,9,2]\n",
    "dict.fromkeys(seq)"
   ]
  },
  {
   "cell_type": "code",
   "execution_count": 13,
   "metadata": {},
   "outputs": [
    {
     "data": {
      "text/plain": [
       "OrderedDict([('a', [1, 2]),\n",
       "             ('b', [1, 2]),\n",
       "             ('c', [1, 2]),\n",
       "             ('d', [1, 2]),\n",
       "             ('e', [1, 2]),\n",
       "             (5, [1, 2]),\n",
       "             (7, [1, 2]),\n",
       "             (2, [1, 2]),\n",
       "             (9, [1, 2])])"
      ]
     },
     "execution_count": 13,
     "metadata": {},
     "output_type": "execute_result"
    }
   ],
   "source": [
    "lis=[1,2]\n",
    "dict.fromkeys(seq,lis)"
   ]
  },
  {
   "cell_type": "code",
   "execution_count": 14,
   "metadata": {},
   "outputs": [
    {
     "data": {
      "text/plain": [
       "OrderedDict([('a', [1, 2, 10]),\n",
       "             ('b', [1, 2, 10]),\n",
       "             ('c', [1, 2, 10]),\n",
       "             ('d', [1, 2, 10]),\n",
       "             ('e', [1, 2, 10]),\n",
       "             (5, [1, 2, 10]),\n",
       "             (7, [1, 2, 10]),\n",
       "             (2, [1, 2, 10]),\n",
       "             (9, [1, 2, 10])])"
      ]
     },
     "execution_count": 14,
     "metadata": {},
     "output_type": "execute_result"
    }
   ],
   "source": [
    "lis.append(10)\n",
    "dict.fromkeys(seq,lis)"
   ]
  },
  {
   "cell_type": "code",
   "execution_count": 15,
   "metadata": {},
   "outputs": [
    {
     "data": {
      "text/plain": [
       "[1, 2, 10]"
      ]
     },
     "execution_count": 15,
     "metadata": {},
     "output_type": "execute_result"
    }
   ],
   "source": [
    "lis"
   ]
  },
  {
   "cell_type": "code",
   "execution_count": 16,
   "metadata": {},
   "outputs": [],
   "source": [
    "# Behaviour of fromdict() with Mutable objects as values:\n",
    "\n",
    "# fromdict() can also be supplied with mulatable object as default value. But in this case, a deep copy is made of \n",
    "# dictionary, i.e if we append value in original list, the append takes place in all the values of keys.\n",
    "\n",
    "# Prevention : Certain dictionary comprehension techniques can be used to create a new list as key values,\n",
    "#              that does not point to original list as values of keys."
   ]
  },
  {
   "cell_type": "code",
   "execution_count": 17,
   "metadata": {},
   "outputs": [],
   "source": [
    "lis1=[1,2,3,4]\n",
    "seq=['a','b','c','d','e',5,7,9,2]"
   ]
  },
  {
   "cell_type": "code",
   "execution_count": 18,
   "metadata": {},
   "outputs": [],
   "source": [
    "# Using dictionary comphereshion\""
   ]
  },
  {
   "cell_type": "code",
   "execution_count": 19,
   "metadata": {},
   "outputs": [],
   "source": [
    "#dict.fromkeys(seq,lis1)"
   ]
  },
  {
   "cell_type": "code",
   "execution_count": 20,
   "metadata": {},
   "outputs": [
    {
     "data": {
      "text/plain": [
       "{'a': [1, 2, 3, 4],\n",
       " 'b': [1, 2, 3, 4],\n",
       " 'c': [1, 2, 3, 4],\n",
       " 'd': [1, 2, 3, 4],\n",
       " 'e': [1, 2, 3, 4],\n",
       " 5: [1, 2, 3, 4],\n",
       " 7: [1, 2, 3, 4],\n",
       " 9: [1, 2, 3, 4],\n",
       " 2: [1, 2, 3, 4]}"
      ]
     },
     "execution_count": 20,
     "metadata": {},
     "output_type": "execute_result"
    }
   ],
   "source": [
    "a={key:list(lis1) for key in seq}\n",
    "a"
   ]
  },
  {
   "cell_type": "code",
   "execution_count": 21,
   "metadata": {},
   "outputs": [],
   "source": [
    "lis1.append(10)"
   ]
  },
  {
   "cell_type": "code",
   "execution_count": 22,
   "metadata": {},
   "outputs": [
    {
     "data": {
      "text/plain": [
       "{'a': [1, 2, 3, 4],\n",
       " 'b': [1, 2, 3, 4],\n",
       " 'c': [1, 2, 3, 4],\n",
       " 'd': [1, 2, 3, 4],\n",
       " 'e': [1, 2, 3, 4],\n",
       " 5: [1, 2, 3, 4],\n",
       " 7: [1, 2, 3, 4],\n",
       " 9: [1, 2, 3, 4],\n",
       " 2: [1, 2, 3, 4]}"
      ]
     },
     "execution_count": 22,
     "metadata": {},
     "output_type": "execute_result"
    }
   ],
   "source": [
    "a"
   ]
  },
  {
   "cell_type": "code",
   "execution_count": 23,
   "metadata": {},
   "outputs": [],
   "source": [
    "#Handling missing keys in Python dictionaries"
   ]
  },
  {
   "cell_type": "code",
   "execution_count": 24,
   "metadata": {},
   "outputs": [
    {
     "name": "stdout",
     "output_type": "stream",
     "text": [
      "None\n"
     ]
    }
   ],
   "source": [
    "\n",
    "import collections\n",
    "dict=collections.defaultdict(lambda:'not found')\n",
    "\n",
    "dict[1]='numpy'\n",
    "dict[2]='pandas'\n",
    "dict[3]='NLP'\n",
    "print(dict.get(4))"
   ]
  },
  {
   "cell_type": "code",
   "execution_count": 25,
   "metadata": {},
   "outputs": [
    {
     "data": {
      "text/plain": [
       "{1: 'rohan', 2: 'avilash', 3: 'vipul', 4: 'rakesh'}"
      ]
     },
     "execution_count": 25,
     "metadata": {},
     "output_type": "execute_result"
    }
   ],
   "source": [
    "d1={1:'rohan',2:'avilash',3:'vipul',4:'rakesh'}\n",
    "d1"
   ]
  },
  {
   "cell_type": "code",
   "execution_count": 26,
   "metadata": {},
   "outputs": [],
   "source": [
    "#OrdersdDict():\n",
    "# OrderedDict preserves the order in which the keys are inserted. A regular dict doesn’t track the insertion order, \n",
    "# and iterating it gives the values in an arbitrary order. By contrast, the order the items are inserted is remembered \n",
    "# by OrderedDict."
   ]
  },
  {
   "cell_type": "code",
   "execution_count": 27,
   "metadata": {},
   "outputs": [
    {
     "data": {
      "text/plain": [
       "OrderedDict([(1, 'rohan'), (2, 'avilash'), (3, 'vipul'), (4, 'rakesh')])"
      ]
     },
     "execution_count": 27,
     "metadata": {},
     "output_type": "execute_result"
    }
   ],
   "source": [
    "from collections import OrderedDict\n",
    "OrderedDict(d1)"
   ]
  },
  {
   "cell_type": "code",
   "execution_count": 28,
   "metadata": {},
   "outputs": [
    {
     "name": "stdout",
     "output_type": "stream",
     "text": [
      "a rohan\n",
      "b rakesh\n",
      "c rohit\n",
      "d rupesh\n"
     ]
    }
   ],
   "source": [
    "d2={}\n",
    "d2['a']='rohan'\n",
    "d2['b']='rakesh'\n",
    "d2['c']='rohit'\n",
    "d2['d']='rupesh'\n",
    "for key,value in d2.items():\n",
    "    print(key,value)"
   ]
  },
  {
   "cell_type": "code",
   "execution_count": 29,
   "metadata": {},
   "outputs": [
    {
     "data": {
      "text/plain": [
       "OrderedDict([('a', 1), ('b', 2), ('c', 3), ('d', 4)])"
      ]
     },
     "execution_count": 29,
     "metadata": {},
     "output_type": "execute_result"
    }
   ],
   "source": [
    "d3=OrderedDict()\n",
    "d3['a']=1\n",
    "d3['b']=2\n",
    "d3['c']=3\n",
    "d3['d']=4\n",
    "d3"
   ]
  },
  {
   "cell_type": "code",
   "execution_count": 30,
   "metadata": {},
   "outputs": [],
   "source": [
    "#ChainMap():\n",
    "# Python also contains a container called “ChainMap” which encapsulates many dictionaries into one unit. \n",
    "# ChainMap is member of module “collections“."
   ]
  },
  {
   "cell_type": "code",
   "execution_count": 31,
   "metadata": {},
   "outputs": [],
   "source": [
    "# Operations on ChainMap\n",
    "\n",
    "# Access Operations\n",
    "# 1. keys() :- This function is used to display all the keys of all the dictionaries in ChainMap.\n",
    "\n",
    "# 2. values() :- This function is used to display values of all the dictionaries in ChainMap.\n",
    "    \n",
    "# 3. maps :- This function is used to display keys with corresponding values of all the dictionaries in ChainMap.    "
   ]
  },
  {
   "cell_type": "code",
   "execution_count": 32,
   "metadata": {},
   "outputs": [
    {
     "data": {
      "text/plain": [
       "({'a': 1, 'b': 2, 'c': 3, 'd': 4}, {'a': 9, 'f': 12, 'g': 16, 'd': 67})"
      ]
     },
     "execution_count": 32,
     "metadata": {},
     "output_type": "execute_result"
    }
   ],
   "source": [
    "dict1={'a':1,'b':2,'c':3,'d':4}\n",
    "dict2={'a':9,'f':12,'g':16,'d':67}\n",
    "dict3=dict1,dict2\n",
    "dict3"
   ]
  },
  {
   "cell_type": "code",
   "execution_count": 33,
   "metadata": {},
   "outputs": [],
   "source": [
    "# if we want to merge two dictionary in one dictionary:\n"
   ]
  },
  {
   "cell_type": "code",
   "execution_count": 34,
   "metadata": {},
   "outputs": [
    {
     "data": {
      "text/plain": [
       "ChainMap({'a': 9, 'f': 12, 'g': 16, 'd': 67}, {'a': 1, 'b': 2, 'c': 3, 'd': 4})"
      ]
     },
     "execution_count": 34,
     "metadata": {},
     "output_type": "execute_result"
    }
   ],
   "source": [
    "from collections import ChainMap\n",
    "chain=ChainMap(dict2,dict1)\n",
    "chain"
   ]
  },
  {
   "cell_type": "code",
   "execution_count": 35,
   "metadata": {},
   "outputs": [
    {
     "data": {
      "text/plain": [
       "[{'a': 9, 'f': 12, 'g': 16, 'd': 67}, {'a': 1, 'b': 2, 'c': 3, 'd': 4}]"
      ]
     },
     "execution_count": 35,
     "metadata": {},
     "output_type": "execute_result"
    }
   ],
   "source": [
    "chain.maps"
   ]
  },
  {
   "cell_type": "code",
   "execution_count": 36,
   "metadata": {},
   "outputs": [
    {
     "data": {
      "text/plain": [
       "['a', 'b', 'c', 'd', 'f', 'g']"
      ]
     },
     "execution_count": 36,
     "metadata": {},
     "output_type": "execute_result"
    }
   ],
   "source": [
    "list(chain.keys())"
   ]
  },
  {
   "cell_type": "code",
   "execution_count": 37,
   "metadata": {},
   "outputs": [
    {
     "data": {
      "text/plain": [
       "ValuesView(ChainMap({'a': 9, 'f': 12, 'g': 16, 'd': 67}, {'a': 1, 'b': 2, 'c': 3, 'd': 4}))"
      ]
     },
     "execution_count": 37,
     "metadata": {},
     "output_type": "execute_result"
    }
   ],
   "source": [
    "chain.values()"
   ]
  },
  {
   "cell_type": "code",
   "execution_count": 38,
   "metadata": {},
   "outputs": [
    {
     "data": {
      "text/plain": [
       "[9, 2, 3, 67, 12, 16]"
      ]
     },
     "execution_count": 38,
     "metadata": {},
     "output_type": "execute_result"
    }
   ],
   "source": [
    "list(chain.values())"
   ]
  },
  {
   "cell_type": "code",
   "execution_count": 39,
   "metadata": {},
   "outputs": [],
   "source": [
    "# Manipulating Operations:\n",
    "    \n",
    "# 1. new_child() :- This function adds a new dictionary in the beginning of the ChainMap.\n",
    "\n",
    "# 2. reversed() :- This function reverses the relative ordering of dictionaries in the ChainMap."
   ]
  },
  {
   "cell_type": "code",
   "execution_count": 40,
   "metadata": {},
   "outputs": [],
   "source": [
    "dic1 = { 'a' : 1, 'b' : 2 } \n",
    "dic2 = { 'b' : 3, 'c' : 4 } \n",
    "dic3 = { 'f' : 5 } \n",
    "  "
   ]
  },
  {
   "cell_type": "code",
   "execution_count": 41,
   "metadata": {},
   "outputs": [
    {
     "data": {
      "text/plain": [
       "ChainMap({'a': 1, 'b': 2, 'c': 3, 'd': 4}, {'a': 9, 'f': 12, 'g': 16, 'd': 67})"
      ]
     },
     "execution_count": 41,
     "metadata": {},
     "output_type": "execute_result"
    }
   ],
   "source": [
    "import collections\n",
    "c=collections.ChainMap(dict1,dict2)\n",
    "c"
   ]
  },
  {
   "cell_type": "code",
   "execution_count": 42,
   "metadata": {},
   "outputs": [
    {
     "data": {
      "text/plain": [
       "[{'a': 1, 'b': 2, 'c': 3, 'd': 4}, {'a': 9, 'f': 12, 'g': 16, 'd': 67}]"
      ]
     },
     "execution_count": 42,
     "metadata": {},
     "output_type": "execute_result"
    }
   ],
   "source": [
    "c.maps"
   ]
  },
  {
   "cell_type": "code",
   "execution_count": 43,
   "metadata": {},
   "outputs": [
    {
     "data": {
      "text/plain": [
       "ChainMap(({'a': 1, 'b': 2, 'c': 3, 'd': 4}, {'a': 9, 'f': 12, 'g': 16, 'd': 67}), {'a': 1, 'b': 2, 'c': 3, 'd': 4}, {'a': 9, 'f': 12, 'g': 16, 'd': 67})"
      ]
     },
     "execution_count": 43,
     "metadata": {},
     "output_type": "execute_result"
    }
   ],
   "source": [
    "new_c=c.new_child(dict3)\n",
    "new_c"
   ]
  },
  {
   "cell_type": "code",
   "execution_count": 44,
   "metadata": {},
   "outputs": [
    {
     "data": {
      "text/plain": [
       "[({'a': 1, 'b': 2, 'c': 3, 'd': 4}, {'a': 9, 'f': 12, 'g': 16, 'd': 67}),\n",
       " {'a': 1, 'b': 2, 'c': 3, 'd': 4},\n",
       " {'a': 9, 'f': 12, 'g': 16, 'd': 67}]"
      ]
     },
     "execution_count": 44,
     "metadata": {},
     "output_type": "execute_result"
    }
   ],
   "source": [
    "new_c.maps"
   ]
  },
  {
   "cell_type": "code",
   "execution_count": null,
   "metadata": {},
   "outputs": [],
   "source": []
  },
  {
   "cell_type": "code",
   "execution_count": null,
   "metadata": {},
   "outputs": [],
   "source": []
  },
  {
   "cell_type": "code",
   "execution_count": null,
   "metadata": {},
   "outputs": [],
   "source": []
  },
  {
   "cell_type": "code",
   "execution_count": null,
   "metadata": {},
   "outputs": [],
   "source": []
  },
  {
   "cell_type": "code",
   "execution_count": null,
   "metadata": {},
   "outputs": [],
   "source": []
  },
  {
   "cell_type": "code",
   "execution_count": null,
   "metadata": {},
   "outputs": [],
   "source": []
  }
 ],
 "metadata": {
  "kernelspec": {
   "display_name": "Python 3",
   "language": "python",
   "name": "python3"
  },
  "language_info": {
   "codemirror_mode": {
    "name": "ipython",
    "version": 3
   },
   "file_extension": ".py",
   "mimetype": "text/x-python",
   "name": "python",
   "nbconvert_exporter": "python",
   "pygments_lexer": "ipython3",
   "version": "3.8.2"
  }
 },
 "nbformat": 4,
 "nbformat_minor": 4
}
