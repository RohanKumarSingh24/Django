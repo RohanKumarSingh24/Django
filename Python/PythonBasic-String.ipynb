{
 "cells": [
  {
   "cell_type": "code",
   "execution_count": 1,
   "metadata": {},
   "outputs": [],
   "source": [
    "# Difference Between Range and XRange\n",
    "\n",
    "# range():\n",
    "\n",
    "# The range is an inbuilt function that generates the list. It creates a static list before running the iteration.\n",
    "\n",
    "# Let’s take an example of range(1, 10).\n",
    "\n",
    "# Note: We are only passing two parameters. By default step-parameter value is 1. So, while each iteration, \n",
    "#       the value is incremented by one.\n",
    "\n",
    "# It creates the list of size 9 having elements 1 to 9 (9 inclusive) and returns list object.\n",
    "\n",
    "# xrabge():\n",
    "# Unlike range, xrange returns xrange sequence object.\n",
    "# It doesn’t create a list and each sequence element is evaluated lazily during each iteration. \n",
    "# In other words, next iteration is similar to the returning last_value+1.\n",
    "\n",
    "# Taking an example of xrange(1, 10) …\n",
    "\n",
    "# It evaluates each element in the sequence and returns values from 1 to 9 (9 inclusive).\n",
    "\n",
    "# The xrange() is an another generator and the value is created using a special technique called as yielding. \n",
    "# For more detail, you can read generator function and yield value in Python.\n",
    "\n",
    "# As range() created a list of all the elements and save it before iterating. Whereas, xrange does not \n",
    "# saves any element and evaluate each element during each iteration.\n",
    "\n",
    "# So, range() takes more memory to save these elements in the list.\n",
    "\n",
    "# Which is faster?\n",
    "# Running xrange() is slower as compared to the range() as xrange evaluates the value of element during each iteration. \n",
    "# It is also called as lazy evaluation.\n",
    "\n",
    "# You can use timeit module to figure out the time required for each iteration during \n",
    "# evaluating values for range() and xrange().\n",
    "\n",
    "# Which one to use when?\n",
    "\n",
    "# If you are performing an action on very large range elements, it is good to use xrange(). \n",
    "# It doesn’t save any elements. It just evaluates next value whenever needed.\n",
    "\n",
    "# The xrange() is very well optimized than range().\n",
    "\n",
    "# If you need faster execution of your program, use range()."
   ]
  },
  {
   "cell_type": "code",
   "execution_count": 2,
   "metadata": {},
   "outputs": [],
   "source": [
    "# How to check it is a keyword\n",
    "\n"
   ]
  },
  {
   "cell_type": "code",
   "execution_count": 3,
   "metadata": {},
   "outputs": [
    {
     "name": "stdout",
     "output_type": "stream",
     "text": [
      "for is keyword\n",
      "while is keyword\n",
      "tanisha is not keyword\n",
      "break is keyword\n",
      "sky is not keyword\n",
      "elif is keyword\n",
      "assert is keyword\n",
      "pulkit is not keyword\n",
      "lambda is keyword\n",
      "else is keyword\n",
      "sakshar is not keyword\n"
     ]
    }
   ],
   "source": [
    "import keyword\n",
    "\n",
    "keys = [\"for\", \"while\", \"tanisha\", \"break\", \"sky\", \n",
    "\"elif\", \"assert\", \"pulkit\", \"lambda\", \"else\", \"sakshar\"] \n",
    "for i in range(len(keys)):\n",
    "    if keyword.iskeyword(keys[i]):\n",
    "        print(keys[i]+\" is keyword\")\n",
    "    else:\n",
    "        print(keys[i]+\" is not keyword\")"
   ]
  },
  {
   "cell_type": "code",
   "execution_count": 4,
   "metadata": {},
   "outputs": [],
   "source": [
    "# Print all keyword in python\n"
   ]
  },
  {
   "cell_type": "code",
   "execution_count": 5,
   "metadata": {},
   "outputs": [
    {
     "name": "stdout",
     "output_type": "stream",
     "text": [
      "['False', 'None', 'True', 'and', 'as', 'assert', 'async', 'await', 'break', 'class', 'continue', 'def', 'del', 'elif', 'else', 'except', 'finally', 'for', 'from', 'global', 'if', 'import', 'in', 'is', 'lambda', 'nonlocal', 'not', 'or', 'pass', 'raise', 'return', 'try', 'while', 'with', 'yield']\n"
     ]
    }
   ],
   "source": [
    "import keyword\n",
    "print(keyword.kwlist)"
   ]
  },
  {
   "cell_type": "code",
   "execution_count": 6,
   "metadata": {},
   "outputs": [
    {
     "name": "stdout",
     "output_type": "stream",
     "text": [
      "the value of a is : 1\n"
     ]
    }
   ],
   "source": [
    "#a=5\n",
    "a=1 if 20>10 else 0\n",
    "print('the value of a is :',a)"
   ]
  },
  {
   "cell_type": "code",
   "execution_count": 7,
   "metadata": {},
   "outputs": [
    {
     "name": "stdout",
     "output_type": "stream",
     "text": [
      "geeksforgeeks\n",
      "good learning platform\n"
     ]
    },
    {
     "data": {
      "text/plain": [
       "(None, None)"
      ]
     },
     "execution_count": 7,
     "metadata": {},
     "output_type": "execute_result"
    }
   ],
   "source": [
    "print(\"geeksforgeeks\"),print('good learning platform')\n"
   ]
  },
  {
   "cell_type": "code",
   "execution_count": 8,
   "metadata": {},
   "outputs": [
    {
     "name": "stdout",
     "output_type": "stream",
     "text": [
      "fdfdfddskdjd\n"
     ]
    }
   ],
   "source": [
    "print('fdfdfd',end='')\n",
    "print(\"dskdjd\")"
   ]
  },
  {
   "cell_type": "code",
   "execution_count": 9,
   "metadata": {},
   "outputs": [
    {
     "name": "stdout",
     "output_type": "stream",
     "text": [
      "1 2\n"
     ]
    }
   ],
   "source": [
    "x,y=[f(i) for f,i in zip((int,str), input().split())]"
   ]
  },
  {
   "cell_type": "code",
   "execution_count": 11,
   "metadata": {},
   "outputs": [
    {
     "name": "stdout",
     "output_type": "stream",
     "text": [
      "Select Operations:\n",
      "1.Adding\n",
      "2.Multiply\n",
      "3.Subtract\n",
      "4.Division\n",
      "\n",
      "Enter the choice:1\n",
      "Enter the 1st Number30\n",
      "Enter the Second Number40\n",
      "70\n"
     ]
    }
   ],
   "source": [
    "def add(num1,num2):\n",
    "    return num1+num2\n",
    "\n",
    "def multiply(num1,num2):\n",
    "    return num1*num2\n",
    "\n",
    "def subtract(num1,num2):\n",
    "    return num1-num2\n",
    "\n",
    "def division(num1,num2):\n",
    "    return num1/num2\n",
    "\n",
    "print(\"Select Operations:\\n\"\\\n",
    "      \"1.Adding\\n\"\\\n",
    "      \"2.Multiply\\n\"\\\n",
    "      \"3.Subtract\\n\"\\\n",
    "      \"4.Division\\n\"\\\n",
    "     )\n",
    "\n",
    "x=int(input(\"Enter the choice:\"))\n",
    "num1=int(input(\"Enter the 1st Number\"))\n",
    "num2=int(input(\"Enter the Second Number\"))\n",
    "\n",
    "if x==1:\n",
    "    print(add(num1,num2))\n",
    "elif x==2:\n",
    "    print(multiply(num1,num2))\n",
    "elif x==3:\n",
    "    print(subtract(num1,num2))\n",
    "elif x==4:\n",
    "    print(division(num1,num2))\n",
    "else:\n",
    "    print(\"Invalid Input\")"
   ]
  },
  {
   "cell_type": "code",
   "execution_count": 12,
   "metadata": {},
   "outputs": [
    {
     "name": "stdout",
     "output_type": "stream",
     "text": [
      "Enter the number1 2\n",
      "1 2\n"
     ]
    }
   ],
   "source": [
    "# Taking  Multiple Input Without Typecasting\n",
    "x,y=input(\"Enter the number\").split()\n",
    "print(x,y)"
   ]
  },
  {
   "cell_type": "code",
   "execution_count": 12,
   "metadata": {},
   "outputs": [
    {
     "name": "stdout",
     "output_type": "stream",
     "text": [
      "Enter multiple Input:1 2 3 4\n"
     ]
    }
   ],
   "source": [
    "# Taking Multiple Input With Type casting\n",
    "x=list(map(int,input(\"Enter multiple Input:\").split()))"
   ]
  },
  {
   "cell_type": "code",
   "execution_count": 13,
   "metadata": {},
   "outputs": [
    {
     "name": "stdout",
     "output_type": "stream",
     "text": [
      "enter number1\n"
     ]
    }
   ],
   "source": [
    "# Using List Compherision\n",
    "\n",
    "x=[int(x) for x in input(\"enter number\").split()]"
   ]
  },
  {
   "cell_type": "code",
   "execution_count": 10,
   "metadata": {},
   "outputs": [
    {
     "name": "stdout",
     "output_type": "stream",
     "text": [
      "10 20 30\n"
     ]
    }
   ],
   "source": [
    "x,y,z=[int(x) for x in input().split()]"
   ]
  },
  {
   "cell_type": "code",
   "execution_count": 11,
   "metadata": {},
   "outputs": [
    {
     "name": "stdout",
     "output_type": "stream",
     "text": [
      "10 20\n",
      "30\n"
     ]
    },
    {
     "data": {
      "text/plain": [
       "(None, None, None)"
      ]
     },
     "execution_count": 11,
     "metadata": {},
     "output_type": "execute_result"
    }
   ],
   "source": [
    "print(x,end=' '),print(y),print(z)"
   ]
  },
  {
   "cell_type": "code",
   "execution_count": 12,
   "metadata": {},
   "outputs": [
    {
     "name": "stdout",
     "output_type": "stream",
     "text": [
      "g-f-g\n"
     ]
    }
   ],
   "source": [
    "print('g','f','g',sep='-')"
   ]
  },
  {
   "cell_type": "code",
   "execution_count": 13,
   "metadata": {},
   "outputs": [
    {
     "name": "stdout",
     "output_type": "stream",
     "text": [
      "a\n",
      "['a']\n"
     ]
    }
   ],
   "source": [
    "x=[str(x) for x in input().split()]\n",
    "print(x)"
   ]
  },
  {
   "cell_type": "code",
   "execution_count": 13,
   "metadata": {},
   "outputs": [
    {
     "name": "stdout",
     "output_type": "stream",
     "text": [
      "rohan:2,roshan:5.333\n"
     ]
    }
   ],
   "source": [
    "print(\"rohan:%d,roshan:%5.3f\" %(2,05.3330303))"
   ]
  },
  {
   "cell_type": "code",
   "execution_count": 14,
   "metadata": {},
   "outputs": [
    {
     "name": "stdout",
     "output_type": "stream",
     "text": [
      "geeks:10, geeksforgeeks:30\n"
     ]
    }
   ],
   "source": [
    "print(\"geeks:{}, geeksforgeeks:{}\".format(10,30))"
   ]
  },
  {
   "cell_type": "code",
   "execution_count": 15,
   "metadata": {},
   "outputs": [
    {
     "name": "stdout",
     "output_type": "stream",
     "text": [
      "50 40\n"
     ]
    }
   ],
   "source": [
    "print('{4} {3}'.format(10,20,30,40,50))"
   ]
  },
  {
   "cell_type": "code",
   "execution_count": 16,
   "metadata": {},
   "outputs": [],
   "source": [
    "# String\n",
    "\n",
    "# Strings in Python\n",
    "# A string is a sequence of characters. It can be declared in python by using double quotes. \n",
    "# Strings are immutable, i.e., they cannot be changed."
   ]
  },
  {
   "cell_type": "code",
   "execution_count": 17,
   "metadata": {},
   "outputs": [
    {
     "data": {
      "text/plain": [
       "'h'"
      ]
     },
     "execution_count": 17,
     "metadata": {},
     "output_type": "execute_result"
    }
   ],
   "source": [
    "r='rohan kumar singh'\n",
    "o=\"rohan kumar singh\"\n",
    "h='''rohan \n",
    "     kumar\n",
    "     singh'''\n",
    "rev=r[-1:]\n",
    "rev"
   ]
  },
  {
   "cell_type": "code",
   "execution_count": 18,
   "metadata": {},
   "outputs": [],
   "source": [
    "del r"
   ]
  },
  {
   "cell_type": "code",
   "execution_count": null,
   "metadata": {},
   "outputs": [],
   "source": []
  },
  {
   "cell_type": "code",
   "execution_count": null,
   "metadata": {},
   "outputs": [],
   "source": []
  }
 ],
 "metadata": {
  "kernelspec": {
   "display_name": "Python 3",
   "language": "python",
   "name": "python3"
  },
  "language_info": {
   "codemirror_mode": {
    "name": "ipython",
    "version": 3
   },
   "file_extension": ".py",
   "mimetype": "text/x-python",
   "name": "python",
   "nbconvert_exporter": "python",
   "pygments_lexer": "ipython3",
   "version": "3.8.2"
  }
 },
 "nbformat": 4,
 "nbformat_minor": 4
}
