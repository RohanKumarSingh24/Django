{
 "cells": [
  {
   "cell_type": "code",
   "execution_count": null,
   "metadata": {},
   "outputs": [],
   "source": [
    "# Functions in Python\n",
    "# A function is a set of statements that take inputs, do some specific computation and produces output. The idea is to put\n",
    "# some commonly or repeatedly done task together and make a function, so that instead of writing the same code again and \n",
    "# again for different inputs, we can call the function."
   ]
  },
  {
   "cell_type": "code",
   "execution_count": 6,
   "metadata": {},
   "outputs": [],
   "source": [
    "# Pass By Reference and Value"
   ]
  },
  {
   "cell_type": "code",
   "execution_count": 9,
   "metadata": {},
   "outputs": [
    {
     "name": "stdout",
     "output_type": "stream",
     "text": [
      "[10, 4, 5, 6, 7, 8]\n"
     ]
    }
   ],
   "source": [
    "def myfunc(x):\n",
    "    x[0]=10\n",
    "\n",
    "lis=[3,4,5,6,7,8]\n",
    "myfunc(lis)\n",
    "print(lis)"
   ]
  },
  {
   "cell_type": "code",
   "execution_count": 10,
   "metadata": {},
   "outputs": [],
   "source": [
    "# swap"
   ]
  },
  {
   "cell_type": "code",
   "execution_count": 20,
   "metadata": {},
   "outputs": [
    {
     "name": "stdout",
     "output_type": "stream",
     "text": [
      "as: 40 10\n",
      "bs: 10 40\n"
     ]
    }
   ],
   "source": [
    "def swap(x,y):\n",
    "#     temp=a\n",
    "#     a=b\n",
    "#     b=temp\n",
    "#     print(a,b)\n",
    "    x,y=y,x\n",
    "    \n",
    "    print('as:',x,y)\n",
    "x=10\n",
    "y=40\n",
    "swap(x,y)\n",
    "print('bs:',x,y)"
   ]
  },
  {
   "cell_type": "code",
   "execution_count": 21,
   "metadata": {},
   "outputs": [],
   "source": [
    "#Default argument"
   ]
  },
  {
   "cell_type": "code",
   "execution_count": 22,
   "metadata": {},
   "outputs": [
    {
     "name": "stdout",
     "output_type": "stream",
     "text": [
      "30\n"
     ]
    }
   ],
   "source": [
    "def defargument(x,y=10):\n",
    "    sum=0\n",
    "    sum=x+y\n",
    "    print(sum)\n",
    "    \n",
    "defargument(x=20)"
   ]
  },
  {
   "cell_type": "code",
   "execution_count": 23,
   "metadata": {},
   "outputs": [],
   "source": [
    "# keyword Arguments"
   ]
  },
  {
   "cell_type": "code",
   "execution_count": 25,
   "metadata": {},
   "outputs": [
    {
     "name": "stdout",
     "output_type": "stream",
     "text": [
      "roahn singh 95\n",
      "roahn singh 95\n"
     ]
    }
   ],
   "source": [
    "def keywordargument(namek,marksk):\n",
    "    print(namek,marksk)\n",
    "    \n",
    "keywordargument(namek='roahn singh',marksk=95)\n",
    "keywordargument( marksk=95,namek='roahn singh')\n",
    "    "
   ]
  },
  {
   "cell_type": "code",
   "execution_count": 26,
   "metadata": {},
   "outputs": [],
   "source": [
    "# varaable length arguments"
   ]
  },
  {
   "cell_type": "code",
   "execution_count": 27,
   "metadata": {},
   "outputs": [
    {
     "name": "stdout",
     "output_type": "stream",
     "text": [
      "54\n"
     ]
    }
   ],
   "source": [
    "def variablelengtharg(*argv):\n",
    "    sum=0\n",
    "    for i in argv:\n",
    "        sum=sum+i\n",
    "    print(sum)\n",
    "    \n",
    "variablelengtharg(2,3,4,5,6,7,8,9,10)    "
   ]
  },
  {
   "cell_type": "code",
   "execution_count": 33,
   "metadata": {},
   "outputs": [
    {
     "name": "stdout",
     "output_type": "stream",
     "text": [
      "name rohan\n",
      "marks 90\n",
      "dis bangalore\n"
     ]
    }
   ],
   "source": [
    "def keywordargument(**kwargs):\n",
    "    for key,value in kwargs.items():\n",
    "        print(key,value)\n",
    "        \n",
    "keywordargument(name='rohan',marks=90,dis='bangalore')        "
   ]
  },
  {
   "cell_type": "code",
   "execution_count": null,
   "metadata": {},
   "outputs": [],
   "source": [
    "# Anonymous Function:\n",
    "# In Python, anonymous function means that a function is without a name. As we already know that def keyword is used to \n",
    "# define the normal functions and the lambda keyword is used to create anonymous functions"
   ]
  },
  {
   "cell_type": "code",
   "execution_count": 35,
   "metadata": {},
   "outputs": [
    {
     "name": "stdout",
     "output_type": "stream",
     "text": [
      "64\n"
     ]
    }
   ],
   "source": [
    "cube=lambda x: x*x*x\n",
    "print(cube(4))"
   ]
  },
  {
   "cell_type": "code",
   "execution_count": null,
   "metadata": {},
   "outputs": [],
   "source": []
  },
  {
   "cell_type": "code",
   "execution_count": null,
   "metadata": {},
   "outputs": [],
   "source": [
    "# Returning Multiple value"
   ]
  },
  {
   "cell_type": "code",
   "execution_count": null,
   "metadata": {},
   "outputs": [],
   "source": [
    "# Using object "
   ]
  },
  {
   "cell_type": "code",
   "execution_count": 9,
   "metadata": {},
   "outputs": [
    {
     "name": "stdout",
     "output_type": "stream",
     "text": [
      "rohankumarsingh 10\n",
      "rohankumarsingh 10\n"
     ]
    }
   ],
   "source": [
    "class Test():\n",
    "    \n",
    "    def __init__(self):\n",
    "        self.str='rohankumarsingh'\n",
    "        self.x=10\n",
    "        \n",
    "def fun():\n",
    "    return Test()\n",
    "\n",
    "t=Test()\n",
    "print(t.str,t.x)\n",
    "t1=fun()\n",
    "print(t1.str,t1.x)"
   ]
  },
  {
   "cell_type": "code",
   "execution_count": 10,
   "metadata": {},
   "outputs": [],
   "source": [
    "# using Tuple\n",
    "# Using List\n",
    "# Using Dictionary"
   ]
  },
  {
   "cell_type": "code",
   "execution_count": null,
   "metadata": {},
   "outputs": [],
   "source": []
  },
  {
   "cell_type": "code",
   "execution_count": 11,
   "metadata": {},
   "outputs": [],
   "source": [
    "# Partial Function"
   ]
  },
  {
   "cell_type": "code",
   "execution_count": null,
   "metadata": {},
   "outputs": [],
   "source": [
    "# Partial functions allow us to fix a certain number of arguments of a function and generate a new function."
   ]
  },
  {
   "cell_type": "code",
   "execution_count": 12,
   "metadata": {},
   "outputs": [],
   "source": [
    "from functools import partial"
   ]
  },
  {
   "cell_type": "code",
   "execution_count": 16,
   "metadata": {},
   "outputs": [
    {
     "name": "stdout",
     "output_type": "stream",
     "text": [
      "3211\n"
     ]
    }
   ],
   "source": [
    "def pfunc(a,b,c,d):\n",
    "    return 1000*a +100*b +10*c +d\n",
    "\n",
    "g=partial(pfunc,3,2,1)\n",
    "print(g(1))"
   ]
  },
  {
   "cell_type": "code",
   "execution_count": 20,
   "metadata": {},
   "outputs": [
    {
     "name": "stdout",
     "output_type": "stream",
     "text": [
      "1021\n"
     ]
    }
   ],
   "source": [
    "def add(x,y,z):\n",
    "    return x*100+y*10+z\n",
    "\n",
    "t=partial(add,z=1,y=2)\n",
    "print(t(10))"
   ]
  },
  {
   "cell_type": "code",
   "execution_count": 21,
   "metadata": {},
   "outputs": [],
   "source": [
    "# precision handling"
   ]
  },
  {
   "cell_type": "code",
   "execution_count": null,
   "metadata": {},
   "outputs": [],
   "source": [
    "# Python in its definition allows to handle precision of floating point numbers in several ways using different functions. \n",
    "# Most of them are defined under the “math” module. Some of the most used operations are discussed in this article.\n",
    "\n",
    "# 1. trunc() :- This function is used to eliminate all decimal part of the floating point number and return the integer \n",
    "#                 without the decimal part.\n",
    "\n",
    "# 2. ceil() :- This function is used to print the least integer greater than the given number.\n",
    "\n",
    "# 3. floor() :- This function is used to print the greatest integer smaller than the given integer."
   ]
  },
  {
   "cell_type": "code",
   "execution_count": 25,
   "metadata": {},
   "outputs": [],
   "source": [
    "a=3.41658"
   ]
  },
  {
   "cell_type": "code",
   "execution_count": 26,
   "metadata": {},
   "outputs": [],
   "source": [
    "import math"
   ]
  },
  {
   "cell_type": "code",
   "execution_count": 27,
   "metadata": {},
   "outputs": [
    {
     "name": "stdout",
     "output_type": "stream",
     "text": [
      "3\n"
     ]
    }
   ],
   "source": [
    "print(math.trunc(a))"
   ]
  },
  {
   "cell_type": "code",
   "execution_count": 28,
   "metadata": {},
   "outputs": [
    {
     "name": "stdout",
     "output_type": "stream",
     "text": [
      "4\n"
     ]
    }
   ],
   "source": [
    "print(math.ceil(a))"
   ]
  },
  {
   "cell_type": "code",
   "execution_count": 29,
   "metadata": {},
   "outputs": [
    {
     "name": "stdout",
     "output_type": "stream",
     "text": [
      "3\n"
     ]
    }
   ],
   "source": [
    "print(math.floor(a))"
   ]
  },
  {
   "cell_type": "code",
   "execution_count": null,
   "metadata": {},
   "outputs": [],
   "source": [
    "# Setting Precision\n",
    "\n",
    "# There are many ways to set precision of floating point value. Some of them is discussed below.\n",
    "\n",
    "# 1. Using “%” :- “%” operator is used to format as well as set precision in python. This is similar to “printf” statement in \n",
    "#                 C programming.\n",
    "\n",
    "# 2. Using format() :- This is yet another way to format the string for setting precision.\n",
    "\n",
    "# 3. Using round(x,n) :- This function takes 2 arguments, number and the number till which we want decimal part rounded."
   ]
  },
  {
   "cell_type": "code",
   "execution_count": 31,
   "metadata": {},
   "outputs": [],
   "source": [
    "b=5.4568932"
   ]
  },
  {
   "cell_type": "code",
   "execution_count": 40,
   "metadata": {},
   "outputs": [
    {
     "name": "stdout",
     "output_type": "stream",
     "text": [
      "5.46\n"
     ]
    }
   ],
   "source": [
    "print('%.2f' %b)"
   ]
  },
  {
   "cell_type": "code",
   "execution_count": 46,
   "metadata": {},
   "outputs": [
    {
     "name": "stdout",
     "output_type": "stream",
     "text": [
      "5.46\n"
     ]
    }
   ],
   "source": [
    "print('{0:.2f}'.format(b))"
   ]
  },
  {
   "cell_type": "code",
   "execution_count": 47,
   "metadata": {},
   "outputs": [
    {
     "data": {
      "text/plain": [
       "5.46"
      ]
     },
     "execution_count": 47,
     "metadata": {},
     "output_type": "execute_result"
    }
   ],
   "source": [
    "round(b,2)"
   ]
  },
  {
   "cell_type": "code",
   "execution_count": null,
   "metadata": {},
   "outputs": [],
   "source": [
    "# *args and *kwargs"
   ]
  },
  {
   "cell_type": "code",
   "execution_count": 1,
   "metadata": {},
   "outputs": [
    {
     "name": "stdout",
     "output_type": "stream",
     "text": [
      "rohan\n",
      "kumar\n",
      "singh\n",
      "malhotra\n"
     ]
    }
   ],
   "source": [
    "def argsfunc(*args):\n",
    "    for arg in args:\n",
    "        print(arg)\n",
    "        \n",
    "        \n",
    "argsfunc('rohan','kumar','singh','malhotra')        "
   ]
  },
  {
   "cell_type": "code",
   "execution_count": 5,
   "metadata": {},
   "outputs": [
    {
     "name": "stdout",
     "output_type": "stream",
     "text": [
      "first argument : hello\n",
      "seconf argument : rohan\n",
      "course enroled: algorithm\n",
      "course enroled: c++\n",
      "course enroled: python\n",
      "course enroled: c\n"
     ]
    }
   ],
   "source": [
    "def myfunc(arg1,arg2,*args):\n",
    "    print('first argument :',arg1)\n",
    "    print('seconf argument :',arg2)\n",
    "    for i in args:\n",
    "        print('course enroled:',i)\n",
    "myfunc('hello','rohan','algorithm','c++','python','c')   "
   ]
  },
  {
   "cell_type": "code",
   "execution_count": 13,
   "metadata": {},
   "outputs": [],
   "source": [
    "# **kwargs"
   ]
  },
  {
   "cell_type": "code",
   "execution_count": 14,
   "metadata": {},
   "outputs": [
    {
     "name": "stdout",
     "output_type": "stream",
     "text": [
      "name rohan singh\n",
      "venu bangalore\n",
      "branch it\n",
      "college ISM\n"
     ]
    }
   ],
   "source": [
    "def kwafunc(**kwargs):\n",
    "    for key,value in kwargs.items():\n",
    "        print(key,value)\n",
    "\n",
    "kwafunc(name='rohan singh',venu='bangalore',branch='it',college='ISM')"
   ]
  },
  {
   "cell_type": "code",
   "execution_count": 17,
   "metadata": {},
   "outputs": [
    {
     "name": "stdout",
     "output_type": "stream",
     "text": [
      "first argument : rohan\n",
      "key value\n",
      "role hero\n",
      "rating best\n"
     ]
    }
   ],
   "source": [
    "def kwfunc(arg1,**kwargs):\n",
    "    print('first argument :',arg1)\n",
    "    for k,v in kwargs.items():\n",
    "        print(k,v)\n",
    "        \n",
    "kwfunc('rohan',key='value',role='hero',rating='best')        "
   ]
  },
  {
   "cell_type": "code",
   "execution_count": 26,
   "metadata": {},
   "outputs": [
    {
     "name": "stdout",
     "output_type": "stream",
     "text": [
      "geeksforgeeks cs good\n"
     ]
    }
   ],
   "source": [
    "def kfunc(name,course,review):\n",
    "    print(name,course,review)\n",
    "        \n",
    "        \n",
    "d={'name':'geeksforgeeks','course':'cs','review':'good'} \n",
    "kfunc(**d)\n",
    "    "
   ]
  },
  {
   "cell_type": "code",
   "execution_count": 27,
   "metadata": {},
   "outputs": [
    {
     "name": "stdout",
     "output_type": "stream",
     "text": [
      "args: ('geeks', 'for', 'geeks')\n",
      "kwargs: {'first': 'Geeks', 'mid': 'for', 'last': 'Geeks'}\n"
     ]
    }
   ],
   "source": [
    "def func(*args,**kwargs):\n",
    "    print('args:',args)\n",
    "    print('kwargs:',kwargs)\n",
    "\n",
    "func('geeks','for','geeks',first=\"Geeks\",mid=\"for\",last=\"Geeks\")"
   ]
  },
  {
   "cell_type": "code",
   "execution_count": 28,
   "metadata": {},
   "outputs": [],
   "source": [
    "# Decorator function"
   ]
  },
  {
   "cell_type": "code",
   "execution_count": null,
   "metadata": {},
   "outputs": [],
   "source": [
    "# A decorator is a function that takes a function as its only parameter and returns a function. This is helpful to “wrap” \n",
    "# functionality with the same code over and over again. For example, above code can be re-written as following.\n",
    "# We use @func_name to specify a decorator to be applied on another function."
   ]
  },
  {
   "cell_type": "code",
   "execution_count": 5,
   "metadata": {},
   "outputs": [
    {
     "name": "stdout",
     "output_type": "stream",
     "text": [
      "it can not be divide\n",
      "None\n"
     ]
    }
   ],
   "source": [
    "def check(func):\n",
    "    \n",
    "    def inside(a,b):\n",
    "        if b==0:\n",
    "            print('it can not be divide')\n",
    "            return\n",
    "        func(a,b)\n",
    "    return inside        \n",
    "\n",
    "\n",
    "@check\n",
    "def div(a,b):\n",
    "    \n",
    "    return a/b\n",
    "\n",
    "print(div(10,0))"
   ]
  },
  {
   "cell_type": "code",
   "execution_count": 16,
   "metadata": {},
   "outputs": [
    {
     "name": "stdout",
     "output_type": "stream",
     "text": [
      "another function\n"
     ]
    }
   ],
   "source": [
    "def turn_into_another_func(func):\n",
    "    return another_func\n",
    "    \n",
    "\n",
    "@turn_into_another_func\n",
    "def a_func():\n",
    "    print(\"a_function\")\n",
    "#a_func=turn_into_another_func(a_func)    \n",
    "    \n",
    "    \n",
    "def another_func():\n",
    "    print('another function')\n",
    "\n",
    "a_func() \n",
    "#another_func()\n",
    "    "
   ]
  },
  {
   "cell_type": "code",
   "execution_count": 24,
   "metadata": {},
   "outputs": [
    {
     "data": {
      "text/plain": [
       "'RohanSingh'"
      ]
     },
     "execution_count": 24,
     "metadata": {},
     "output_type": "execute_result"
    }
   ],
   "source": [
    "def camelcase(s):\n",
    "    return ''.join([word.capitalize() for word in s.split('_')])\n",
    "\n",
    "\n",
    "camelcase('rohan_singh')"
   ]
  },
  {
   "cell_type": "code",
   "execution_count": null,
   "metadata": {},
   "outputs": [],
   "source": [
    "# Decorator are very powerful and useful tool in Python since it allows programmers to modify the behavior of function or \n",
    "# class. Decorators allow us to wrap another function in order to extend the behavior of wrapped function, without permanently \n",
    "# modifying it.\n",
    "# In Decorators, functions are taken as the argument into another function and then called inside the wrapper function."
   ]
  },
  {
   "cell_type": "code",
   "execution_count": null,
   "metadata": {},
   "outputs": [],
   "source": []
  },
  {
   "cell_type": "code",
   "execution_count": 4,
   "metadata": {},
   "outputs": [
    {
     "name": "stdout",
     "output_type": "stream",
     "text": [
      "hello this is before func execution\n",
      "this is inside function\n",
      "this is after function execution\n"
     ]
    }
   ],
   "source": [
    "def hello_decorator(function_to_be_used):\n",
    "    \n",
    "    def innerfunc():\n",
    "        print('hello this is before func execution')\n",
    "        \n",
    "        function_to_be_used()\n",
    "        \n",
    "        print('this is after function execution')\n",
    "        \n",
    "    return innerfunc\n",
    "\n",
    "\n",
    "def function_to_be_used():\n",
    "    print('this is inside function')\n",
    "    \n",
    "    \n",
    "# create decorator\n",
    "function_to_be_used=hello_decorator(function_to_be_used)\n",
    "\n",
    "function_to_be_used()"
   ]
  },
  {
   "cell_type": "code",
   "execution_count": 5,
   "metadata": {},
   "outputs": [],
   "source": [
    "# execution time of function using decorator"
   ]
  },
  {
   "cell_type": "code",
   "execution_count": 20,
   "metadata": {},
   "outputs": [
    {
     "name": "stdout",
     "output_type": "stream",
     "text": [
      "result 3628800\n",
      "total time take: 2.000464677810669\n"
     ]
    }
   ],
   "source": [
    "import time\n",
    "import math\n",
    "\n",
    "def calculate_time(factorial):\n",
    "    \n",
    "    def inside(*args,**kwargs):\n",
    "        \n",
    "        begin=time.time()\n",
    "        \n",
    "        factorial(*args,**kwargs)\n",
    "        \n",
    "        end=time.time()\n",
    "        print('total time take:',end-begin)\n",
    "        \n",
    "    return inside \n",
    "\n",
    "\n",
    "@calculate_time\n",
    "def factorial(num):\n",
    "    \n",
    "    time.sleep(2)\n",
    "    print('result',math.factorial(num))\n",
    "    \n",
    "factorial(10)    \n",
    "    \n"
   ]
  },
  {
   "cell_type": "code",
   "execution_count": 21,
   "metadata": {},
   "outputs": [],
   "source": [
    "# function return something"
   ]
  },
  {
   "cell_type": "code",
   "execution_count": 26,
   "metadata": {},
   "outputs": [
    {
     "name": "stdout",
     "output_type": "stream",
     "text": [
      "before execution\n",
      "inside function\n",
      "after ececution\n",
      "Sum: 3\n"
     ]
    }
   ],
   "source": [
    "def add_decorator(func):\n",
    "    \n",
    "    def inner1(*args,**kwargs):\n",
    "        \n",
    "        print('before execution')\n",
    "        \n",
    "        return_value=func(*args,**kwargs)\n",
    "        \n",
    "        print('after ececution')\n",
    "        \n",
    "        return return_value\n",
    "        \n",
    "    return inner1    \n",
    "\n",
    "@add_decorator\n",
    "def add_sum(a,b):\n",
    "    print('inside function')\n",
    "    return a+b\n",
    "\n",
    "a,b=1,2\n",
    "print('Sum:',add_sum(a,b))\n",
    "    "
   ]
  },
  {
   "cell_type": "code",
   "execution_count": 29,
   "metadata": {},
   "outputs": [
    {
     "data": {
      "text/plain": [
       "34"
      ]
     },
     "execution_count": 29,
     "metadata": {},
     "output_type": "execute_result"
    }
   ],
   "source": [
    "# fabonicci program using recursion\n",
    "\n",
    "def fabonacci(n):\n",
    "    \n",
    "    if n<0:\n",
    "        print('Incorrect Input')\n",
    "        \n",
    "    elif n==0:\n",
    "        return 0\n",
    "    \n",
    "    elif n==1:\n",
    "        return 1\n",
    "    \n",
    "    else:\n",
    "        return fabonacci(n-1)+fabonacci(n-2)\n",
    "    \n",
    "    \n",
    "fabonacci(9)\n"
   ]
  },
  {
   "cell_type": "code",
   "execution_count": 35,
   "metadata": {},
   "outputs": [
    {
     "data": {
      "text/plain": [
       "24"
      ]
     },
     "execution_count": 35,
     "metadata": {},
     "output_type": "execute_result"
    }
   ],
   "source": [
    "# factorial\n",
    "\n",
    "def factorial(num):\n",
    "    if num==1:\n",
    "        return num\n",
    "    else:\n",
    "        return num*factorial(num-1)\n",
    "    \n",
    "factorial(4)    "
   ]
  },
  {
   "cell_type": "code",
   "execution_count": null,
   "metadata": {},
   "outputs": [],
   "source": []
  },
  {
   "cell_type": "code",
   "execution_count": null,
   "metadata": {},
   "outputs": [],
   "source": []
  }
 ],
 "metadata": {
  "kernelspec": {
   "display_name": "Python 3",
   "language": "python",
   "name": "python3"
  },
  "language_info": {
   "codemirror_mode": {
    "name": "ipython",
    "version": 3
   },
   "file_extension": ".py",
   "mimetype": "text/x-python",
   "name": "python",
   "nbconvert_exporter": "python",
   "pygments_lexer": "ipython3",
   "version": "3.8.2"
  }
 },
 "nbformat": 4,
 "nbformat_minor": 4
}
