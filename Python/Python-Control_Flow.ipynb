{
 "cells": [
  {
   "cell_type": "code",
   "execution_count": 1,
   "metadata": {},
   "outputs": [],
   "source": [
    "#Loop Control Statements"
   ]
  },
  {
   "cell_type": "code",
   "execution_count": 2,
   "metadata": {},
   "outputs": [],
   "source": [
    "# Continue Statement\n",
    "\n",
    "# It returns the control to the beginning of the loop."
   ]
  },
  {
   "cell_type": "code",
   "execution_count": 3,
   "metadata": {},
   "outputs": [
    {
     "name": "stdout",
     "output_type": "stream",
     "text": [
      "g\n",
      "k\n",
      "f\n",
      "o\n",
      "r\n",
      "g\n",
      "k\n"
     ]
    }
   ],
   "source": [
    "for i in 'geeksforgeeks':\n",
    "    if i=='e' or i=='s':\n",
    "        continue\n",
    "    print(i)    "
   ]
  },
  {
   "cell_type": "code",
   "execution_count": 4,
   "metadata": {},
   "outputs": [],
   "source": [
    "# Break Statement\n",
    "#It brings control out of the loop"
   ]
  },
  {
   "cell_type": "code",
   "execution_count": 5,
   "metadata": {},
   "outputs": [
    {
     "name": "stdout",
     "output_type": "stream",
     "text": [
      "e\n"
     ]
    }
   ],
   "source": [
    "for letter in 'geeksforgeeks':\n",
    "    if letter=='e' or letter=='s':\n",
    "        break\n",
    "print(letter)    "
   ]
  },
  {
   "cell_type": "code",
   "execution_count": 6,
   "metadata": {},
   "outputs": [],
   "source": [
    "# Pass Statement\n",
    "\n",
    "# We use pass statement to write empty loops. Pass is also used for empty control statement, function and classes.\n"
   ]
  },
  {
   "cell_type": "code",
   "execution_count": 7,
   "metadata": {},
   "outputs": [
    {
     "name": "stdout",
     "output_type": "stream",
     "text": [
      "r\n",
      "o\n",
      "h\n",
      "a\n",
      "n\n",
      "outside : n\n"
     ]
    }
   ],
   "source": [
    "for i in 'rohan':\n",
    "    pass\n",
    "    print(i)\n",
    "print('outside :',i)"
   ]
  },
  {
   "cell_type": "code",
   "execution_count": 8,
   "metadata": {},
   "outputs": [
    {
     "data": {
      "text/plain": [
       "dict_items([('rohan', 10), ('rakesh', 20), ('ramesh', 40), ('suresh', 67), ('rupesh', 78)])"
      ]
     },
     "execution_count": 8,
     "metadata": {},
     "output_type": "execute_result"
    }
   ],
   "source": [
    "d={'rohan':10,'rakesh':20,'ramesh':40,'suresh':67,'rupesh':78}\n",
    "d.items()"
   ]
  },
  {
   "cell_type": "code",
   "execution_count": 9,
   "metadata": {},
   "outputs": [],
   "source": [
    "#Looping Techniques in Python"
   ]
  },
  {
   "cell_type": "code",
   "execution_count": null,
   "metadata": {},
   "outputs": [],
   "source": []
  },
  {
   "cell_type": "code",
   "execution_count": 10,
   "metadata": {},
   "outputs": [],
   "source": [
    "#Different looping techniques using Python data structures  are:"
   ]
  },
  {
   "cell_type": "code",
   "execution_count": 11,
   "metadata": {},
   "outputs": [],
   "source": [
    "# Using enumerate():  enumerate() is used to loop through the containers printing the index number along with the value present \n",
    "# in that particular index."
   ]
  },
  {
   "cell_type": "code",
   "execution_count": 23,
   "metadata": {},
   "outputs": [
    {
     "name": "stdout",
     "output_type": "stream",
     "text": [
      "0 sun\n",
      "1 mon\n",
      "2 tue\n",
      "3 wed\n",
      "4 thu\n",
      "5 fri\n",
      "6 sat\n"
     ]
    }
   ],
   "source": [
    "l=['sun','mon','tue','wed','thu','fri','sat']\n",
    "for key ,value in enumerate(l):\n",
    "    print(key,value)"
   ]
  },
  {
   "cell_type": "code",
   "execution_count": null,
   "metadata": {},
   "outputs": [],
   "source": [
    "# Using zip(): zip() is used to combine 2 similar containers(list-list or dict-dict) printing the values sequentially. \n",
    "#             The loop exists only till the smaller container ends. The detailed explanation of zip() and enumerate() can be \n",
    "#             found here."
   ]
  },
  {
   "cell_type": "code",
   "execution_count": 13,
   "metadata": {},
   "outputs": [
    {
     "name": "stdout",
     "output_type": "stream",
     "text": [
      "name roahn\n",
      "school rsvm\n",
      "marks 90\n",
      "zipcode 826001\n"
     ]
    }
   ],
   "source": [
    "q=['name','school','marks','zipcode']\n",
    "a=['roahn','rsvm',90,826001]\n",
    "for q,r in zip(q,a):\n",
    "    print(q,r)"
   ]
  },
  {
   "cell_type": "code",
   "execution_count": null,
   "metadata": {},
   "outputs": [],
   "source": []
  },
  {
   "cell_type": "code",
   "execution_count": 15,
   "metadata": {},
   "outputs": [
    {
     "name": "stdout",
     "output_type": "stream",
     "text": [
      "what is your z?  I am roahn\n",
      "what is your i?  I am rsvm\n",
      "what is your p?  I am 90\n",
      "what is your c?  I am 826001\n"
     ]
    }
   ],
   "source": [
    "for q,r in zip(q,a):\n",
    "    print('what is your {0}?  I am {1}'.format(q,r))"
   ]
  },
  {
   "cell_type": "code",
   "execution_count": 16,
   "metadata": {},
   "outputs": [],
   "source": [
    "# Using iteritem(): iteritems() is used to loop through the dictionary printing the dictionary key-value pair sequentially.\n",
    "    \n",
    "# Using items():  items() performs the similar task on dictionary as iteritems() but have certain disadvantages when compared\n",
    "#                 with iteritems().\n",
    "# It is very time consuming. Calling it on large dictionaries consumes quite a lot of time.\n",
    "# It takes a lot of memory. Sometimes takes double the memory when called on dictionary."
   ]
  },
  {
   "cell_type": "code",
   "execution_count": 17,
   "metadata": {},
   "outputs": [],
   "source": [
    "d={'name':'rohan','occupation':'business','location':'bangalore'}"
   ]
  },
  {
   "cell_type": "code",
   "execution_count": 19,
   "metadata": {},
   "outputs": [
    {
     "data": {
      "text/plain": [
       "dict_items([('name', 'rohan'), ('occupation', 'business'), ('location', 'bangalore')])"
      ]
     },
     "execution_count": 19,
     "metadata": {},
     "output_type": "execute_result"
    }
   ],
   "source": [
    "d.items()"
   ]
  },
  {
   "cell_type": "code",
   "execution_count": 24,
   "metadata": {},
   "outputs": [
    {
     "name": "stdout",
     "output_type": "stream",
     "text": [
      "name : rohan\n",
      "occupation : business\n",
      "location : bangalore\n"
     ]
    }
   ],
   "source": [
    "for k,v in d.items():\n",
    "    print(k,':',v)"
   ]
  },
  {
   "cell_type": "code",
   "execution_count": null,
   "metadata": {},
   "outputs": [],
   "source": [
    "# range() vs xrange()"
   ]
  },
  {
   "cell_type": "code",
   "execution_count": null,
   "metadata": {},
   "outputs": [],
   "source": [
    "# range() – This returns a range object (a type of iterable).\n",
    "# xrange() – This function returns the generator object that can be used to display numbers only by looping. Only \n",
    "#            particular range is displayed on demand and hence called “lazy evaluation“.\n",
    "\n",
    "# Both are implemented in different ways and have different characteristics associated with them. The points of comparisons are:\n",
    "\n",
    "# Return Type\n",
    "# Memory\n",
    "# Operation Usage\n",
    "# Speed"
   ]
  },
  {
   "cell_type": "code",
   "execution_count": 25,
   "metadata": {},
   "outputs": [],
   "source": [
    "# Return Type"
   ]
  },
  {
   "cell_type": "code",
   "execution_count": 1,
   "metadata": {},
   "outputs": [],
   "source": [
    "# range() returns – range object.\n",
    "# xrange() returns – xrange() object."
   ]
  },
  {
   "cell_type": "code",
   "execution_count": 5,
   "metadata": {},
   "outputs": [],
   "source": [
    "x=range(1,500000)\n",
    "#a=xrange(1,5)"
   ]
  },
  {
   "cell_type": "code",
   "execution_count": 7,
   "metadata": {},
   "outputs": [
    {
     "name": "stdout",
     "output_type": "stream",
     "text": [
      "<class 'range'>\n"
     ]
    }
   ],
   "source": [
    "print(type(x))"
   ]
  },
  {
   "cell_type": "code",
   "execution_count": null,
   "metadata": {},
   "outputs": [],
   "source": [
    "# Memory"
   ]
  },
  {
   "cell_type": "code",
   "execution_count": null,
   "metadata": {},
   "outputs": [],
   "source": [
    "# The variable storing the range created by range() takes more memory as compared to variable storing the range using xrange(). \n",
    "# The basic reason for this is the return type of range() is list and xrange() is xrange() object."
   ]
  },
  {
   "cell_type": "code",
   "execution_count": 9,
   "metadata": {},
   "outputs": [
    {
     "name": "stdout",
     "output_type": "stream",
     "text": [
      "48\n"
     ]
    }
   ],
   "source": [
    "import sys\n",
    "print(sys.getsizeof(x))"
   ]
  },
  {
   "cell_type": "code",
   "execution_count": 10,
   "metadata": {},
   "outputs": [],
   "source": [
    "#Operation Usage"
   ]
  },
  {
   "cell_type": "code",
   "execution_count": 11,
   "metadata": {},
   "outputs": [],
   "source": [
    "# As range() returns the list, all the operations that can be applied on the list can be used on it. On the other hand, \n",
    "# as xrange() returns the xrange object, operations associated to list cannot be applied on them, hence a disadvantage."
   ]
  },
  {
   "cell_type": "code",
   "execution_count": null,
   "metadata": {},
   "outputs": [],
   "source": [
    "#Speed"
   ]
  },
  {
   "cell_type": "code",
   "execution_count": null,
   "metadata": {},
   "outputs": [],
   "source": [
    "\n",
    "# Because of the fact that xrange() evaluates only the generator object containing only the values that are required by \n",
    "# lazy evaluation, therefore is faster in implementation than range().\n",
    "\n",
    "# Important Points:\n",
    "\n",
    "# If you want to write code that will run on both Python 2 and Python 3, use range() as the xrange funtion is deprecated\n",
    "# in Python 3\n",
    "# range() is faster if iterating over the same sequence multiple times.\n",
    "# xrange() has to reconstruct the integer object every time, but range() will have real integer objects. \n",
    "# (It will always perform worse in terms of memory however)"
   ]
  },
  {
   "cell_type": "code",
   "execution_count": 13,
   "metadata": {},
   "outputs": [],
   "source": [
    "# Iterator in Python"
   ]
  },
  {
   "cell_type": "code",
   "execution_count": 14,
   "metadata": {},
   "outputs": [],
   "source": [
    "# Iterator in python is any python type that can be used with a ‘for in loop’. Python lists, tuples, dicts and sets are \n",
    "# all examples of inbuilt iterators. These types are iterators because they implement following methods. In fact, \n",
    "# any object that wants to be an iterator must implement following methods.\n",
    "\n",
    "# 1.__iter__ method that is called on initialization of an iterator. This should return an object that has a next or __next__ \n",
    "#    (in Python 3) method.\n",
    "# 2.next ( __next__ in Python 3) The iterator next method should return the next value for the iterable. When an iterator \n",
    "#     is used with a ‘for in’ loop, the for loop implicitly calls next() on the iterator object. This method should raise a\n",
    "#     StopIteration to signal the end of the iteration."
   ]
  },
  {
   "cell_type": "code",
   "execution_count": 22,
   "metadata": {},
   "outputs": [
    {
     "name": "stdout",
     "output_type": "stream",
     "text": [
      "r\n",
      "o\n",
      "h\n",
      "a\n",
      "n\n"
     ]
    }
   ],
   "source": [
    "a='rohan'\n",
    "iter_obj=iter(a)\n",
    "while True:\n",
    "    try:\n",
    "        item=next(iter_obj)\n",
    "        print(item)\n",
    "        \n",
    "    except StopIteration:\n",
    "        break\n",
    "    "
   ]
  },
  {
   "cell_type": "code",
   "execution_count": 24,
   "metadata": {},
   "outputs": [
    {
     "name": "stdout",
     "output_type": "stream",
     "text": [
      "10\n",
      "11\n",
      "12\n",
      "13\n",
      "14\n",
      "15\n"
     ]
    }
   ],
   "source": [
    "class Test:\n",
    "    \n",
    "    def __init__(self,limit):\n",
    "        self.limit=limit\n",
    "        \n",
    "    def __iter__(self):\n",
    "        self.x=10\n",
    "        return self\n",
    "    \n",
    "    def __next__(self):\n",
    "        \n",
    "        x=self.x\n",
    "        \n",
    "        if x > self.limit:\n",
    "            raise StopIteration\n",
    "        \n",
    "        self.x=x+1\n",
    "        return x\n",
    "            \n",
    "for i in Test(15):\n",
    "    print(i)"
   ]
  },
  {
   "cell_type": "code",
   "execution_count": 25,
   "metadata": {},
   "outputs": [],
   "source": [
    "# Generator in Python"
   ]
  },
  {
   "cell_type": "code",
   "execution_count": null,
   "metadata": {},
   "outputs": [],
   "source": [
    "# There are two terms involved when we discuss generators.\n",
    "\n",
    "# 1. Generator-Function : A generator-function is defined like a normal function, but whenever it needs to generate a value, \n",
    "#                      it does so with the yield keyword rather than return. If the body of a def contains yield, the function\n",
    "#                     automatically becomes a generator function."
   ]
  },
  {
   "cell_type": "code",
   "execution_count": 26,
   "metadata": {},
   "outputs": [
    {
     "name": "stdout",
     "output_type": "stream",
     "text": [
      "1\n",
      "2\n",
      "3\n"
     ]
    }
   ],
   "source": [
    "def simplegenerator():\n",
    "    yield 1\n",
    "    yield 2\n",
    "    yield 3\n",
    "    \n",
    "for i in simplegenerator():\n",
    "    print(i)"
   ]
  },
  {
   "cell_type": "code",
   "execution_count": 27,
   "metadata": {},
   "outputs": [],
   "source": [
    "# 2.Generator-Object : Generator functions return a generator object. Generator objects are used either by calling the\n",
    "#                     next method on the generator object or using the generator object in a “for in” loop\n",
    "#                     (as shown in the above program)."
   ]
  },
  {
   "cell_type": "code",
   "execution_count": 32,
   "metadata": {},
   "outputs": [
    {
     "name": "stdout",
     "output_type": "stream",
     "text": [
      "1\n",
      "2\n",
      "3\n"
     ]
    }
   ],
   "source": [
    "def simplegeneratorobject():\n",
    "    yield 1\n",
    "    yield 2\n",
    "    yield 3\n",
    "    \n",
    "x=simplegeneratorobject()\n",
    "\n",
    "print(x.__next__())\n",
    "print(x.__next__())\n",
    "print(x.__next__())\n"
   ]
  },
  {
   "cell_type": "code",
   "execution_count": null,
   "metadata": {},
   "outputs": [],
   "source": [
    "# fabonacci series using generator\n"
   ]
  },
  {
   "cell_type": "code",
   "execution_count": 2,
   "metadata": {},
   "outputs": [
    {
     "name": "stdout",
     "output_type": "stream",
     "text": [
      "Using for loop:\n",
      "0\n",
      "1\n",
      "1\n",
      "2\n",
      "3\n",
      "5\n",
      "8\n"
     ]
    }
   ],
   "source": [
    "def fab(k):\n",
    "    a,b= 0,1\n",
    "    \n",
    "    while a<k:\n",
    "        yield a\n",
    "        a,b=b,a+b\n",
    "# f=fab(5) \n",
    "# print('Using object:')\n",
    "# print(f.__next__())\n",
    "# print(f.__next__())\n",
    "# print(f.__next__())\n",
    "# print(f.__next__())\n",
    "# print(f.__next__())\n",
    "\n",
    "\n",
    "print(\"Using for loop:\")\n",
    "for i in fab(9):\n",
    "    print(i)"
   ]
  },
  {
   "cell_type": "code",
   "execution_count": null,
   "metadata": {},
   "outputs": [],
   "source": [
    "# Yield in generator"
   ]
  },
  {
   "cell_type": "code",
   "execution_count": null,
   "metadata": {},
   "outputs": [],
   "source": [
    "# The yield statement suspends function’s execution and sends a value back to the caller, but retains enough state to \n",
    "# enable function to resume where it is left off. When resumed, the function continues execution immediately after \n",
    "# the last yield run. This allows its code to produce a series of values over time, rather than computing them at\n",
    "# once and sending them back like a list."
   ]
  },
  {
   "cell_type": "code",
   "execution_count": 46,
   "metadata": {},
   "outputs": [
    {
     "name": "stdout",
     "output_type": "stream",
     "text": [
      "1\n",
      "2\n",
      "3\n"
     ]
    }
   ],
   "source": [
    "def simpleGeneratorFun(): \n",
    "    yield 1\n",
    "    yield 2\n",
    "    yield 3\n",
    "  \n",
    "\n",
    "for value in simpleGeneratorFun():  \n",
    "    print(value) "
   ]
  },
  {
   "cell_type": "code",
   "execution_count": null,
   "metadata": {},
   "outputs": [],
   "source": []
  },
  {
   "cell_type": "code",
   "execution_count": null,
   "metadata": {},
   "outputs": [],
   "source": []
  }
 ],
 "metadata": {
  "kernelspec": {
   "display_name": "Python 3",
   "language": "python",
   "name": "python3"
  },
  "language_info": {
   "codemirror_mode": {
    "name": "ipython",
    "version": 3
   },
   "file_extension": ".py",
   "mimetype": "text/x-python",
   "name": "python",
   "nbconvert_exporter": "python",
   "pygments_lexer": "ipython3",
   "version": "3.8.2"
  }
 },
 "nbformat": 4,
 "nbformat_minor": 4
}
