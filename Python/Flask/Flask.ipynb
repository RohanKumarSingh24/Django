{
 "cells": [
  {
   "cell_type": "code",
   "execution_count": 17,
   "metadata": {},
   "outputs": [],
   "source": [
    "from pymongo import MongoClient"
   ]
  },
  {
   "cell_type": "code",
   "execution_count": 18,
   "metadata": {},
   "outputs": [],
   "source": [
    "Client=MongoClient('localhost',27017)\n",
    "db=Client.Employee_Details"
   ]
  },
  {
   "cell_type": "code",
   "execution_count": 19,
   "metadata": {},
   "outputs": [],
   "source": [
    "def employee(name,empid,salary,address):\n",
    "    \n",
    "    empd=db.Empdetails.find({'employee_id':empid}).count()\n",
    "    if empd==0:\n",
    "        print(empd)\n",
    "        Employee_d=db.Empdetails.insert_one({'Employee_name':name,'Employee_id':empid,'Employee_salary':salary,'Employee_add':address}).inserted_id\n",
    "        return ({'message':str(Employee_d),'status':True})\n",
    "    \n",
    "    else:\n",
    "        return ({'message':'Already Exist','status':False})"
   ]
  },
  {
   "cell_type": "code",
   "execution_count": 20,
   "metadata": {},
   "outputs": [
    {
     "name": "stdout",
     "output_type": "stream",
     "text": [
      " * Serving Flask app \"__main__\" (lazy loading)\n",
      " * Environment: production\n",
      "   WARNING: This is a development server. Do not use it in a production deployment.\n",
      "   Use a production WSGI server instead.\n",
      " * Debug mode: on\n"
     ]
    },
    {
     "name": "stderr",
     "output_type": "stream",
     "text": [
      " * Running on http://0.0.0.0:50000/ (Press CTRL+C to quit)\n",
      " * Restarting with stat\n"
     ]
    }
   ],
   "source": [
    "from flask import Flask\n",
    "from flask import jsonify,request\n",
    "import os\n",
    "\n",
    "app=Flask(__name__)\n",
    "@app.route('/employee/',methods=['POST'])\n",
    "\n",
    "def employee_details():\n",
    "    data=request.get_json()\n",
    "    Employee_name=data['Employee_name']\n",
    "    Employee_id=data['Employee_id']\n",
    "    Employee_salary=data['Employee_salary']\n",
    "    Employee_add=data['Employee_add']\n",
    "    result=employee(Employee_name,Employee_id,Employee_salary,Employee_add)\n",
    "    return jsonify({'result':result})\n",
    "\n",
    "if __name__ == '__main__':\n",
    "    \n",
    "    app.run(host=\"0.0.0.0\",port=50000,debug=True)\n",
    "    "
   ]
  },
  {
   "cell_type": "code",
   "execution_count": null,
   "metadata": {},
   "outputs": [],
   "source": []
  }
 ],
 "metadata": {
  "kernelspec": {
   "display_name": "Python 3",
   "language": "python",
   "name": "python3"
  },
  "language_info": {
   "codemirror_mode": {
    "name": "ipython",
    "version": 3
   },
   "file_extension": ".py",
   "mimetype": "text/x-python",
   "name": "python",
   "nbconvert_exporter": "python",
   "pygments_lexer": "ipython3",
   "version": "3.8.2"
  }
 },
 "nbformat": 4,
 "nbformat_minor": 4
}
