{
 "cells": [
  {
   "cell_type": "code",
   "execution_count": 2,
   "metadata": {},
   "outputs": [],
   "source": [
    "# Count highest votes"
   ]
  },
  {
   "cell_type": "code",
   "execution_count": 3,
   "metadata": {},
   "outputs": [],
   "source": [
    "input =['john','johnny','jackie','johnny','john','jackie','jamie','jamie', \n",
    "'john','johnny','jamie','johnny','john','jamie']  "
   ]
  },
  {
   "cell_type": "code",
   "execution_count": 4,
   "metadata": {},
   "outputs": [
    {
     "name": "stdout",
     "output_type": "stream",
     "text": [
      "Counter({'john': 4, 'johnny': 4, 'jamie': 4, 'jackie': 2})\n",
      "4\n",
      "['john', 'johnny', 'jamie']\n"
     ]
    },
    {
     "data": {
      "text/plain": [
       "'jamie'"
      ]
     },
     "execution_count": 4,
     "metadata": {},
     "output_type": "execute_result"
    }
   ],
   "source": [
    "from collections import Counter\n",
    "\n",
    "vote_counts=Counter(input)\n",
    "print(vote_counts)\n",
    "max_votes=max(vote_counts.values())\n",
    "print(max_votes)\n",
    "lst=[i for i in vote_counts.keys() if vote_counts[i]==max_votes]\n",
    "print(lst)\n",
    "sorted(lst)[0]"
   ]
  },
  {
   "cell_type": "code",
   "execution_count": null,
   "metadata": {},
   "outputs": [],
   "source": []
  },
  {
   "cell_type": "code",
   "execution_count": 5,
   "metadata": {},
   "outputs": [],
   "source": [
    "#Possible Words using given characters in Python"
   ]
  },
  {
   "cell_type": "code",
   "execution_count": 6,
   "metadata": {},
   "outputs": [
    {
     "name": "stdout",
     "output_type": "stream",
     "text": [
      "go\n",
      "me\n",
      "goal\n"
     ]
    }
   ],
   "source": [
    "def charcount(word):\n",
    "    dict={}\n",
    "    for i in word:\n",
    "        if i in dict:\n",
    "            dict[i]+=1\n",
    "        else:\n",
    "            dict[i]=1\n",
    "    return dict        \n",
    "def possible_word(lwords,charSet):\n",
    "    for word in lwords:\n",
    "        flag=1\n",
    "        char=charcount(word)\n",
    "        \n",
    "        for key in char:\n",
    "            if key not in charSet:\n",
    "                flag=0\n",
    "            else:\n",
    "            \n",
    "                if charSet.count(key)!= char[key]:\n",
    "                \n",
    "                    flag=0\n",
    "        if flag==1:\n",
    "            print(word)\n",
    "        \n",
    "        \n",
    "input = ['go', 'bat', 'me', 'eat', 'goal', 'boy', 'run']\n",
    "charSet = ['e', 'o', 'b', 'a', 'm', 'g', 'l'] \n",
    "possible_word(input,charSet)"
   ]
  },
  {
   "cell_type": "code",
   "execution_count": null,
   "metadata": {},
   "outputs": [],
   "source": []
  },
  {
   "cell_type": "code",
   "execution_count": 7,
   "metadata": {},
   "outputs": [
    {
     "name": "stdout",
     "output_type": "stream",
     "text": [
      "[1, 2, 3]\n",
      "No\n"
     ]
    }
   ],
   "source": [
    "input = 'xxxyyzzt'\n",
    "\n",
    "from collections import Counter\n",
    "dict=Counter(input)\n",
    "same=list(set(dict.values()))\n",
    "print(same)\n",
    "if len(same)>2:\n",
    "    print('No')\n",
    "elif len(same)==2 and same[1]-same[0]>1:\n",
    "    print('No')\n",
    "else:\n",
    "    print('Yes')"
   ]
  },
  {
   "cell_type": "code",
   "execution_count": null,
   "metadata": {},
   "outputs": [],
   "source": []
  },
  {
   "cell_type": "code",
   "execution_count": 8,
   "metadata": {},
   "outputs": [],
   "source": [
    "# Given an input string and a pattern, check if characters in the input string follows the same order as determined by\n",
    "# characters present in the pattern. Assume there won’t be any duplicate characters in the pattern."
   ]
  },
  {
   "cell_type": "code",
   "execution_count": 9,
   "metadata": {},
   "outputs": [
    {
     "data": {
      "text/plain": [
       "True"
      ]
     },
     "execution_count": 9,
     "metadata": {},
     "output_type": "execute_result"
    }
   ],
   "source": [
    "from collections import OrderedDict\n",
    "input = 'engineers rock' \n",
    "pattern = 'egr'\n",
    "def order(input,pattern):\n",
    "    dict=OrderedDict.fromkeys(input)\n",
    "    ptrlen=0\n",
    "    \n",
    "    for (key,value) in dict.items():\n",
    "        if key==pattern[ptrlen]:\n",
    "            ptrlen+=1\n",
    "    \n",
    "        if (ptrlen==(len(pattern))):\n",
    "        \n",
    "            return True\n",
    "    \n",
    "    return False   \n",
    "input = 'engineers rock' \n",
    "pattern = 'egr'\n",
    "order(input,pattern)"
   ]
  },
  {
   "cell_type": "code",
   "execution_count": null,
   "metadata": {},
   "outputs": [],
   "source": []
  },
  {
   "cell_type": "code",
   "execution_count": 10,
   "metadata": {},
   "outputs": [],
   "source": [
    "# count duplicate in dictionary"
   ]
  },
  {
   "cell_type": "code",
   "execution_count": 11,
   "metadata": {},
   "outputs": [
    {
     "name": "stdout",
     "output_type": "stream",
     "text": [
      "g\n",
      "e\n",
      "k\n",
      "s\n"
     ]
    }
   ],
   "source": [
    "str='geeksforgeeks'\n",
    "dict=Counter(str)\n",
    "\n",
    "for key,value in dict.items():\n",
    "    #print(key,value)\n",
    "    if value > 1:\n",
    "        print(key)\n",
    "        "
   ]
  },
  {
   "cell_type": "code",
   "execution_count": null,
   "metadata": {},
   "outputs": [],
   "source": []
  },
  {
   "cell_type": "code",
   "execution_count": 12,
   "metadata": {},
   "outputs": [],
   "source": [
    "#Remove all duplicates words from a given sentence"
   ]
  },
  {
   "cell_type": "code",
   "execution_count": 13,
   "metadata": {},
   "outputs": [
    {
     "name": "stdout",
     "output_type": "stream",
     "text": [
      "Python is great and Java also\n"
     ]
    }
   ],
   "source": [
    "s=\"Python is great and Java is also great\"\n",
    "\n",
    "l=s.split()\n",
    "k=[]\n",
    "for i in l:\n",
    "    if(s.count(i)>1 and  i not in k or s.count(i)==1):\n",
    "        k.append(i)\n",
    "print(\" \".join(k))        "
   ]
  },
  {
   "cell_type": "code",
   "execution_count": null,
   "metadata": {},
   "outputs": [],
   "source": []
  },
  {
   "cell_type": "code",
   "execution_count": null,
   "metadata": {},
   "outputs": [],
   "source": [
    "# Given two strings, find if we can make first string from second by deleting some characters from second and rearranging \n",
    "# remaining characters."
   ]
  },
  {
   "cell_type": "code",
   "execution_count": 52,
   "metadata": {},
   "outputs": [
    {
     "name": "stdout",
     "output_type": "stream",
     "text": [
      "Counter({'l': 2, 'H': 1, 'e': 1, 'o': 1})\n",
      "Counter({'e': 1, 'l': 1})\n",
      "Not possible\n"
     ]
    }
   ],
   "source": [
    "# str1 = 'ABHISHEKsinGH'\n",
    "# str2 = 'gfhfBHkooIHnfndSHEKsiAnG'\n",
    "# str1 = 'GeeksforGeeks'\n",
    "# str2 = 'rteksfoGrdsskGeggehes'\n",
    "str1='Hello'\n",
    "str2='dnaKfhelddf'\n",
    "from collections import Counter\n",
    "dict1=Counter(str1)\n",
    "print(dict1)\n",
    "dict2=Counter(str2)\n",
    "result=dict1 & dict2\n",
    "print(result)\n",
    "if result==dict1:\n",
    "    print('possible')\n",
    "else:\n",
    "    print('Not possible')"
   ]
  },
  {
   "cell_type": "code",
   "execution_count": null,
   "metadata": {},
   "outputs": [],
   "source": [
    "# print Second Largest element in dictionary"
   ]
  },
  {
   "cell_type": "code",
   "execution_count": 51,
   "metadata": {},
   "outputs": [
    {
     "name": "stdout",
     "output_type": "stream",
     "text": [
      "bbb\n"
     ]
    }
   ],
   "source": [
    "input = ['aaa','bbb','ccc','bbb','aaa','aaa'] \n",
    "from collections import Counter\n",
    "a=Counter(input)\n",
    "second_largets=sorted(a.values())\n",
    "values=second_largets[1]\n",
    "for key,value in a.items():\n",
    "    if value==values:\n",
    "        print(key)\n",
    "        "
   ]
  },
  {
   "cell_type": "code",
   "execution_count": 53,
   "metadata": {},
   "outputs": [],
   "source": [
    "# Dictionary Comphereshion\n"
   ]
  },
  {
   "cell_type": "code",
   "execution_count": 55,
   "metadata": {},
   "outputs": [
    {
     "data": {
      "text/plain": [
       "{'a': 1, 'b': 2, 'c': 3, 'd': 4, 'e': 5}"
      ]
     },
     "execution_count": 55,
     "metadata": {},
     "output_type": "execute_result"
    }
   ],
   "source": [
    "key=['a','b','c','d','e']\n",
    "value=[1,2,3,4,5]\n",
    "dict={k:v for (k,v) in zip(key,value)}\n",
    "dict"
   ]
  },
  {
   "cell_type": "code",
   "execution_count": null,
   "metadata": {},
   "outputs": [],
   "source": [
    "dict1={k:v**2 for }"
   ]
  },
  {
   "cell_type": "code",
   "execution_count": null,
   "metadata": {},
   "outputs": [],
   "source": []
  },
  {
   "cell_type": "code",
   "execution_count": null,
   "metadata": {},
   "outputs": [],
   "source": []
  },
  {
   "cell_type": "code",
   "execution_count": null,
   "metadata": {},
   "outputs": [],
   "source": []
  },
  {
   "cell_type": "code",
   "execution_count": null,
   "metadata": {},
   "outputs": [],
   "source": []
  },
  {
   "cell_type": "code",
   "execution_count": null,
   "metadata": {},
   "outputs": [],
   "source": []
  }
 ],
 "metadata": {
  "kernelspec": {
   "display_name": "Python 3",
   "language": "python",
   "name": "python3"
  },
  "language_info": {
   "codemirror_mode": {
    "name": "ipython",
    "version": 3
   },
   "file_extension": ".py",
   "mimetype": "text/x-python",
   "name": "python",
   "nbconvert_exporter": "python",
   "pygments_lexer": "ipython3",
   "version": "3.8.2"
  }
 },
 "nbformat": 4,
 "nbformat_minor": 4
}
