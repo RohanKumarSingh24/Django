{
 "cells": [
  {
   "cell_type": "code",
   "execution_count": 1,
   "metadata": {},
   "outputs": [],
   "source": [
    "# Lists in Python\n",
    "# Lists are one of the most powerful tools in python. They are just like the arrays declared in other languages.\n",
    "# But the most powerful thing is that list need not be always homogenous. A single list can contain strings, integers,\n",
    "# as well as objects. Lists can also be used for implementing stacks and queues. Lists are mutable, i.e., \n",
    "# they can be altered once declared.\n"
   ]
  },
  {
   "cell_type": "code",
   "execution_count": 2,
   "metadata": {},
   "outputs": [
    {
     "data": {
      "text/plain": [
       "11"
      ]
     },
     "execution_count": 2,
     "metadata": {},
     "output_type": "execute_result"
    }
   ],
   "source": [
    "l=[1,2,6,8,9,3,4,5,6,7,8]\n",
    "d=len(l)\n",
    "d"
   ]
  },
  {
   "cell_type": "code",
   "execution_count": 3,
   "metadata": {},
   "outputs": [],
   "source": [
    "# Adding Elements to a List\n",
    "\n",
    "# 1.append()\n",
    "# Elements can be added to the List by using built-in append() function. Only one element at a time can be added\n",
    "# to the list by using append() method, for addition of multiple elements with the append() method, loops are used. \n",
    "# Tuples can also be added to the List with the use of append method because tuples are immutable. Unlike Sets, \n",
    "# Lists can also be added to the existing list with the use of append() method.\n"
   ]
  },
  {
   "cell_type": "code",
   "execution_count": 4,
   "metadata": {},
   "outputs": [
    {
     "name": "stdout",
     "output_type": "stream",
     "text": [
      "18\n"
     ]
    },
    {
     "data": {
      "text/plain": [
       "[1,\n",
       " 2,\n",
       " 6,\n",
       " 8,\n",
       " 9,\n",
       " 3,\n",
       " 4,\n",
       " 5,\n",
       " 6,\n",
       " 7,\n",
       " 8,\n",
       " 10,\n",
       " 0,\n",
       " 1,\n",
       " 2,\n",
       " 3,\n",
       " (12, 13),\n",
       " [23, 24, 25, 26, 27, 28]]"
      ]
     },
     "execution_count": 4,
     "metadata": {},
     "output_type": "execute_result"
    }
   ],
   "source": [
    "#append()\n",
    "l.append(10)\n",
    "# using for loop append in list\n",
    "for i in range(0,4):\n",
    "    l.append(i)\n",
    "# tuple adding in list\n",
    "l.append((12,13))\n",
    "# list add in existing list\n",
    "l.append([23,24,25,26,27,28])\n",
    "d=len(l)\n",
    "print(d)\n",
    "l"
   ]
  },
  {
   "cell_type": "code",
   "execution_count": 5,
   "metadata": {},
   "outputs": [],
   "source": [
    "# 2.insert(position,value)\n",
    "# append() method only works for addition of elements at the end of the List, for addition of element at the\n",
    "# desired position, insert() method is used. Unlike append() which takes only one argument, insert() method \n",
    "# requires two arguments(position, value).\n"
   ]
  },
  {
   "cell_type": "code",
   "execution_count": 6,
   "metadata": {},
   "outputs": [
    {
     "name": "stdout",
     "output_type": "stream",
     "text": [
      "[1, 2, 6, 30, 8, 9, 3, 4, 5, 6, 7, 8, 10, 0, 1, 2, 3, (12, 13), [23, 24, 25, 26, 27, 28], 'rohan']\n",
      "20\n"
     ]
    }
   ],
   "source": [
    "l.insert(3,30)\n",
    "l.insert(19,'rohan')\n",
    "print(l)\n",
    "print(len(l))"
   ]
  },
  {
   "cell_type": "code",
   "execution_count": 7,
   "metadata": {},
   "outputs": [],
   "source": [
    "# Extend()\n",
    "# Other than append() and insert() methods, there’s one more method for Addition of elements, extend(), \n",
    "# this method is used to add multiple elements at the same time at the end of the list."
   ]
  },
  {
   "cell_type": "code",
   "execution_count": 8,
   "metadata": {},
   "outputs": [
    {
     "name": "stdout",
     "output_type": "stream",
     "text": [
      "22\n",
      "[1, 2, 6, 30, 8, 9, 3, 4, 5, 6, 7, 8, 10, 0, 1, 2, 3, (12, 13), [23, 24, 25, 26, 27, 28], 'rohan', 40, 50]\n"
     ]
    }
   ],
   "source": [
    "l.extend([40,50])\n",
    "print(len(l))\n",
    "print(l)"
   ]
  },
  {
   "cell_type": "code",
   "execution_count": 9,
   "metadata": {},
   "outputs": [],
   "source": [
    "# Removing Elements from the List\n",
    "\n"
   ]
  },
  {
   "cell_type": "code",
   "execution_count": 10,
   "metadata": {},
   "outputs": [],
   "source": [
    "# Remove()\n",
    "# Elements can be removed from the List by using built-in remove() function but an Error arises if element\n",
    "# doesn’t exist in the set. Remove() method only removes one element at a time, to remove range of elements, \n",
    "# iterator is used. The remove() method removes the specified item.\n",
    "# Note – Remove method in List will only remove the first occurrence of the searched element."
   ]
  },
  {
   "cell_type": "code",
   "execution_count": 11,
   "metadata": {},
   "outputs": [],
   "source": [
    "L = [1, 2, 3, 4, 5, 6,7, 8, 9, 10, 11,5, 12] "
   ]
  },
  {
   "cell_type": "code",
   "execution_count": 12,
   "metadata": {},
   "outputs": [
    {
     "data": {
      "text/plain": [
       "[1, 2, 3, 4, 6, 7, 8, 9, 10, 11, 5, 12]"
      ]
     },
     "execution_count": 12,
     "metadata": {},
     "output_type": "execute_result"
    }
   ],
   "source": [
    "L.remove(5)\n",
    "L"
   ]
  },
  {
   "cell_type": "code",
   "execution_count": 13,
   "metadata": {},
   "outputs": [],
   "source": [
    "# POP()\n",
    "# Pop() function can also be used to remove and return an element from the set, but by default \n",
    "# it removes only the last element of the set, to remove element from a specific position of the List,\n",
    "# index of the element is passed as an argument to the pop() method."
   ]
  },
  {
   "cell_type": "code",
   "execution_count": 14,
   "metadata": {},
   "outputs": [
    {
     "data": {
      "text/plain": [
       "12"
      ]
     },
     "execution_count": 14,
     "metadata": {},
     "output_type": "execute_result"
    }
   ],
   "source": [
    "L.pop()"
   ]
  },
  {
   "cell_type": "code",
   "execution_count": 15,
   "metadata": {},
   "outputs": [],
   "source": [
    "# Slicing of a List\n"
   ]
  },
  {
   "cell_type": "code",
   "execution_count": 16,
   "metadata": {},
   "outputs": [
    {
     "data": {
      "text/plain": [
       "['S', 'K', 'E', 'E', 'G', 'R', 'O', 'F', 'S', 'K', 'E', 'E', 'G']"
      ]
     },
     "execution_count": 16,
     "metadata": {},
     "output_type": "execute_result"
    }
   ],
   "source": [
    "l2 = ['G','E','E','K','S','F','O','R','G','E','E','K','S'] \n",
    "l2[::-1]"
   ]
  },
  {
   "cell_type": "code",
   "execution_count": 17,
   "metadata": {},
   "outputs": [
    {
     "data": {
      "text/plain": [
       "['E', 'E', 'E', 'E', 'F', 'G', 'G', 'K', 'K', 'O', 'R', 'S', 'S']"
      ]
     },
     "execution_count": 17,
     "metadata": {},
     "output_type": "execute_result"
    }
   ],
   "source": [
    "l2.sort()\n",
    "l2"
   ]
  },
  {
   "cell_type": "code",
   "execution_count": 18,
   "metadata": {},
   "outputs": [],
   "source": [
    "# FUNCTION\tDESCRIPTION\n",
    "# Append()\tAdd an element to the end of the list\n",
    "# Extend()\tAdd all elements of a list to the another list\n",
    "# Insert()\tInsert an item at the defined index\n",
    "# Remove()\tRemoves an item from the list\n",
    "# Pop()\tRemoves and returns an element at the given index\n",
    "# Clear()\tRemoves all items from the list\n",
    "# Index()\tReturns the index of the first matched item\n",
    "# Count()\tReturns the count of number of items passed as an argument\n",
    "# Sort()\tSort items in a list in ascending order\n",
    "# Reverse()\tReverse the order of items in the list\n",
    "# copy()\tReturns a copy of the list"
   ]
  },
  {
   "cell_type": "code",
   "execution_count": 19,
   "metadata": {},
   "outputs": [],
   "source": [
    "#l2.clear()"
   ]
  },
  {
   "cell_type": "code",
   "execution_count": 20,
   "metadata": {},
   "outputs": [
    {
     "data": {
      "text/plain": [
       "['S', 'S', 'R', 'O', 'K', 'K', 'G', 'G', 'F', 'E', 'E', 'E', 'E']"
      ]
     },
     "execution_count": 20,
     "metadata": {},
     "output_type": "execute_result"
    }
   ],
   "source": [
    "l2.reverse()\n",
    "l2"
   ]
  },
  {
   "cell_type": "code",
   "execution_count": 21,
   "metadata": {},
   "outputs": [
    {
     "data": {
      "text/plain": [
       "2"
      ]
     },
     "execution_count": 21,
     "metadata": {},
     "output_type": "execute_result"
    }
   ],
   "source": [
    "l2.count('K')"
   ]
  },
  {
   "cell_type": "code",
   "execution_count": 22,
   "metadata": {},
   "outputs": [],
   "source": [
    "# FUNCTION\tDESCRIPTION\n",
    "# reduce()\tapply a particular function passed in its argument to all of the list elements stores the \n",
    "#             intermediate result and only returns the final summation value\n",
    "# sum()\tSums up the numbers in the list\n",
    "# ord()\tReturns an integer representing the Unicode code point of the given Unicode character\n",
    "# cmp()\tThis function returns 1, if first list is “greater” than second list\n",
    "# max()\treturn maximum element of given list\n",
    "# min()\treturn minimum element of given list\n",
    "# all()\tReturns true if all element are true or if list is empty\n",
    "# any()\treturn true if any element of the list is true. if list is empty, return false\n",
    "# len()\tReturns length of the list or size of the list\n",
    "# enumerate()\tReturns enumerate object of list\n",
    "# accumulate()\tapply a particular function passed in its argument to all of the list elements returns a list \n",
    "#               containing the intermediate results\n",
    "# filter()\ttests if each element of a list true or not\n",
    "# map()\treturns a list of the res"
   ]
  },
  {
   "cell_type": "code",
   "execution_count": null,
   "metadata": {},
   "outputs": [],
   "source": []
  },
  {
   "cell_type": "code",
   "execution_count": 23,
   "metadata": {},
   "outputs": [],
   "source": [
    "# reduce(fun seq):\n",
    "# The reduce(fun,seq) function is used to apply a particular function passed in its argument to all of the \n",
    "# list elements mentioned in the sequence passed along.This function is defined in “functools” module.\n",
    "\n",
    "# Working : \n",
    "\n",
    "# 1.At first step, first two elements of sequence are picked and the result is obtained.\n",
    "# 2.Next step is to apply the same function to the previously attained result and the number just succeeding the \n",
    "#   second element and the result is again stored.\n",
    "# 3.This process continues till no more elements are left in the container.\n",
    "# 4.The final returned result is returned and printed on console."
   ]
  },
  {
   "cell_type": "code",
   "execution_count": 24,
   "metadata": {},
   "outputs": [
    {
     "data": {
      "text/plain": [
       "45"
      ]
     },
     "execution_count": 24,
     "metadata": {},
     "output_type": "execute_result"
    }
   ],
   "source": [
    "l3=[1,2,3,4,5,6,7,8,9]\n",
    "import functools\n",
    "functools.reduce(lambda x,y:x+y,l3)\n"
   ]
  },
  {
   "cell_type": "code",
   "execution_count": 25,
   "metadata": {},
   "outputs": [
    {
     "data": {
      "text/plain": [
       "'rohankumarsingh'"
      ]
     },
     "execution_count": 25,
     "metadata": {},
     "output_type": "execute_result"
    }
   ],
   "source": [
    "import functools\n",
    "import operator\n",
    "functools.reduce(operator.add,l3)\n",
    "functools.reduce(operator.mul,l3)\n",
    "functools.reduce(operator.add,['rohan','kumar','singh'])"
   ]
  },
  {
   "cell_type": "code",
   "execution_count": 26,
   "metadata": {},
   "outputs": [
    {
     "data": {
      "text/plain": [
       "362880"
      ]
     },
     "execution_count": 26,
     "metadata": {},
     "output_type": "execute_result"
    }
   ],
   "source": [
    "functools.reduce(lambda a,b: a if a>b else b,l3)\n",
    "functools.reduce(lambda a,b:a*b,l3)"
   ]
  },
  {
   "cell_type": "code",
   "execution_count": 27,
   "metadata": {},
   "outputs": [
    {
     "name": "stdout",
     "output_type": "stream",
     "text": [
      "1 A A\n"
     ]
    }
   ],
   "source": [
    "x,y,z=[f(i) for f,i in zip((int,str,str),input().split())]\n"
   ]
  },
  {
   "cell_type": "code",
   "execution_count": 28,
   "metadata": {},
   "outputs": [
    {
     "name": "stdout",
     "output_type": "stream",
     "text": [
      "1 2 3 4 5 6 7 8 9 0\n"
     ]
    }
   ],
   "source": [
    "x=[list(map(int,input().split()))]"
   ]
  },
  {
   "cell_type": "code",
   "execution_count": 29,
   "metadata": {},
   "outputs": [],
   "source": [
    "#accumulate vs reduce\n",
    "# Both reduce() and accumulate() can be used to calculate the summation of a sequence elements. \n",
    "# But there are differences in the implementation aspects in both of these.\n",
    "\n",
    "# reduce() is defined in “functools” module, accumulate() in “itertools” module.\n",
    "# reduce() stores the intermediate result and only returns the final summation value. Whereas, \n",
    "# accumulate() returns a iterator containing the intermediate results. The last number of the iterator \n",
    "# returned is summation value of the list.\n",
    "# reduce(fun,seq) takes function as 1st and sequence as 2nd argument. \n",
    "# In contrast accumulate(seq,fun) takes sequence as 1st argument and function as 2nd argument."
   ]
  },
  {
   "cell_type": "code",
   "execution_count": 30,
   "metadata": {},
   "outputs": [],
   "source": [
    "#accumulate(seq,fun):\n",
    "# it returns the intermediate result\n",
    "\n"
   ]
  },
  {
   "cell_type": "code",
   "execution_count": 31,
   "metadata": {},
   "outputs": [
    {
     "data": {
      "text/plain": [
       "[1, 3, 6, 10, 15, 21, 28, 36, 45]"
      ]
     },
     "execution_count": 31,
     "metadata": {},
     "output_type": "execute_result"
    }
   ],
   "source": [
    "import itertools\n",
    "import operator\n",
    "list(itertools.accumulate(l3,operator.add))"
   ]
  },
  {
   "cell_type": "code",
   "execution_count": 32,
   "metadata": {},
   "outputs": [
    {
     "name": "stdout",
     "output_type": "stream",
     "text": [
      "45\n"
     ]
    },
    {
     "data": {
      "text/plain": [
       "[1, 3, 6, 10, 15, 21, 28, 36, 45]"
      ]
     },
     "execution_count": 32,
     "metadata": {},
     "output_type": "execute_result"
    }
   ],
   "source": [
    "# reduce vs accumulate\n",
    "print(functools.reduce(lambda x,y:x+y,l3))\n",
    "list(itertools.accumulate(l3,lambda a,b:a+b))\n",
    "\n"
   ]
  },
  {
   "cell_type": "code",
   "execution_count": 33,
   "metadata": {},
   "outputs": [],
   "source": [
    "# sum\n",
    "# Returns an integer representing the Unicode code point of the given Unicode character\n",
    "\n",
    "#chr\n",
    "# returns character representing the unicode point of the given unicode integer"
   ]
  },
  {
   "cell_type": "code",
   "execution_count": 34,
   "metadata": {},
   "outputs": [
    {
     "data": {
      "text/plain": [
       "97"
      ]
     },
     "execution_count": 34,
     "metadata": {},
     "output_type": "execute_result"
    }
   ],
   "source": [
    "ord('a')"
   ]
  },
  {
   "cell_type": "code",
   "execution_count": 35,
   "metadata": {},
   "outputs": [
    {
     "data": {
      "text/plain": [
       "45"
      ]
     },
     "execution_count": 35,
     "metadata": {},
     "output_type": "execute_result"
    }
   ],
   "source": [
    "sum(l3)"
   ]
  },
  {
   "cell_type": "code",
   "execution_count": 36,
   "metadata": {},
   "outputs": [],
   "source": [
    "# max()\treturn maximum element of given list\n",
    "\n"
   ]
  },
  {
   "cell_type": "code",
   "execution_count": 37,
   "metadata": {},
   "outputs": [
    {
     "data": {
      "text/plain": [
       "9"
      ]
     },
     "execution_count": 37,
     "metadata": {},
     "output_type": "execute_result"
    }
   ],
   "source": [
    "max(l3)"
   ]
  },
  {
   "cell_type": "code",
   "execution_count": null,
   "metadata": {},
   "outputs": [],
   "source": []
  },
  {
   "cell_type": "code",
   "execution_count": 38,
   "metadata": {},
   "outputs": [],
   "source": [
    "# min()\treturn minimum element of given list\n"
   ]
  },
  {
   "cell_type": "code",
   "execution_count": 39,
   "metadata": {},
   "outputs": [
    {
     "data": {
      "text/plain": [
       "1"
      ]
     },
     "execution_count": 39,
     "metadata": {},
     "output_type": "execute_result"
    }
   ],
   "source": [
    "min(l3)"
   ]
  },
  {
   "cell_type": "code",
   "execution_count": 40,
   "metadata": {},
   "outputs": [],
   "source": [
    "# all()\tReturns true if all element are true or if list is empty\n",
    "# Returns true if all of the items are True (or if the iterable is empty).\n",
    "# All can be thought of as a sequence of AND operations on the provided iterables. \n",
    "# It also short circuit the execution i.e. stop the execution as soon as the result is known."
   ]
  },
  {
   "cell_type": "code",
   "execution_count": 41,
   "metadata": {},
   "outputs": [
    {
     "name": "stdout",
     "output_type": "stream",
     "text": [
      "[1, 5, 9, 13, 17, 21, 25, 29, 33, 37, 41, 45, 49, 53, 57, 61, 65, 69, 73, 77] "
     ]
    },
    {
     "data": {
      "text/plain": [
       "True"
      ]
     },
     "execution_count": 41,
     "metadata": {},
     "output_type": "execute_result"
    }
   ],
   "source": [
    "r1=[]\n",
    "r2=[]\n",
    "for i in range(1,21):\n",
    "    r1.append(4*i-3)\n",
    "print(r1,end=\" \") \n",
    "all(r1)"
   ]
  },
  {
   "cell_type": "code",
   "execution_count": 42,
   "metadata": {},
   "outputs": [
    {
     "name": "stdout",
     "output_type": "stream",
     "text": [
      "[True, True, True, True, True, True, True, True, True, True, True, True, True, True, True, True, True, True, True, True] "
     ]
    },
    {
     "data": {
      "text/plain": [
       "True"
      ]
     },
     "execution_count": 42,
     "metadata": {},
     "output_type": "execute_result"
    }
   ],
   "source": [
    "for i in range(0,20):\n",
    "    r2.append(r1[i]%2==1)\n",
    "    \n",
    "print(r2,end=\" \")  \n",
    "all(r2)\n",
    "all(r1)"
   ]
  },
  {
   "cell_type": "code",
   "execution_count": 43,
   "metadata": {},
   "outputs": [
    {
     "data": {
      "text/plain": [
       "True"
      ]
     },
     "execution_count": 43,
     "metadata": {},
     "output_type": "execute_result"
    }
   ],
   "source": [
    "list1=[False,True,False,True,False]\n",
    "list2=[True,True,True,True,True]\n",
    "list3=[False,False,False,False]\n",
    "list4=[]\n",
    "all(list1)\n",
    "all(list2)\n",
    "all(list3)\n",
    "all(list4)"
   ]
  },
  {
   "cell_type": "code",
   "execution_count": 44,
   "metadata": {},
   "outputs": [],
   "source": [
    "# Truth Table:\n",
    "#                          any    all\n",
    "#   All True               True   True\n",
    "\n",
    "#   All False              Flase  False\n",
    "  \n",
    "# one True other False     True   False\n",
    "\n",
    "# one False other True     True   False\n",
    "\n",
    "#   empty                  False  True"
   ]
  },
  {
   "cell_type": "code",
   "execution_count": 45,
   "metadata": {},
   "outputs": [],
   "source": [
    "# any()\treturn true if any element of the list is true. if list is empty, return false\n",
    "# Returns true if any of the items is True. It returns False if empty or all are false. \n",
    "# Any can be thought of as a sequence of OR operations on the provided iterables.\n",
    "# It short circuit the execution i.e. stop the execution as soon as the result is known."
   ]
  },
  {
   "cell_type": "code",
   "execution_count": 46,
   "metadata": {},
   "outputs": [
    {
     "data": {
      "text/plain": [
       "False"
      ]
     },
     "execution_count": 46,
     "metadata": {},
     "output_type": "execute_result"
    }
   ],
   "source": [
    "list1=[False,True,False,True,False]\n",
    "list2=[True,True,True,True,True]\n",
    "list3=[False,False,False,False]\n",
    "list4=[]\n",
    "any(list1)\n",
    "any(list2)\n",
    "any(list3)\n",
    "any(list4)"
   ]
  },
  {
   "cell_type": "code",
   "execution_count": null,
   "metadata": {},
   "outputs": [],
   "source": []
  },
  {
   "cell_type": "code",
   "execution_count": 47,
   "metadata": {},
   "outputs": [],
   "source": [
    "# enumerate()\tReturns enumerate object of list\n",
    "\n",
    "# Enumerate() method adds a counter to an iterable and returns it in a form of enumerate object. \n",
    "# This enumerate object can then be used directly in for loops or be converted into a list of tuples using list() method.\n"
   ]
  },
  {
   "cell_type": "code",
   "execution_count": 48,
   "metadata": {},
   "outputs": [
    {
     "data": {
      "text/plain": [
       "[(0, 'geeks'), (1, 'for'), (2, 'geeks'), (3, 'site')]"
      ]
     },
     "execution_count": 48,
     "metadata": {},
     "output_type": "execute_result"
    }
   ],
   "source": [
    "l=['geeks','for','geeks','site']\n",
    "list(enumerate(l))\n"
   ]
  },
  {
   "cell_type": "code",
   "execution_count": 49,
   "metadata": {},
   "outputs": [
    {
     "name": "stdout",
     "output_type": "stream",
     "text": [
      "1 sunday\n",
      "2 monday\n",
      "3 tuesday\n",
      "4 wenesday\n",
      "5 thursday\n",
      "6 friday\n",
      "7 saturday\n"
     ]
    }
   ],
   "source": [
    "week=['sunday','monday','tuesday','wenesday','thursday','friday','saturday']\n",
    "for i,week in enumerate(week,1):\n",
    "    print(i,week)"
   ]
  },
  {
   "cell_type": "code",
   "execution_count": 50,
   "metadata": {},
   "outputs": [],
   "source": [
    "# filter()\n",
    "# The filter() method filters the given sequence with the help of a function that tests each\n",
    "# element in the sequence to be true or not.\n",
    "\n",
    "# filter(function, sequence)\n",
    "# Parameters:\n",
    "# function: function that tests if each element of a \n",
    "# sequence true or not.\n",
    "# sequence: sequence which needs to be filtered, it can \n",
    "# be sets, lists, tuples, or containers of any iterators.\n",
    "# Returns:\n",
    "# returns an iterator that is already filtered."
   ]
  },
  {
   "cell_type": "code",
   "execution_count": 51,
   "metadata": {},
   "outputs": [
    {
     "data": {
      "text/plain": [
       "False"
      ]
     },
     "execution_count": 51,
     "metadata": {},
     "output_type": "execute_result"
    }
   ],
   "source": [
    "def vowel(variable):\n",
    "    index=['a','e','i','o','u']\n",
    "    for i in variable:\n",
    "        \n",
    "        if i in index:\n",
    "            return True\n",
    "            \n",
    "        else:\n",
    "            return False\n",
    "            \n",
    "variable=['b','c','d','e','f','g','h','j','k','l','m','n','p','q','r']\n",
    "#variable=['b']\n",
    "vowel(variable)\n",
    "   "
   ]
  },
  {
   "cell_type": "code",
   "execution_count": 52,
   "metadata": {},
   "outputs": [
    {
     "data": {
      "text/plain": [
       "['e', 'e']"
      ]
     },
     "execution_count": 52,
     "metadata": {},
     "output_type": "execute_result"
    }
   ],
   "source": [
    "def fun(var):\n",
    "    vowel=['a','e','i','o','u']\n",
    "    if var in vowel:\n",
    "        return True\n",
    "    else:\n",
    "        return False\n",
    "var=['b','c','d','e','f','g','h','e','j','k','l','m','n'] \n",
    "\n",
    "# a=(filter(fun,var))\n",
    "# for i in a:\n",
    "#     print(i)\n",
    "\n",
    "list(filter(fun,var))"
   ]
  },
  {
   "cell_type": "code",
   "execution_count": 53,
   "metadata": {},
   "outputs": [
    {
     "name": "stdout",
     "output_type": "stream",
     "text": [
      "[1, 3, 5, 13]\n",
      "[0, 2, 8]\n"
     ]
    }
   ],
   "source": [
    "seq = [0, 1, 2, 3, 5, 8, 13] \n",
    "a=filter(lambda x: x%2!=0,seq)\n",
    "print(list(a))\n",
    "b=filter(lambda y: y%2==0,seq)\n",
    "print(list(b))"
   ]
  },
  {
   "cell_type": "code",
   "execution_count": 54,
   "metadata": {},
   "outputs": [],
   "source": [
    "# map()\n",
    "# map() function returns a map object(which is an iterator) of the results after applying the given \n",
    "# function to each item of a given iterable (list, tuple etc.)\n",
    "\n",
    "# Syntax :\n",
    "\n",
    "# map(fun, iter)\n",
    "# fun : It is a function to which map passes each element of given iterable.\n",
    "# iter : It is a iterable which is to be mapped.\n",
    "\n",
    "# NOTE : You can pass one or more iterable to the map() function.\n",
    "\n",
    "# Returns :\n",
    "\n",
    "# Returns a list of the results after applying the given function  \n",
    "# to each item of a given iterable (list, tuple etc.) \n",
    "\n",
    "# NOTE : The returned value from map() (map object) then can be passed to functions like list() \n",
    "#       (to create a list), set() (to create a set) .\n",
    " "
   ]
  },
  {
   "cell_type": "code",
   "execution_count": 55,
   "metadata": {},
   "outputs": [
    {
     "data": {
      "text/plain": [
       "[2, 4, 6, 8, 10]"
      ]
     },
     "execution_count": 55,
     "metadata": {},
     "output_type": "execute_result"
    }
   ],
   "source": [
    "#example:\n",
    "def add(a):\n",
    "    return a+a\n",
    "\n",
    "a=[1,2,3,4,5]\n",
    "\n",
    "b=map(add,a)\n",
    "# for i in b:\n",
    "#     print(i)\n",
    "list(b)"
   ]
  },
  {
   "cell_type": "code",
   "execution_count": 56,
   "metadata": {},
   "outputs": [
    {
     "data": {
      "text/plain": [
       "[2, 4, 6, 8, 10, 12, 14, 16]"
      ]
     },
     "execution_count": 56,
     "metadata": {},
     "output_type": "execute_result"
    }
   ],
   "source": [
    "number=[1,2,3,4,5,6,7,8]\n",
    "a=map(lambda x: x+x,number)\n",
    "list(a)"
   ]
  },
  {
   "cell_type": "code",
   "execution_count": 57,
   "metadata": {},
   "outputs": [
    {
     "data": {
      "text/plain": [
       "[6, 10, 12, 8, 8, 8, 15, 9]"
      ]
     },
     "execution_count": 57,
     "metadata": {},
     "output_type": "execute_result"
    }
   ],
   "source": [
    "# more than two iterator\n",
    "number1=[1,2,3,4,5,6,7,8]\n",
    "number2=[5,8,9,4,3,2,8,1]\n",
    "c=map(lambda x,y:x+y,number1,number2)\n",
    "list(c)"
   ]
  },
  {
   "cell_type": "code",
   "execution_count": 58,
   "metadata": {},
   "outputs": [
    {
     "data": {
      "text/plain": [
       "[['g', 'e', 'e', 'k', 's'], ['f', 'o', 'r'], ['g', 'e', 'e', 'k', 's']]"
      ]
     },
     "execution_count": 58,
     "metadata": {},
     "output_type": "execute_result"
    }
   ],
   "source": [
    "s=['geeks','for','geeks']\n",
    "\n",
    "g=map(list,s)\n",
    "list(g)"
   ]
  },
  {
   "cell_type": "code",
   "execution_count": 59,
   "metadata": {},
   "outputs": [
    {
     "name": "stdout",
     "output_type": "stream",
     "text": [
      "5\n",
      "3\n",
      "5\n"
     ]
    }
   ],
   "source": [
    "s=['geeks','for','geeks']\n",
    "for i in s:\n",
    "    print(len(i))"
   ]
  },
  {
   "cell_type": "code",
   "execution_count": 60,
   "metadata": {},
   "outputs": [],
   "source": [
    "# Python map() function applies another function on a given iterable (List/String/Dictionary, etc.)\n",
    "# and returns map object. In simple words, it traverses the list, calls the function for each element, and returns the results."
   ]
  },
  {
   "cell_type": "code",
   "execution_count": null,
   "metadata": {},
   "outputs": [],
   "source": []
  },
  {
   "cell_type": "code",
   "execution_count": 61,
   "metadata": {},
   "outputs": [],
   "source": [
    "#lambda function():\n",
    "\n",
    "# In Python, anonymous function means that a function is without a name. As we already know that def keyword is \n",
    "# used to define the normal functions and the lambda keyword is used to create anonymous functions. It has the following syntax:\n",
    "\n",
    "# lambda arguments: expression\n",
    "\n",
    "# This function can have any number of arguments but only one expression, which is evaluated and returned.\n",
    "# One is free to use lambda functions wherever function objects are required.\n",
    "# You need to keep in your knowledge that lambda functions are syntactically restricted to a single expression.\n",
    "# It has various uses in particular fields of programming besides other types of expressions in functions."
   ]
  },
  {
   "cell_type": "code",
   "execution_count": 72,
   "metadata": {},
   "outputs": [
    {
     "name": "stdout",
     "output_type": "stream",
     "text": [
      "1000\n",
      "1000\n"
     ]
    }
   ],
   "source": [
    "def cuberoot(a):\n",
    "    return a*a*a\n",
    "print(cuberoot(10))\n",
    "\n",
    "a=lambda x: x*x*x\n",
    "print(a(10))\n",
    "\n"
   ]
  },
  {
   "cell_type": "code",
   "execution_count": null,
   "metadata": {},
   "outputs": [],
   "source": [
    "# Without using Lambda : Here, both of them returns the cube of a given number. But, while using def, we needed \n",
    "#                        to define a function with a name cube and needed to pass a value to it. After execution, \n",
    "#                        we also needed to return the result from where the function was called using the return keyword.\n",
    "    \n",
    "\n",
    "# Using Lambda : Lambda definition does not include a “return” statement, it always contains an expression which is \n",
    "#                returned. We can also put a lambda definition anywhere a function is expected, and we don’t have to\n",
    "#                assign it to a variable at all. This is the simplicity of lambda functions."
   ]
  },
  {
   "cell_type": "code",
   "execution_count": null,
   "metadata": {},
   "outputs": [],
   "source": [
    "#Lambda functions can be used along with built-in functions like filter(), map() and reduce()."
   ]
  },
  {
   "cell_type": "code",
   "execution_count": null,
   "metadata": {},
   "outputs": [],
   "source": [
    "# Use of lambda () with filter()"
   ]
  },
  {
   "cell_type": "code",
   "execution_count": 85,
   "metadata": {},
   "outputs": [
    {
     "data": {
      "text/plain": [
       "[2, 10, 4, 8, 6]"
      ]
     },
     "execution_count": 85,
     "metadata": {},
     "output_type": "execute_result"
    }
   ],
   "source": [
    "a=[2,10,4,8,9,3,5,6,7,13,15,17]\n",
    "list(filter(lambda x: x%2==0,a))\n",
    "\n"
   ]
  },
  {
   "cell_type": "code",
   "execution_count": null,
   "metadata": {},
   "outputs": [],
   "source": [
    "# Use of lambda() with map()"
   ]
  },
  {
   "cell_type": "code",
   "execution_count": 87,
   "metadata": {},
   "outputs": [
    {
     "data": {
      "text/plain": [
       "[4, 20, 8, 16, 18, 6, 10, 12, 14, 26, 30, 34]"
      ]
     },
     "execution_count": 87,
     "metadata": {},
     "output_type": "execute_result"
    }
   ],
   "source": [
    "a=[2,10,4,8,9,3,5,6,7,13,15,17]\n",
    "list(map(lambda x: x+x,a))"
   ]
  },
  {
   "cell_type": "code",
   "execution_count": 88,
   "metadata": {},
   "outputs": [],
   "source": [
    "# Use of lambda() with reduce()"
   ]
  },
  {
   "cell_type": "code",
   "execution_count": 100,
   "metadata": {},
   "outputs": [
    {
     "data": {
      "text/plain": [
       "90"
      ]
     },
     "execution_count": 100,
     "metadata": {},
     "output_type": "execute_result"
    }
   ],
   "source": [
    "a=[2,4,6,8,10,12,14,16,18]\n",
    "import functools\n",
    "functools.reduce(lambda x,y: x+y,a)"
   ]
  },
  {
   "cell_type": "code",
   "execution_count": 105,
   "metadata": {},
   "outputs": [
    {
     "data": {
      "text/plain": [
       "[2, 6, 12, 20, 30, 42, 56, 72, 90]"
      ]
     },
     "execution_count": 105,
     "metadata": {},
     "output_type": "execute_result"
    }
   ],
   "source": [
    "import itertools\n",
    "list(itertools.accumulate(a,lambda x,y:x+y))"
   ]
  },
  {
   "cell_type": "code",
   "execution_count": null,
   "metadata": {},
   "outputs": [],
   "source": []
  },
  {
   "cell_type": "code",
   "execution_count": 108,
   "metadata": {},
   "outputs": [
    {
     "data": {
      "text/plain": [
       "[1, 2, 4, 3, 5, 0, 0, 0]"
      ]
     },
     "execution_count": 108,
     "metadata": {},
     "output_type": "execute_result"
    }
   ],
   "source": [
    "arr = [1, 2, 0, 4, 3, 0, 5, 0] \n",
    "[nonzero for nonzero in arr if nonzero!=0]+[zero for zero in arr if zero==0 ]"
   ]
  },
  {
   "cell_type": "code",
   "execution_count": null,
   "metadata": {},
   "outputs": [],
   "source": []
  },
  {
   "cell_type": "code",
   "execution_count": null,
   "metadata": {},
   "outputs": [],
   "source": []
  },
  {
   "cell_type": "code",
   "execution_count": null,
   "metadata": {},
   "outputs": [],
   "source": []
  },
  {
   "cell_type": "code",
   "execution_count": null,
   "metadata": {},
   "outputs": [],
   "source": []
  },
  {
   "cell_type": "code",
   "execution_count": null,
   "metadata": {},
   "outputs": [],
   "source": []
  },
  {
   "cell_type": "code",
   "execution_count": null,
   "metadata": {},
   "outputs": [],
   "source": []
  }
 ],
 "metadata": {
  "kernelspec": {
   "display_name": "Python 3",
   "language": "python",
   "name": "python3"
  },
  "language_info": {
   "codemirror_mode": {
    "name": "ipython",
    "version": 3
   },
   "file_extension": ".py",
   "mimetype": "text/x-python",
   "name": "python",
   "nbconvert_exporter": "python",
   "pygments_lexer": "ipython3",
   "version": "3.8.2"
  }
 },
 "nbformat": 4,
 "nbformat_minor": 4
}
