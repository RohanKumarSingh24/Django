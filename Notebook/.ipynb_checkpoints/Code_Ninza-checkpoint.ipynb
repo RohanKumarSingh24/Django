{
 "cells": [
  {
   "cell_type": "code",
   "execution_count": 8,
   "metadata": {},
   "outputs": [
    {
     "name": "stdout",
     "output_type": "stream",
     "text": [
      "1\n",
      "2\n",
      "3\n",
      "4\n",
      "5\n",
      "6\n",
      "7\n",
      "8\n",
      "9\n",
      "10\n",
      "11\n",
      "12\n",
      "13\n",
      "14\n",
      "15\n",
      "16\n"
     ]
    }
   ],
   "source": [
    "mat=[[1,2,3,4],\n",
    "     [5,6,7,8],\n",
    "     [9,10,11,12],\n",
    "     [13,14,15,16]\n",
    "    ]\n",
    "for i in range(len(mat)):\n",
    "    for j in range(len(mat)):\n",
    "        print(mat[i][j])"
   ]
  },
  {
   "cell_type": "code",
   "execution_count": 22,
   "metadata": {},
   "outputs": [
    {
     "name": "stdout",
     "output_type": "stream",
     "text": [
      "1 2 3 4 8 12 16 15 14 13 5 6 7 12 10 9 "
     ]
    }
   ],
   "source": [
    "def spiral(R,C,a):\n",
    "    k=0\n",
    "    l=0\n",
    "    while((k<R) and (l<C)):\n",
    "        \n",
    "        for i in range(l,C):\n",
    "            print(a[k][i],end=\" \")\n",
    "        k=k+1\n",
    "        \n",
    "        for i in range(k,R):\n",
    "            print(a[i][l-1],end=\" \")\n",
    "        C=C-1    \n",
    "        if(k<R):\n",
    "            for i in range((C-1),(l-1),-1):\n",
    "                print(a[R-1][i],end=\" \")\n",
    "            R=R-1          \n",
    "a=[[1,2,3,4],\n",
    "     [5,6,7,8],\n",
    "     [9,10,11,12],\n",
    "     [13,14,15,16]\n",
    "    ]\n",
    "R=4\n",
    "C=4\n",
    "spiral(R,C,a)\n",
    "        \n",
    "    "
   ]
  },
  {
   "cell_type": "code",
   "execution_count": 1,
   "metadata": {},
   "outputs": [
    {
     "name": "stdout",
     "output_type": "stream",
     "text": [
      "1\n",
      "3\n",
      "4\n",
      "6\n",
      "7\n",
      "9\n",
      "10\n",
      "12\n"
     ]
    }
   ],
   "source": [
    "class Node():\n",
    "    \n",
    "    def __init__(self,data):\n",
    "        \n",
    "        self.data=data\n",
    "        self.next=None\n",
    "        \n",
    "class Linklist():\n",
    "    \n",
    "    def __init__(self):\n",
    "        \n",
    "        self.head=None\n",
    "        \n",
    "        \n",
    "    def InsertAtFirst(self,new_data):\n",
    "        \n",
    "        new_node=Node(new_data)\n",
    "        new_node.next=self.head\n",
    "        self.head=new_node\n",
    "        \n",
    "        \n",
    "    def InsertAtBetween(self,prev_node,new_data):\n",
    "        \n",
    "        if (self.head is None):\n",
    "            print(\"previous node present in given link list\")\n",
    "            \n",
    "            return\n",
    "        new_node=Node(new_data)\n",
    "        new_node.next=prev_node.next\n",
    "        prev_node.next=new_node\n",
    "        \n",
    "        \n",
    "    def InsertAtLast(self,new_data):\n",
    "        \n",
    "        if (self.head is None):\n",
    "            self.head=new_node\n",
    "            return\n",
    "        last=self.head\n",
    "        \n",
    "        new_node=Node(new_data)\n",
    "        \n",
    "        while(last.next):\n",
    "            last=last.next\n",
    "        last.next=new_node\n",
    "        \n",
    "    def PrintLinklist(self):\n",
    "        \n",
    "        temp=self.head\n",
    "        while(temp):\n",
    "            print(temp.data)\n",
    "            temp=temp.next\n",
    "            \n",
    "            \n",
    "    def DeleteLinklistByKey(self,key):\n",
    "        \n",
    "        temp=self.head\n",
    "        if temp is not None:\n",
    "            if temp.data==key:\n",
    "                temp.next=self.head\n",
    "                temp=None\n",
    "                return\n",
    "            \n",
    "            \n",
    "        while (temp is not None):\n",
    "            if temp.data==key:\n",
    "                break\n",
    "            prev=temp\n",
    "            temp=temp.next\n",
    "            \n",
    "        if temp==None:\n",
    "            return\n",
    "        \n",
    "        prev.next=temp.next\n",
    "        temp=None\n",
    "        \n",
    "        \n",
    "            \n",
    "if __name__=='__main__': \n",
    "    \n",
    "    l=Linklist()\n",
    "    l.InsertAtFirst(4)\n",
    "    l.InsertAtFirst(3)\n",
    "    l.InsertAtFirst(1)\n",
    "    l.InsertAtLast(7)\n",
    "    l.InsertAtLast(9)\n",
    "    l.InsertAtLast(10)\n",
    "    l.InsertAtLast(12)\n",
    "    l.InsertAtBetween(l.head.next.next,6)\n",
    "    l.PrintLinklist()\n",
    "        "
   ]
  },
  {
   "cell_type": "code",
   "execution_count": 13,
   "metadata": {},
   "outputs": [
    {
     "name": "stdout",
     "output_type": "stream",
     "text": [
      "{'a': 2, 'b': 7, 'c': 3, 'd': 3, 'e': 4, 'f': 2, 'h': 3, 'j': 2, 'i': 2, 'k': 2}\n",
      "b\n"
     ]
    }
   ],
   "source": [
    "def freqcount(a):\n",
    "    dict={}\n",
    "    for i in a:\n",
    "        if i in dict:\n",
    "            dict[i]+=1\n",
    "        else:\n",
    "            dict[i]=1\n",
    "    print(dict)        \n",
    "    print(max(dict,key=dict.get))\n",
    "a='ababbbcccdddbbbeeeeffhjhjhikik'\n",
    "freqcount(a)"
   ]
  },
  {
   "cell_type": "code",
   "execution_count": 4,
   "metadata": {},
   "outputs": [
    {
     "name": "stdout",
     "output_type": "stream",
     "text": [
      "h\n",
      "e\n",
      "l\n"
     ]
    },
    {
     "ename": "IndexError",
     "evalue": "string index out of range",
     "output_type": "error",
     "traceback": [
      "\u001b[0;31m---------------------------------------------------------------------------\u001b[0m",
      "\u001b[0;31mIndexError\u001b[0m                                Traceback (most recent call last)",
      "\u001b[0;32m<ipython-input-4-d1754e3a75c5>\u001b[0m in \u001b[0;36m<module>\u001b[0;34m()\u001b[0m\n\u001b[1;32m      1\u001b[0m \u001b[0ma\u001b[0m\u001b[0;34m=\u001b[0m\u001b[0;34m'hello'\u001b[0m\u001b[0;34m\u001b[0m\u001b[0;34m\u001b[0m\u001b[0m\n\u001b[1;32m      2\u001b[0m \u001b[0;32mfor\u001b[0m \u001b[0mi\u001b[0m \u001b[0;32min\u001b[0m \u001b[0mrange\u001b[0m\u001b[0;34m(\u001b[0m\u001b[0mlen\u001b[0m\u001b[0;34m(\u001b[0m\u001b[0ma\u001b[0m\u001b[0;34m)\u001b[0m\u001b[0;34m)\u001b[0m\u001b[0;34m:\u001b[0m\u001b[0;34m\u001b[0m\u001b[0;34m\u001b[0m\u001b[0m\n\u001b[0;32m----> 3\u001b[0;31m     \u001b[0;32mif\u001b[0m \u001b[0ma\u001b[0m\u001b[0;34m[\u001b[0m\u001b[0mi\u001b[0m\u001b[0;34m]\u001b[0m\u001b[0;34m!=\u001b[0m\u001b[0ma\u001b[0m\u001b[0;34m[\u001b[0m\u001b[0mi\u001b[0m\u001b[0;34m+\u001b[0m\u001b[0;36m1\u001b[0m\u001b[0;34m]\u001b[0m\u001b[0;34m:\u001b[0m\u001b[0;34m\u001b[0m\u001b[0;34m\u001b[0m\u001b[0m\n\u001b[0m\u001b[1;32m      4\u001b[0m         \u001b[0mprint\u001b[0m\u001b[0;34m(\u001b[0m\u001b[0ma\u001b[0m\u001b[0;34m[\u001b[0m\u001b[0mi\u001b[0m\u001b[0;34m]\u001b[0m\u001b[0;34m)\u001b[0m\u001b[0;34m\u001b[0m\u001b[0;34m\u001b[0m\u001b[0m\n\u001b[1;32m      5\u001b[0m \u001b[0;34m\u001b[0m\u001b[0m\n",
      "\u001b[0;31mIndexError\u001b[0m: string index out of range"
     ]
    }
   ],
   "source": [
    "a='hello'\n",
    "for i in range(len(a)):\n",
    "    if a[i]!=a[i+1]:\n",
    "        print(a[i])\n",
    "    "
   ]
  },
  {
   "cell_type": "code",
   "execution_count": 9,
   "metadata": {},
   "outputs": [
    {
     "name": "stdout",
     "output_type": "stream",
     "text": [
      "Counter({'l': 2, 'h': 1, 'e': 1, 'o': 1})\n"
     ]
    },
    {
     "data": {
      "text/plain": [
       "'h'"
      ]
     },
     "execution_count": 9,
     "metadata": {},
     "output_type": "execute_result"
    }
   ],
   "source": [
    "from collections import Counter\n",
    "def firstNonRep(word):\n",
    "    c =Counter(word)\n",
    "    print(c)\n",
    "    for char in word:\n",
    "        if c[char] == 1:\n",
    "            return char\n",
    "        else:\n",
    "            return char\n",
    "firstNonRep(word='hello')        "
   ]
  },
  {
   "cell_type": "code",
   "execution_count": 2,
   "metadata": {},
   "outputs": [
    {
     "name": "stdout",
     "output_type": "stream",
     "text": [
      "Counter({'ayush': 3, 'harshit': 2, 'iti': 2, 'abhishek': 1, 'deepak': 1})\n",
      "harshit\n",
      "ayush\n",
      "harshit\n",
      "ayush\n",
      "iti\n",
      "ayush\n",
      "iti\n"
     ]
    }
   ],
   "source": [
    "from collections import Counter\n",
    "def firstNonRep(word):\n",
    "    c =Counter(word)\n",
    "    print(c)\n",
    "    for char in word:\n",
    "        if c[char] >= 2:\n",
    "            print(char)\n",
    "   # print(char)    \n",
    "lis=['abhishek','harshit','ayush','harshit','ayush','iti','deepak','ayush','iti']  \n",
    "#word='hello'\n",
    "firstNonRep(lis)        "
   ]
  },
  {
   "cell_type": "code",
   "execution_count": 11,
   "metadata": {},
   "outputs": [
    {
     "name": "stdout",
     "output_type": "stream",
     "text": [
      "5\n",
      "6\n",
      "5\n",
      "6\n",
      "6\n"
     ]
    }
   ],
   "source": [
    "arr=['rohan','rakesh','rohit','ritesh','rupesh']\n",
    "for i in range(len(arr)):\n",
    "    print(len(arr[i]))"
   ]
  },
  {
   "cell_type": "code",
   "execution_count": 25,
   "metadata": {},
   "outputs": [
    {
     "name": "stdout",
     "output_type": "stream",
     "text": [
      "1\n",
      "2\n",
      "3\n",
      "4\n",
      "5\n",
      "7\n",
      "4\n",
      "2\n",
      "9\n",
      "7\n"
     ]
    }
   ],
   "source": [
    "\n",
    "def removedup(arr,l):\n",
    "    if l==0 and l==1:\n",
    "        return l\n",
    "    j=0\n",
    "    for i in range(l-1):\n",
    "        if arr[i]!=arr[i+1]:\n",
    "            arr[j]=arr[i]\n",
    "            j=j+1\n",
    "    \n",
    "    arr[j]=arr[l-1]\n",
    "    j=j+1\n",
    "    return j  \n",
    "\n",
    "\n",
    "arr=[1,2,2,3,4,4,5,7,4,2,9,7]\n",
    "l=len(arr)\n",
    "l=removedup(arr,l)\n",
    "\n",
    "for i in range(0,l):\n",
    "    print(arr[i])\n",
    "\n"
   ]
  },
  {
   "cell_type": "code",
   "execution_count": 30,
   "metadata": {},
   "outputs": [
    {
     "name": "stdout",
     "output_type": "stream",
     "text": [
      "{1: 1, 2: 1, 5: 1, 7: 1, 4: 1}\n",
      "[1, 2, 5, 7, 4]\n"
     ]
    }
   ],
   "source": [
    "def removedupunsorted(arr):\n",
    "    d=[]\n",
    "    dict={}\n",
    "    for i in arr:\n",
    "        if i not in dict.keys():\n",
    "            d.append(i)\n",
    "            dict[i]=1\n",
    "    print(dict)        \n",
    "    print(d)   \n",
    "    \n",
    "arr = [1, 2, 5, 1, 7, 2, 4, 2] \n",
    "removedupunsorted(arr)     "
   ]
  },
  {
   "cell_type": "code",
   "execution_count": 1,
   "metadata": {},
   "outputs": [
    {
     "ename": "SyntaxError",
     "evalue": "invalid syntax (<ipython-input-1-8b32957deaf1>, line 6)",
     "output_type": "error",
     "traceback": [
      "\u001b[0;36m  File \u001b[0;32m\"<ipython-input-1-8b32957deaf1>\"\u001b[0;36m, line \u001b[0;32m6\u001b[0m\n\u001b[0;31m    if\u001b[0m\n\u001b[0m       ^\u001b[0m\n\u001b[0;31mSyntaxError\u001b[0m\u001b[0;31m:\u001b[0m invalid syntax\n"
     ]
    }
   ],
   "source": [
    "def app(a,k):\n",
    "    n=len(a)\n",
    "    temp=a[0]\n",
    "    for i in range(0,n):\n",
    "        if abs(temp[i]-a[i])==k:\n",
    "            if \n",
    "            \n",
    "        \n",
    "        "
   ]
  },
  {
   "cell_type": "code",
   "execution_count": 8,
   "metadata": {},
   "outputs": [
    {
     "name": "stdout",
     "output_type": "stream",
     "text": [
      "Input the integer10\n",
      "Enter the choice 1,24\n",
      "-1\n"
     ]
    }
   ],
   "source": [
    "n=int(input(\"Input the integer\"))\n",
    "ch=int(input(\"Enter the choice 1,2\"))\n",
    "\n",
    "if ch==1:\n",
    "    sum=0\n",
    "    for i in range(1,n+1):\n",
    "        sum=sum+i\n",
    "    print(sum)\n",
    "    \n",
    "elif ch==2:\n",
    "    mul=1\n",
    "    for i in range(1,n+1):\n",
    "        mul=mul*i\n",
    "    print(mul)\n",
    "    \n",
    "else:\n",
    "    print(\"-1\")"
   ]
  },
  {
   "cell_type": "code",
   "execution_count": 30,
   "metadata": {},
   "outputs": [
    {
     "name": "stdout",
     "output_type": "stream",
     "text": [
      "10\n",
      "5\n",
      "11\n",
      "14\n",
      "17\n",
      "23\n",
      "26\n",
      "29\n"
     ]
    }
   ],
   "source": [
    "n=int(input())\n",
    "if (n !=0):\n",
    "    for i in range(1,n+1):\n",
    "        s=3*i+2\n",
    "        if s % 4 ==0:\n",
    "            i=i+1\n",
    "        else:\n",
    "            print(s)"
   ]
  },
  {
   "cell_type": "code",
   "execution_count": 2,
   "metadata": {},
   "outputs": [
    {
     "name": "stdout",
     "output_type": "stream",
     "text": [
      "10\n",
      "5\n",
      "11\n",
      "14\n",
      "17\n",
      "23\n",
      "26\n",
      "29\n",
      "35\n",
      "38\n",
      "41\n"
     ]
    }
   ],
   "source": [
    "n=int(input())\n",
    "i=1\n",
    "count=0\n",
    "while(i<=n or count<n):\n",
    "    s=3*i+2\n",
    "    if s % 4 !=0:\n",
    "        count=count+1\n",
    "        print(s)\n",
    "    i=i+1  "
   ]
  },
  {
   "cell_type": "code",
   "execution_count": 35,
   "metadata": {},
   "outputs": [
    {
     "name": "stdout",
     "output_type": "stream",
     "text": [
      "1234\n",
      "4321\n"
     ]
    }
   ],
   "source": [
    "def reverse(n):\n",
    "    a=int(str(x)[::-1])\n",
    "    return a\n",
    "\n",
    "\n",
    "n=int(input())\n",
    "result = reverse(n)\n",
    "print(result)"
   ]
  },
  {
   "cell_type": "code",
   "execution_count": null,
   "metadata": {},
   "outputs": [],
   "source": []
  },
  {
   "cell_type": "code",
   "execution_count": 25,
   "metadata": {},
   "outputs": [
    {
     "name": "stdout",
     "output_type": "stream",
     "text": [
      "Enter number: 1234\n",
      "Reverse of the number: 4321\n"
     ]
    }
   ],
   "source": [
    "n=int(input(\"Enter number: \"))\n",
    "rev=0\n",
    "while(n>0):\n",
    "    dig=n%10\n",
    "    rev=rev*10+dig\n",
    "    n=n//10\n",
    "print(\"Reverse of the number:\",rev)"
   ]
  },
  {
   "cell_type": "code",
   "execution_count": null,
   "metadata": {},
   "outputs": [],
   "source": []
  },
  {
   "cell_type": "code",
   "execution_count": 2,
   "metadata": {},
   "outputs": [
    {
     "name": "stdout",
     "output_type": "stream",
     "text": [
      "4321\n"
     ]
    }
   ],
   "source": [
    "x=1234\n",
    "a=int(str(x)[::-1])\n",
    "print(a)\n"
   ]
  },
  {
   "cell_type": "code",
   "execution_count": 4,
   "metadata": {},
   "outputs": [
    {
     "name": "stdout",
     "output_type": "stream",
     "text": [
      "4\n"
     ]
    }
   ],
   "source": [
    "# Binary to decimal\n",
    "\n",
    "def binarytodecimal(b):\n",
    "    decimal=0\n",
    "    \n",
    "    i=0\n",
    "    while(b!=0):\n",
    "        dec=b%10\n",
    "        decimal=decimal+dec*pow(2,i)\n",
    "        b=b//10\n",
    "        i +=1\n",
    "    print(decimal)\n",
    "    \n",
    "b=100\n",
    "binarytodecimal(b)"
   ]
  },
  {
   "cell_type": "code",
   "execution_count": 1,
   "metadata": {},
   "outputs": [
    {
     "name": "stdout",
     "output_type": "stream",
     "text": [
      "1 1 1 "
     ]
    }
   ],
   "source": [
    "# decimal to binary\n",
    "\n",
    "def dectobin(n):\n",
    "    if(n>1):\n",
    "        dectobin(n//2)\n",
    "    print(n%2,end=\" \")\n",
    "x=7\n",
    "dectobin(7)"
   ]
  },
  {
   "cell_type": "code",
   "execution_count": 10,
   "metadata": {},
   "outputs": [
    {
     "name": "stdout",
     "output_type": "stream",
     "text": [
      "3\n"
     ]
    }
   ],
   "source": [
    "import math\n",
    "from math import sqrt\n",
    "r=int(sqrt(10))\n",
    "print(r)"
   ]
  },
  {
   "cell_type": "code",
   "execution_count": 16,
   "metadata": {},
   "outputs": [
    {
     "name": "stdout",
     "output_type": "stream",
     "text": [
      "3\n"
     ]
    }
   ],
   "source": [
    "# without math function\n",
    "x=10\n",
    "sqr=int(x**0.5)\n",
    "print(sqr)"
   ]
  },
  {
   "cell_type": "code",
   "execution_count": 78,
   "metadata": {},
   "outputs": [
    {
     "name": "stdout",
     "output_type": "stream",
     "text": [
      "10000 B\n",
      "17400\n"
     ]
    }
   ],
   "source": [
    "# n=int(input())\n",
    "# s=str(input())\n",
    "# c=s.upper()\n",
    "# print(n , c)\n",
    "n,c=[f(i) for f,i in zip((int, str), input().split())]\n",
    "\n",
    "hra=((20/100)*n)\n",
    "da=((50/100)* n)\n",
    "pf=((11/100)* n)\n",
    "# totalSalary = n + hra + da -pf\n",
    "# print(totalSalary)\n",
    "if c=='A':\n",
    "    allow=1700\n",
    "    totalSalary = n + hra + da + allow-pf\n",
    "    print(round(totalSalary))\n",
    "elif c=='B':\n",
    "    allow=1500\n",
    "    totalSalary = n + hra + da + allow-pf\n",
    "    print(round(totalSalary))\n",
    "else:\n",
    "    allow=1300\n",
    "    totalSalary = n + hra + da + allow-pf\n",
    "    print(round(totalSalary))\n",
    "\n"
   ]
  },
  {
   "cell_type": "code",
   "execution_count": 76,
   "metadata": {},
   "outputs": [
    {
     "name": "stdout",
     "output_type": "stream",
     "text": [
      "10000 A\n",
      "10000 A\n"
     ]
    }
   ],
   "source": [
    "#[f(i) for f,i in zip((int, str), input().split())]\n",
    "x ,y=[n(c) for n,c in zip((int, str), input().split())]\n",
    "print(x ,y)"
   ]
  },
  {
   "cell_type": "code",
   "execution_count": 51,
   "metadata": {},
   "outputs": [
    {
     "name": "stdout",
     "output_type": "stream",
     "text": [
      "a\n",
      "['a']\n"
     ]
    }
   ],
   "source": [
    "x=list(map(str,input().split())) \n",
    "print(x)"
   ]
  },
  {
   "cell_type": "code",
   "execution_count": 79,
   "metadata": {},
   "outputs": [
    {
     "data": {
      "text/plain": [
       "[0, 2, 4, 6, 8]"
      ]
     },
     "execution_count": 79,
     "metadata": {},
     "output_type": "execute_result"
    }
   ],
   "source": [
    "[x for x in range(0,10) if (x % 2)==0 ]"
   ]
  },
  {
   "cell_type": "code",
   "execution_count": 103,
   "metadata": {},
   "outputs": [],
   "source": [
    "# sum of odd and even\n",
    "\n"
   ]
  },
  {
   "cell_type": "code",
   "execution_count": 107,
   "metadata": {},
   "outputs": [
    {
     "name": "stdout",
     "output_type": "stream",
     "text": [
      "1234\n",
      "4 6\n"
     ]
    }
   ],
   "source": [
    "# sum of odd ane even by Place\n",
    "def sumofevenodd(n):\n",
    "    sum_even=0\n",
    "    sum_odd=0\n",
    "    c=1\n",
    "    while(n!=0):\n",
    "        if (c % 2 ==0):\n",
    "            sum_even=sum_even+ (n % 10)\n",
    "        else:\n",
    "            sum_odd=sum_odd +(n % 10)\n",
    "        n=n//10\n",
    "        c+=1\n",
    "    print(sum_even,sum_odd)    \n",
    "    \n",
    "n=int(input())\n",
    "sumofevenodd(n)"
   ]
  },
  {
   "cell_type": "code",
   "execution_count": 119,
   "metadata": {},
   "outputs": [
    {
     "name": "stdout",
     "output_type": "stream",
     "text": [
      "1234\n",
      "6 4\n"
     ]
    }
   ],
   "source": [
    "sum of odd and even by number\n",
    "\n",
    "def sumofevenodd(n):\n",
    "    sum_even=0\n",
    "    sum_odd=0\n",
    "    while(n!=0):\n",
    "        digit=n%10\n",
    "        if digit % 2==0:\n",
    "            sum_even=sum_even+digit\n",
    "        else:\n",
    "            sum_odd=sum_odd+digit\n",
    "        n=n//10\n",
    "    print(sum_even,sum_odd)    \n",
    "        \n",
    "     \n",
    "    \n",
    "n=int(input())\n",
    "sumofevenodd(n)"
   ]
  },
  {
   "cell_type": "code",
   "execution_count": 129,
   "metadata": {},
   "outputs": [
    {
     "name": "stdout",
     "output_type": "stream",
     "text": [
      "1 2\n"
     ]
    },
    {
     "ename": "ValueError",
     "evalue": "invalid literal for int() with base 10: '1 2'",
     "output_type": "error",
     "traceback": [
      "\u001b[0;31m---------------------------------------------------------------------------\u001b[0m",
      "\u001b[0;31mValueError\u001b[0m                                Traceback (most recent call last)",
      "\u001b[0;32m<ipython-input-129-90764500f1c1>\u001b[0m in \u001b[0;36m<module>\u001b[0;34m()\u001b[0m\n\u001b[0;32m----> 1\u001b[0;31m \u001b[0mx\u001b[0m\u001b[0;34m,\u001b[0m\u001b[0my\u001b[0m\u001b[0;34m=\u001b[0m\u001b[0;34m(\u001b[0m\u001b[0mint\u001b[0m\u001b[0;34m(\u001b[0m\u001b[0minput\u001b[0m\u001b[0;34m(\u001b[0m\u001b[0;34m)\u001b[0m\u001b[0;34m)\u001b[0m\u001b[0;34m)\u001b[0m\u001b[0;34m.\u001b[0m\u001b[0msplit\u001b[0m\u001b[0;34m(\u001b[0m\u001b[0;34m)\u001b[0m\u001b[0;34m\u001b[0m\u001b[0;34m\u001b[0m\u001b[0m\n\u001b[0m",
      "\u001b[0;31mValueError\u001b[0m: invalid literal for int() with base 10: '1 2'"
     ]
    }
   ],
   "source": [
    "x,y=(int(input())).split()"
   ]
  },
  {
   "cell_type": "code",
   "execution_count": 133,
   "metadata": {},
   "outputs": [
    {
     "name": "stdout",
     "output_type": "stream",
     "text": [
      "3 4\n",
      "81\n"
     ]
    }
   ],
   "source": [
    "x, n = [int(x) for x in input().split()] \n",
    "result=x**n\n",
    "print(result)\n"
   ]
  },
  {
   "cell_type": "code",
   "execution_count": 160,
   "metadata": {},
   "outputs": [
    {
     "name": "stdout",
     "output_type": "stream",
     "text": [
      "    1\n",
      "   111\n",
      "  11111\n",
      " 1111111\n",
      "111111111\n"
     ]
    }
   ],
   "source": [
    "# pattern\n",
    "n=5\n",
    "i=1\n",
    "while(i<=n):\n",
    "    print((n-i)*\" \" + (i-1)*'1'+(i*'1'))\n",
    "    i=i+1\n"
   ]
  },
  {
   "cell_type": "code",
   "execution_count": 140,
   "metadata": {},
   "outputs": [
    {
     "name": "stdout",
     "output_type": "stream",
     "text": [
      "1\n",
      "11\n",
      "111\n",
      "1111\n",
      "11111\n"
     ]
    }
   ],
   "source": [
    "i=1\n",
    "n=5\n",
    "while i<=n:\n",
    "    print(i*'1')\n",
    "    i=i+1      "
   ]
  },
  {
   "cell_type": "code",
   "execution_count": 8,
   "metadata": {},
   "outputs": [
    {
     "name": "stdout",
     "output_type": "stream",
     "text": [
      "0\n"
     ]
    }
   ],
   "source": [
    "n=int(input())\n",
    "i=0\n",
    "while(n>i):\n",
    "    if (i==0):\n",
    "        print(1)\n",
    "    else:\n",
    "        print(i+i*10**i)\n",
    "    i+=1\n",
    "      \n",
    "    \n"
   ]
  },
  {
   "cell_type": "code",
   "execution_count": 5,
   "metadata": {},
   "outputs": [
    {
     "name": "stdout",
     "output_type": "stream",
     "text": [
      "1\n",
      "1\n"
     ]
    }
   ],
   "source": [
    "n=int(input())\n",
    "if(n>=0):\n",
    "    print(1)\n",
    "else:\n",
    "    for i in range(0,n):\n",
    "        if (i==0):\n",
    "            print(1)\n",
    "        else:\n",
    "            p=i+i*10**i\n",
    "            print(p)"
   ]
  },
  {
   "cell_type": "code",
   "execution_count": 12,
   "metadata": {},
   "outputs": [
    {
     "name": "stdout",
     "output_type": "stream",
     "text": [
      "4\n",
      "1\n",
      "11\n",
      "202\n",
      "3003\n"
     ]
    }
   ],
   "source": [
    "n=int(input())\n",
    "i=2\n",
    "print(1)\n",
    "while(i<=n):\n",
    "    for j in range(1,i+1):\n",
    "        if(j==1 or j==i):\n",
    "            print(i-1,end='')\n",
    "        else:\n",
    "            print(0,end='')\n",
    "    print()       \n",
    "    i+=1    "
   ]
  },
  {
   "cell_type": "code",
   "execution_count": 18,
   "metadata": {},
   "outputs": [
    {
     "name": "stdout",
     "output_type": "stream",
     "text": [
      "\n",
      "B\n",
      "CC\n",
      "DDD\n"
     ]
    }
   ],
   "source": [
    "alp=65\n",
    "n=4\n",
    "for i in range(0,n):\n",
    "\n",
    "    for j in range(0,i):\n",
    "        print(chr(alp),end='')\n",
    "    \n",
    "    print()\n",
    "    alp+=1"
   ]
  },
  {
   "cell_type": "code",
   "execution_count": 43,
   "metadata": {},
   "outputs": [
    {
     "name": "stdout",
     "output_type": "stream",
     "text": [
      "7\n",
      "A\n",
      "BB\n",
      "CCC\n",
      "DDDD\n",
      "EEEEE\n",
      "FFFFFF\n",
      "GGGGGGG\n"
     ]
    }
   ],
   "source": [
    "n=int(input())\n",
    "alp=65\n",
    "for i in range(1,n+1):\n",
    "    if i==1:\n",
    "        print('A')\n",
    "    else:\n",
    "        print(chr(alp)*i)\n",
    "    alp+=1\n",
    "    "
   ]
  },
  {
   "cell_type": "code",
   "execution_count": 15,
   "metadata": {},
   "outputs": [
    {
     "data": {
      "text/plain": [
       "'A'"
      ]
     },
     "execution_count": 15,
     "metadata": {},
     "output_type": "execute_result"
    }
   ],
   "source": [
    "chr(65)"
   ]
  },
  {
   "cell_type": "code",
   "execution_count": 49,
   "metadata": {},
   "outputs": [
    {
     "name": "stdout",
     "output_type": "stream",
     "text": [
      "4\n",
      "1\n",
      "12\n",
      "123\n",
      "1234\n"
     ]
    }
   ],
   "source": [
    "n=int(input())\n",
    "for i in range(1,n+1):\n",
    "    num=1\n",
    "    for j in range(0,i):\n",
    "        print(num,end=\"\")\n",
    "        num=num+1 \n",
    "    print()    \n",
    "    \n"
   ]
  },
  {
   "cell_type": "code",
   "execution_count": 61,
   "metadata": {},
   "outputs": [
    {
     "name": "stdout",
     "output_type": "stream",
     "text": [
      "5\n",
      "12345\n",
      "1234\n",
      "123\n",
      "12\n",
      "1\n"
     ]
    }
   ],
   "source": [
    "n=int(input())\n",
    "for i in range(n,0,-1):\n",
    "    num=1\n",
    "    for j in range(0,i):\n",
    "        print(num,end=\"\")\n",
    "        num=num+1 \n",
    "    print()    "
   ]
  },
  {
   "cell_type": "code",
   "execution_count": 72,
   "metadata": {},
   "outputs": [
    {
     "name": "stdout",
     "output_type": "stream",
     "text": [
      "T\n",
      "7 3 8\n",
      "T\n",
      "6\n"
     ]
    }
   ],
   "source": [
    "s=str(input())\n",
    "x,y,z=[int(x) for x in input().split()]\n",
    "avg=(x+y+z)//3\n",
    "print(s); print(avg)"
   ]
  },
  {
   "cell_type": "code",
   "execution_count": 78,
   "metadata": {},
   "outputs": [
    {
     "name": "stdout",
     "output_type": "stream",
     "text": [
      "1\n",
      "-1\n"
     ]
    }
   ],
   "source": [
    "s=str(input())\n",
    "if s.isupper():\n",
    "    print('1')\n",
    "elif s.islower():\n",
    "    print('0')\n",
    "else:\n",
    "    print('-1')\n",
    "    "
   ]
  },
  {
   "cell_type": "code",
   "execution_count": 82,
   "metadata": {},
   "outputs": [
    {
     "name": "stdout",
     "output_type": "stream",
     "text": [
      "6\n",
      "12\n"
     ]
    }
   ],
   "source": [
    "def sumeven(n):\n",
    "    sum_even=0\n",
    "    for i in range(1,n+1):\n",
    "        if (i % 2 ==0):\n",
    "            sum_even=sum_even+i\n",
    "    print(sum_even)    \n",
    "n=int(input())\n",
    "sumeven(n)"
   ]
  },
  {
   "cell_type": "code",
   "execution_count": 108,
   "metadata": {},
   "outputs": [
    {
     "name": "stdout",
     "output_type": "stream",
     "text": [
      "0 100 20\n",
      "0 -17\n",
      "20 -6\n",
      "40 4\n",
      "60 15\n",
      "80 26\n",
      "100 37\n"
     ]
    }
   ],
   "source": [
    "S,E,W=[int(S) for S in input().split()]\n",
    "for i in range(S,E+1,W):\n",
    "    c=((i-32)/1.8)\n",
    "    print( i,int(c))"
   ]
  },
  {
   "cell_type": "code",
   "execution_count": 124,
   "metadata": {},
   "outputs": [
    {
     "name": "stdout",
     "output_type": "stream",
     "text": [
      "6\n",
      "8\n"
     ]
    }
   ],
   "source": [
    "def fab(n):\n",
    "    if (n<0):\n",
    "        print(\"Incorrect Input\")\n",
    "    elif (n==1):\n",
    "        return 1\n",
    "    elif (n==2):\n",
    "        return 1\n",
    "    else:\n",
    "        return (fab(n-1)+fab(n-2))\n",
    "    \n",
    "n=int(input())    \n",
    "print(fab(n))     \n",
    "    "
   ]
  },
  {
   "cell_type": "code",
   "execution_count": 126,
   "metadata": {},
   "outputs": [
    {
     "name": "stdout",
     "output_type": "stream",
     "text": [
      "4\n"
     ]
    },
    {
     "data": {
      "text/plain": [
       "3"
      ]
     },
     "execution_count": 126,
     "metadata": {},
     "output_type": "execute_result"
    }
   ],
   "source": [
    "def fabonacci(n):\n",
    "    a=1\n",
    "    b=1\n",
    "    if (n<0):\n",
    "        print(\"Incorrect Input\")\n",
    "    elif (n==0):\n",
    "        return a\n",
    "    elif (n==1):\n",
    "        return b\n",
    "    else:\n",
    "        for i in range(2,n):\n",
    "            c=a+b\n",
    "            a=b\n",
    "            b=c\n",
    "        return b\n",
    "n=int(input())\n",
    "fabonacci(n)\n",
    "    "
   ]
  },
  {
   "cell_type": "code",
   "execution_count": 144,
   "metadata": {},
   "outputs": [],
   "source": [
    "# prime number\n",
    "# n=int(input())\n",
    "# for i in range(2,n):\n",
    "#     if i==2:\n",
    "#         print(i)    \n",
    "#     elif (i % 2!=0):\n",
    "#         print(i)\n",
    "n=2\n",
    "for i in range(2,n):\n",
    "    if n % i!=0:\n",
    "        print(i)"
   ]
  },
  {
   "cell_type": "code",
   "execution_count": 143,
   "metadata": {},
   "outputs": [
    {
     "name": "stdout",
     "output_type": "stream",
     "text": [
      "true\n",
      "false\n"
     ]
    }
   ],
   "source": [
    "def isPrime(n): \n",
    "  \n",
    "    # Corner case \n",
    "    if n <= 1: \n",
    "        return False\n",
    "  \n",
    "    # Check from 2 to n-1 \n",
    "    for i in range(2, n): \n",
    "        if n % i == 0: \n",
    "            return False; \n",
    "  \n",
    "    return True\n",
    "  \n",
    "# Driver Program to test above function \n",
    "print(\"true\") if isPrime(2) else print(\"false\") \n",
    "print(\"true\") if isPrime(14) else print(\"false\") \n"
   ]
  },
  {
   "cell_type": "code",
   "execution_count": 6,
   "metadata": {},
   "outputs": [
    {
     "name": "stdout",
     "output_type": "stream",
     "text": [
      "5\n",
      "0\n",
      "1\n",
      "2\n",
      "3\n",
      "4\n",
      "5\n",
      "6\n",
      "7\n",
      "8\n"
     ]
    }
   ],
   "source": [
    "import numpy as np\n",
    "\n",
    "for i in range(0,9):\n",
    "    print(i)"
   ]
  },
  {
   "cell_type": "code",
   "execution_count": 10,
   "metadata": {},
   "outputs": [
    {
     "data": {
      "text/plain": [
       "numpy.ndarray"
      ]
     },
     "execution_count": 10,
     "metadata": {},
     "output_type": "execute_result"
    }
   ],
   "source": [
    "import numpy as np\n",
    "a=np.arange(0,5,5/9)\n",
    "type(a)\n",
    "# for i in range(0,len(a)):\n",
    "#     print(round(a[i],2))"
   ]
  },
  {
   "cell_type": "code",
   "execution_count": 15,
   "metadata": {},
   "outputs": [
    {
     "name": "stdout",
     "output_type": "stream",
     "text": [
      "2\n",
      "2\n",
      "3\n",
      "6\n",
      "6\n",
      "6\n",
      "7\n",
      "9\n"
     ]
    }
   ],
   "source": [
    "a=[3,6,7,5,3,5,6,2,9,1]\n",
    "b=[2,7,0,9,3,6,0,6,2,6]\n",
    "team_A=sorted(a)\n",
    "team_B=sorted(b)\n",
    "count_a=0\n",
    "count_b=0\n",
    "for i in team_B:\n",
    "    if i in team_A:\n",
    "        if\n",
    "    \n",
    "        \n",
    "    "
   ]
  },
  {
   "cell_type": "code",
   "execution_count": 22,
   "metadata": {},
   "outputs": [
    {
     "name": "stdout",
     "output_type": "stream",
     "text": [
      "{1: 2, 2: 1}\n",
      "1 =>\n",
      "1  is in a\n",
      ".\n",
      "1 =>\n",
      "1  is in a\n",
      ".\n",
      "{3: 1, 2: 1, 5: 1, 4: 1}\n",
      "2 =>\n",
      "2  is in a\n",
      ".\n",
      "4 =>\n",
      "4  is in a\n",
      ".\n",
      "2 =>\n",
      ".\n",
      "{3: 1, 2: 2, 4: 1}\n",
      "2 =>\n",
      "2  is in a\n",
      ".\n",
      "4 =>\n",
      "4  is in a\n",
      ".\n",
      "2 =>\n",
      "2  is in a\n",
      ".\n",
      "{3: 1, 2: 1, 5: 1, 4: 1}\n",
      "2 =>\n",
      "2  is in a\n",
      ".\n",
      "3 =>\n",
      "3  is in a\n",
      ".\n",
      "2 =>\n",
      ".\n"
     ]
    }
   ],
   "source": [
    "def f(a, b):\n",
    "    a_app = {}\n",
    "    for i in a:\n",
    "        if not a_app.get(i):\n",
    "            a_app[i] = 0\n",
    "        a_app[i] += 1\n",
    "    print (a_app)\n",
    "    for i in b:\n",
    "        print (i, '=>',)\n",
    "        if a_app.get(i) and a_app[i] > 0:\n",
    "            a_app[i] -= 1\n",
    "            print (i, ' is in a',)\n",
    "        print ('.')\n",
    "\n",
    "f([1,1,2],[1,1])\n",
    "f([3,2,5,4],[2,4,2])\n",
    "f([3,2,2,4],[2,4,2])\n",
    "f([3,2,5,4],[2,3,2])\n"
   ]
  },
  {
   "cell_type": "code",
   "execution_count": 24,
   "metadata": {},
   "outputs": [
    {
     "data": {
      "text/plain": [
       "1"
      ]
     },
     "execution_count": 24,
     "metadata": {},
     "output_type": "execute_result"
    }
   ],
   "source": [
    "d= {'a': 1, 'b': 2}\n",
    "d.get('a')"
   ]
  },
  {
   "cell_type": "code",
   "execution_count": null,
   "metadata": {},
   "outputs": [],
   "source": []
  }
 ],
 "metadata": {
  "kernelspec": {
   "display_name": "Python 3",
   "language": "python",
   "name": "python3"
  },
  "language_info": {
   "codemirror_mode": {
    "name": "ipython",
    "version": 3
   },
   "file_extension": ".py",
   "mimetype": "text/x-python",
   "name": "python",
   "nbconvert_exporter": "python",
   "pygments_lexer": "ipython3",
   "version": "3.6.6"
  }
 },
 "nbformat": 4,
 "nbformat_minor": 2
}
